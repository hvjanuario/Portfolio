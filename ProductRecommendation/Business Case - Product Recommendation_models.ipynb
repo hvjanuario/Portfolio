{
 "cells": [
  {
   "cell_type": "markdown",
   "metadata": {},
   "source": [
    "# Business Case: Product recommendations model"
   ]
  },
  {
   "cell_type": "markdown",
   "metadata": {},
   "source": [
    "This notebook is related to the **Business Case 5 - Product Recommendation**, in the 'Business Cases with Data Science' course, Nova IMS.\n",
    "\n",
    "May - 2020\n",
    "\n",
    "Project duration: **3 weeks**\n",
    "\n",
    "All project deliverables were prepared by a team of 4:\n",
    "\n",
    "* Alexandra Ordina\n",
    "* Bojan Stavrijk\n",
    "* Henrique Januário\n",
    "* Hugo Mentzingen"
   ]
  },
  {
   "cell_type": "markdown",
   "metadata": {},
   "source": [
    "<div class=\"alert alert-block alert-info\">\n",
    "\n",
    "The project follows **CRISP-DM process model** and includes the following stages:\n",
    "\n",
    "* Business understanding\n",
    "* Data understanding\n",
    "* Data preparation\n",
    "* Modeling\n",
    "* Evaluation\n",
    "* Deployment\n",
    "\n",
    "Presentation of the case can be found here: **link to document**\n",
    "</div>"
   ]
  },
  {
   "cell_type": "markdown",
   "metadata": {},
   "source": [
    "**Business goal:**\n",
    "Taking advantage of their past client data build a recommendation system for customers. More specifically, the goal is to recommend a set of products at login based on what the client is likely to purchase and a “Did you forget?” menu at checkout, with a set of products that the client is likely to have forgotten. The suggestions should be based on each individual customer and not on buying history or patterns for other customer profiles.\n",
    "\n",
    "**Data Mining goals and criteria:**\n",
    " - Predictive model\n",
    " - Performance metrics: As a measure for success, we expect that the customer will purchase around 25% of the basket that is recommended to him or her\n",
    " \n",
    " \n",
    "<div class=\"alert alert-block alert-info\">\n",
    "\n",
    "**Solution:**\n",
    "\n",
    "Predictive model: Google pagerank\n",
    "\n",
    "Testing strategy: Monte Carlo cross-validation\n",
    "\n",
    "Performance metrics: F1, precision, recall\n",
    "</div>\n",
    "\n",
    "\n",
    "**Dataset:**\n",
    "\n",
    "*BigBasketDataset.tsv:*\n",
    "* **Member:** Member ID\n",
    "* **Order:** Order identification number\n",
    "* **SKU:** Stock-Keeping Unit number (product code)\n",
    "* **Created on:** Time stamp, when the order was placed\n",
    "* **Description:** Designation of the SKU"
   ]
  },
  {
   "cell_type": "markdown",
   "metadata": {},
   "source": [
    "Import the necessary libraries"
   ]
  },
  {
   "cell_type": "code",
   "execution_count": 110,
   "metadata": {},
   "outputs": [],
   "source": [
    "import pandas as pd\n",
    "import numpy as np\n",
    "import networkx as nx\n",
    "import matplotlib.pyplot as plt\n",
    "import random as rd\n",
    "\n",
    "from itertools import islice, cycle, combinations\n",
    "from datetime import datetime, timedelta\n",
    "from sklearn.model_selection import ShuffleSplit"
   ]
  },
  {
   "cell_type": "code",
   "execution_count": 111,
   "metadata": {},
   "outputs": [],
   "source": [
    "import warnings\n",
    "warnings.filterwarnings('ignore')"
   ]
  },
  {
   "cell_type": "markdown",
   "metadata": {},
   "source": [
    "For a better organization, the **functions** in this Business Case will be declared in the beginning of each problem."
   ]
  },
  {
   "cell_type": "markdown",
   "metadata": {},
   "source": [
    "Read the data file:"
   ]
  },
  {
   "cell_type": "code",
   "execution_count": 112,
   "metadata": {},
   "outputs": [],
   "source": [
    "path = \"https://drive.google.com/uc?export=download&id=1cZ_46eU0p2ajH2VQ-q8HsyG7ol7pcnko\"\n",
    "data = pd.read_csv(path, sep='\\t')"
   ]
  },
  {
   "cell_type": "markdown",
   "metadata": {},
   "source": [
    "### Data exploration"
   ]
  },
  {
   "cell_type": "markdown",
   "metadata": {},
   "source": [
    "Total number of customers and data shape"
   ]
  },
  {
   "cell_type": "code",
   "execution_count": 113,
   "metadata": {},
   "outputs": [
    {
     "data": {
      "text/plain": [
       "106"
      ]
     },
     "execution_count": 113,
     "metadata": {},
     "output_type": "execute_result"
    }
   ],
   "source": [
    "data['Member'].nunique()"
   ]
  },
  {
   "cell_type": "code",
   "execution_count": 114,
   "metadata": {},
   "outputs": [
    {
     "data": {
      "text/plain": [
       "(62141, 5)"
      ]
     },
     "execution_count": 114,
     "metadata": {},
     "output_type": "execute_result"
    }
   ],
   "source": [
    "data.shape"
   ]
  },
  {
   "cell_type": "markdown",
   "metadata": {},
   "source": [
    "Changing the 'Created On' variable to datetime format and sorting it."
   ]
  },
  {
   "cell_type": "code",
   "execution_count": 115,
   "metadata": {},
   "outputs": [],
   "source": [
    "data['Created On'] = pd.to_datetime(data['Created On'], format='%d-%m-%Y %H:%M')"
   ]
  },
  {
   "cell_type": "code",
   "execution_count": 116,
   "metadata": {},
   "outputs": [],
   "source": [
    "data.sort_values(by=['Created On'], inplace=True)"
   ]
  },
  {
   "cell_type": "markdown",
   "metadata": {},
   "source": [
    "Removing one mistyped description in the dataset"
   ]
  },
  {
   "cell_type": "code",
   "execution_count": 117,
   "metadata": {},
   "outputs": [
    {
     "data": {
      "text/html": [
       "<div>\n",
       "<style scoped>\n",
       "    .dataframe tbody tr th:only-of-type {\n",
       "        vertical-align: middle;\n",
       "    }\n",
       "\n",
       "    .dataframe tbody tr th {\n",
       "        vertical-align: top;\n",
       "    }\n",
       "\n",
       "    .dataframe thead th {\n",
       "        text-align: right;\n",
       "    }\n",
       "</style>\n",
       "<table border=\"1\" class=\"dataframe\">\n",
       "  <thead>\n",
       "    <tr style=\"text-align: right;\">\n",
       "      <th></th>\n",
       "      <th>Member</th>\n",
       "      <th>Order</th>\n",
       "      <th>SKU</th>\n",
       "      <th>Created On</th>\n",
       "      <th>Description</th>\n",
       "    </tr>\n",
       "  </thead>\n",
       "  <tbody>\n",
       "    <tr>\n",
       "      <th>57940</th>\n",
       "      <td>M58939</td>\n",
       "      <td>7705043</td>\n",
       "      <td>7632897</td>\n",
       "      <td>2013-01-19 12:12:00</td>\n",
       "      <td>CFLs,cfls,7832553,2,0\\r\\n7831582,Channa Dal,ch...</td>\n",
       "    </tr>\n",
       "    <tr>\n",
       "      <th>58138</th>\n",
       "      <td>M58939</td>\n",
       "      <td>8193462</td>\n",
       "      <td>7632949</td>\n",
       "      <td>2014-01-29 18:18:00</td>\n",
       "      <td>CFLs,cfls,7832553,2,0\\r\\n7831582,Channa Dal,ch...</td>\n",
       "    </tr>\n",
       "    <tr>\n",
       "      <th>12961</th>\n",
       "      <td>M25900</td>\n",
       "      <td>6769583</td>\n",
       "      <td>34995997</td>\n",
       "      <td>2014-04-07 13:09:00</td>\n",
       "      <td>CFLs,cfls,7832553,2,0\\r\\n7831582,Channa Dal,ch...</td>\n",
       "    </tr>\n",
       "    <tr>\n",
       "      <th>8093</th>\n",
       "      <td>M04158</td>\n",
       "      <td>8014687</td>\n",
       "      <td>34996064</td>\n",
       "      <td>2014-04-29 16:47:00</td>\n",
       "      <td>CFLs,cfls,7832553,2,0\\r\\n7831582,Channa Dal,ch...</td>\n",
       "    </tr>\n",
       "    <tr>\n",
       "      <th>28145</th>\n",
       "      <td>M36432</td>\n",
       "      <td>6770970</td>\n",
       "      <td>34995993</td>\n",
       "      <td>2014-05-07 08:45:00</td>\n",
       "      <td>CFLs,cfls,7832553,2,0\\r\\n7831582,Channa Dal,ch...</td>\n",
       "    </tr>\n",
       "  </tbody>\n",
       "</table>\n",
       "</div>"
      ],
      "text/plain": [
       "       Member    Order       SKU          Created On  \\\n",
       "57940  M58939  7705043   7632897 2013-01-19 12:12:00   \n",
       "58138  M58939  8193462   7632949 2014-01-29 18:18:00   \n",
       "12961  M25900  6769583  34995997 2014-04-07 13:09:00   \n",
       "8093   M04158  8014687  34996064 2014-04-29 16:47:00   \n",
       "28145  M36432  6770970  34995993 2014-05-07 08:45:00   \n",
       "\n",
       "                                             Description  \n",
       "57940  CFLs,cfls,7832553,2,0\\r\\n7831582,Channa Dal,ch...  \n",
       "58138  CFLs,cfls,7832553,2,0\\r\\n7831582,Channa Dal,ch...  \n",
       "12961  CFLs,cfls,7832553,2,0\\r\\n7831582,Channa Dal,ch...  \n",
       "8093   CFLs,cfls,7832553,2,0\\r\\n7831582,Channa Dal,ch...  \n",
       "28145  CFLs,cfls,7832553,2,0\\r\\n7831582,Channa Dal,ch...  "
      ]
     },
     "execution_count": 117,
     "metadata": {},
     "output_type": "execute_result"
    }
   ],
   "source": [
    "data[data['Description']=='CFLs,cfls,7832553,2,0\\r\\n7831582,Channa Dal,channa-dal,7832491,2,0\\r\\n7832360,Cheese,cheese,7832363,2,0\\r\\n7831689,Chewing Gum,chewing-gum,7831685,2,0\\r\\n7832047,ChildrenS Books']"
   ]
  },
  {
   "cell_type": "code",
   "execution_count": 118,
   "metadata": {},
   "outputs": [],
   "source": [
    "data = data[data['Description'] != 'CFLs,cfls,7832553,2,0\\r\\n7831582,Channa Dal,channa-dal,7832491,2,0\\r\\n7832360,Cheese,cheese,7832363,2,0\\r\\n7831689,Chewing Gum,chewing-gum,7831685,2,0\\r\\n7832047,ChildrenS Books']"
   ]
  },
  {
   "cell_type": "markdown",
   "metadata": {},
   "source": [
    "### Smart Basket Problem"
   ]
  },
  {
   "cell_type": "markdown",
   "metadata": {},
   "source": [
    "<div class=\"alert alert-block alert-info\">\n",
    "\n",
    "The team decided to use the **PageRank algorithm from Google** to order the products which will be presented. In a few words, it computes the importance score of each product taking into account the number of backlinks to a specific product. It also weights the backlinks importance, considering that a link to product X from an important product Y should boost product X’s importance score more than a link from an unimportant product. \n",
    "\n",
    "</div>"
   ]
  },
  {
   "cell_type": "markdown",
   "metadata": {},
   "source": [
    "Using a matricial approach, after finding the prduct co-ocurrences matrix, the page rank turns into a problem of finding the eigenvectors for this square matrix.\n",
    "\n",
    "Below we select a single customer and create a matrix with SKU as rows and Orders as columns, meaning the correspondence between each order and SKU. We can later use this matrix obtain the co-occurrence among SKU's for all orders or orders for a specific customer."
   ]
  },
  {
   "cell_type": "markdown",
   "metadata": {},
   "source": [
    "Showing a sample of the SKU x Order dataset:"
   ]
  },
  {
   "cell_type": "code",
   "execution_count": 119,
   "metadata": {},
   "outputs": [],
   "source": [
    "member = 'M64379'"
   ]
  },
  {
   "cell_type": "code",
   "execution_count": 120,
   "metadata": {},
   "outputs": [],
   "source": [
    "df = data[data['Member']== member].groupby(['SKU','Order']).size().unstack(fill_value=0)"
   ]
  },
  {
   "cell_type": "code",
   "execution_count": 121,
   "metadata": {
    "scrolled": true
   },
   "outputs": [
    {
     "data": {
      "text/plain": [
       "(111, 63)"
      ]
     },
     "execution_count": 121,
     "metadata": {},
     "output_type": "execute_result"
    }
   ],
   "source": [
    "df.shape"
   ]
  },
  {
   "cell_type": "code",
   "execution_count": 122,
   "metadata": {},
   "outputs": [
    {
     "data": {
      "text/html": [
       "<div>\n",
       "<style scoped>\n",
       "    .dataframe tbody tr th:only-of-type {\n",
       "        vertical-align: middle;\n",
       "    }\n",
       "\n",
       "    .dataframe tbody tr th {\n",
       "        vertical-align: top;\n",
       "    }\n",
       "\n",
       "    .dataframe thead th {\n",
       "        text-align: right;\n",
       "    }\n",
       "</style>\n",
       "<table border=\"1\" class=\"dataframe\">\n",
       "  <thead>\n",
       "    <tr style=\"text-align: right;\">\n",
       "      <th>Order</th>\n",
       "      <th>6458661</th>\n",
       "      <th>6496102</th>\n",
       "      <th>6556232</th>\n",
       "      <th>6571260</th>\n",
       "      <th>6631109</th>\n",
       "      <th>6715113</th>\n",
       "      <th>6733036</th>\n",
       "      <th>6775203</th>\n",
       "      <th>6803449</th>\n",
       "      <th>7343070</th>\n",
       "      <th>...</th>\n",
       "      <th>8238409</th>\n",
       "      <th>8275737</th>\n",
       "      <th>8289822</th>\n",
       "      <th>8313874</th>\n",
       "      <th>8324810</th>\n",
       "      <th>8333891</th>\n",
       "      <th>8348883</th>\n",
       "      <th>8358071</th>\n",
       "      <th>8372024</th>\n",
       "      <th>8381435</th>\n",
       "    </tr>\n",
       "    <tr>\n",
       "      <th>SKU</th>\n",
       "      <th></th>\n",
       "      <th></th>\n",
       "      <th></th>\n",
       "      <th></th>\n",
       "      <th></th>\n",
       "      <th></th>\n",
       "      <th></th>\n",
       "      <th></th>\n",
       "      <th></th>\n",
       "      <th></th>\n",
       "      <th></th>\n",
       "      <th></th>\n",
       "      <th></th>\n",
       "      <th></th>\n",
       "      <th></th>\n",
       "      <th></th>\n",
       "      <th></th>\n",
       "      <th></th>\n",
       "      <th></th>\n",
       "      <th></th>\n",
       "      <th></th>\n",
       "    </tr>\n",
       "  </thead>\n",
       "  <tbody>\n",
       "    <tr>\n",
       "      <th>7540257</th>\n",
       "      <td>0</td>\n",
       "      <td>0</td>\n",
       "      <td>0</td>\n",
       "      <td>0</td>\n",
       "      <td>0</td>\n",
       "      <td>0</td>\n",
       "      <td>0</td>\n",
       "      <td>0</td>\n",
       "      <td>0</td>\n",
       "      <td>0</td>\n",
       "      <td>...</td>\n",
       "      <td>0</td>\n",
       "      <td>0</td>\n",
       "      <td>0</td>\n",
       "      <td>0</td>\n",
       "      <td>0</td>\n",
       "      <td>0</td>\n",
       "      <td>0</td>\n",
       "      <td>0</td>\n",
       "      <td>0</td>\n",
       "      <td>0</td>\n",
       "    </tr>\n",
       "    <tr>\n",
       "      <th>7543289</th>\n",
       "      <td>1</td>\n",
       "      <td>0</td>\n",
       "      <td>0</td>\n",
       "      <td>0</td>\n",
       "      <td>0</td>\n",
       "      <td>0</td>\n",
       "      <td>0</td>\n",
       "      <td>0</td>\n",
       "      <td>0</td>\n",
       "      <td>0</td>\n",
       "      <td>...</td>\n",
       "      <td>0</td>\n",
       "      <td>0</td>\n",
       "      <td>0</td>\n",
       "      <td>0</td>\n",
       "      <td>0</td>\n",
       "      <td>0</td>\n",
       "      <td>0</td>\n",
       "      <td>0</td>\n",
       "      <td>0</td>\n",
       "      <td>0</td>\n",
       "    </tr>\n",
       "    <tr>\n",
       "      <th>7547323</th>\n",
       "      <td>0</td>\n",
       "      <td>0</td>\n",
       "      <td>0</td>\n",
       "      <td>0</td>\n",
       "      <td>0</td>\n",
       "      <td>0</td>\n",
       "      <td>0</td>\n",
       "      <td>0</td>\n",
       "      <td>0</td>\n",
       "      <td>0</td>\n",
       "      <td>...</td>\n",
       "      <td>0</td>\n",
       "      <td>0</td>\n",
       "      <td>0</td>\n",
       "      <td>0</td>\n",
       "      <td>0</td>\n",
       "      <td>0</td>\n",
       "      <td>0</td>\n",
       "      <td>0</td>\n",
       "      <td>0</td>\n",
       "      <td>0</td>\n",
       "    </tr>\n",
       "    <tr>\n",
       "      <th>7570555</th>\n",
       "      <td>0</td>\n",
       "      <td>0</td>\n",
       "      <td>0</td>\n",
       "      <td>0</td>\n",
       "      <td>0</td>\n",
       "      <td>0</td>\n",
       "      <td>0</td>\n",
       "      <td>0</td>\n",
       "      <td>0</td>\n",
       "      <td>0</td>\n",
       "      <td>...</td>\n",
       "      <td>0</td>\n",
       "      <td>0</td>\n",
       "      <td>0</td>\n",
       "      <td>0</td>\n",
       "      <td>0</td>\n",
       "      <td>0</td>\n",
       "      <td>0</td>\n",
       "      <td>0</td>\n",
       "      <td>0</td>\n",
       "      <td>1</td>\n",
       "    </tr>\n",
       "    <tr>\n",
       "      <th>7571385</th>\n",
       "      <td>0</td>\n",
       "      <td>0</td>\n",
       "      <td>0</td>\n",
       "      <td>0</td>\n",
       "      <td>0</td>\n",
       "      <td>0</td>\n",
       "      <td>0</td>\n",
       "      <td>0</td>\n",
       "      <td>0</td>\n",
       "      <td>0</td>\n",
       "      <td>...</td>\n",
       "      <td>0</td>\n",
       "      <td>0</td>\n",
       "      <td>0</td>\n",
       "      <td>0</td>\n",
       "      <td>0</td>\n",
       "      <td>0</td>\n",
       "      <td>0</td>\n",
       "      <td>0</td>\n",
       "      <td>0</td>\n",
       "      <td>0</td>\n",
       "    </tr>\n",
       "    <tr>\n",
       "      <th>7572242</th>\n",
       "      <td>0</td>\n",
       "      <td>0</td>\n",
       "      <td>0</td>\n",
       "      <td>0</td>\n",
       "      <td>0</td>\n",
       "      <td>0</td>\n",
       "      <td>0</td>\n",
       "      <td>0</td>\n",
       "      <td>0</td>\n",
       "      <td>0</td>\n",
       "      <td>...</td>\n",
       "      <td>0</td>\n",
       "      <td>0</td>\n",
       "      <td>0</td>\n",
       "      <td>0</td>\n",
       "      <td>0</td>\n",
       "      <td>0</td>\n",
       "      <td>0</td>\n",
       "      <td>0</td>\n",
       "      <td>0</td>\n",
       "      <td>0</td>\n",
       "    </tr>\n",
       "    <tr>\n",
       "      <th>7572252</th>\n",
       "      <td>0</td>\n",
       "      <td>0</td>\n",
       "      <td>0</td>\n",
       "      <td>0</td>\n",
       "      <td>0</td>\n",
       "      <td>0</td>\n",
       "      <td>0</td>\n",
       "      <td>0</td>\n",
       "      <td>0</td>\n",
       "      <td>0</td>\n",
       "      <td>...</td>\n",
       "      <td>0</td>\n",
       "      <td>0</td>\n",
       "      <td>0</td>\n",
       "      <td>0</td>\n",
       "      <td>0</td>\n",
       "      <td>0</td>\n",
       "      <td>0</td>\n",
       "      <td>0</td>\n",
       "      <td>0</td>\n",
       "      <td>0</td>\n",
       "    </tr>\n",
       "    <tr>\n",
       "      <th>7574425</th>\n",
       "      <td>0</td>\n",
       "      <td>0</td>\n",
       "      <td>0</td>\n",
       "      <td>0</td>\n",
       "      <td>0</td>\n",
       "      <td>0</td>\n",
       "      <td>1</td>\n",
       "      <td>0</td>\n",
       "      <td>0</td>\n",
       "      <td>0</td>\n",
       "      <td>...</td>\n",
       "      <td>0</td>\n",
       "      <td>1</td>\n",
       "      <td>0</td>\n",
       "      <td>0</td>\n",
       "      <td>0</td>\n",
       "      <td>0</td>\n",
       "      <td>0</td>\n",
       "      <td>0</td>\n",
       "      <td>0</td>\n",
       "      <td>0</td>\n",
       "    </tr>\n",
       "    <tr>\n",
       "      <th>7585834</th>\n",
       "      <td>0</td>\n",
       "      <td>0</td>\n",
       "      <td>0</td>\n",
       "      <td>0</td>\n",
       "      <td>0</td>\n",
       "      <td>0</td>\n",
       "      <td>0</td>\n",
       "      <td>0</td>\n",
       "      <td>0</td>\n",
       "      <td>0</td>\n",
       "      <td>...</td>\n",
       "      <td>0</td>\n",
       "      <td>0</td>\n",
       "      <td>0</td>\n",
       "      <td>0</td>\n",
       "      <td>0</td>\n",
       "      <td>0</td>\n",
       "      <td>0</td>\n",
       "      <td>0</td>\n",
       "      <td>0</td>\n",
       "      <td>0</td>\n",
       "    </tr>\n",
       "    <tr>\n",
       "      <th>7586312</th>\n",
       "      <td>0</td>\n",
       "      <td>0</td>\n",
       "      <td>0</td>\n",
       "      <td>0</td>\n",
       "      <td>0</td>\n",
       "      <td>0</td>\n",
       "      <td>0</td>\n",
       "      <td>0</td>\n",
       "      <td>0</td>\n",
       "      <td>0</td>\n",
       "      <td>...</td>\n",
       "      <td>0</td>\n",
       "      <td>0</td>\n",
       "      <td>0</td>\n",
       "      <td>0</td>\n",
       "      <td>1</td>\n",
       "      <td>0</td>\n",
       "      <td>0</td>\n",
       "      <td>0</td>\n",
       "      <td>0</td>\n",
       "      <td>0</td>\n",
       "    </tr>\n",
       "  </tbody>\n",
       "</table>\n",
       "<p>10 rows × 63 columns</p>\n",
       "</div>"
      ],
      "text/plain": [
       "Order    6458661  6496102  6556232  6571260  6631109  6715113  6733036  \\\n",
       "SKU                                                                      \n",
       "7540257        0        0        0        0        0        0        0   \n",
       "7543289        1        0        0        0        0        0        0   \n",
       "7547323        0        0        0        0        0        0        0   \n",
       "7570555        0        0        0        0        0        0        0   \n",
       "7571385        0        0        0        0        0        0        0   \n",
       "7572242        0        0        0        0        0        0        0   \n",
       "7572252        0        0        0        0        0        0        0   \n",
       "7574425        0        0        0        0        0        0        1   \n",
       "7585834        0        0        0        0        0        0        0   \n",
       "7586312        0        0        0        0        0        0        0   \n",
       "\n",
       "Order    6775203  6803449  7343070  ...  8238409  8275737  8289822  8313874  \\\n",
       "SKU                                 ...                                       \n",
       "7540257        0        0        0  ...        0        0        0        0   \n",
       "7543289        0        0        0  ...        0        0        0        0   \n",
       "7547323        0        0        0  ...        0        0        0        0   \n",
       "7570555        0        0        0  ...        0        0        0        0   \n",
       "7571385        0        0        0  ...        0        0        0        0   \n",
       "7572242        0        0        0  ...        0        0        0        0   \n",
       "7572252        0        0        0  ...        0        0        0        0   \n",
       "7574425        0        0        0  ...        0        1        0        0   \n",
       "7585834        0        0        0  ...        0        0        0        0   \n",
       "7586312        0        0        0  ...        0        0        0        0   \n",
       "\n",
       "Order    8324810  8333891  8348883  8358071  8372024  8381435  \n",
       "SKU                                                            \n",
       "7540257        0        0        0        0        0        0  \n",
       "7543289        0        0        0        0        0        0  \n",
       "7547323        0        0        0        0        0        0  \n",
       "7570555        0        0        0        0        0        1  \n",
       "7571385        0        0        0        0        0        0  \n",
       "7572242        0        0        0        0        0        0  \n",
       "7572252        0        0        0        0        0        0  \n",
       "7574425        0        0        0        0        0        0  \n",
       "7585834        0        0        0        0        0        0  \n",
       "7586312        1        0        0        0        0        0  \n",
       "\n",
       "[10 rows x 63 columns]"
      ]
     },
     "execution_count": 122,
     "metadata": {},
     "output_type": "execute_result"
    }
   ],
   "source": [
    "df.head(10)"
   ]
  },
  {
   "cell_type": "markdown",
   "metadata": {},
   "source": [
    "We can obtain the co-occurrences matrix by calculating the dot product between the matrix above and it's transpose."
   ]
  },
  {
   "cell_type": "code",
   "execution_count": 123,
   "metadata": {},
   "outputs": [],
   "source": [
    "co_occurrences = df.dot(df.T)"
   ]
  },
  {
   "cell_type": "code",
   "execution_count": 124,
   "metadata": {},
   "outputs": [
    {
     "data": {
      "text/html": [
       "<div>\n",
       "<style scoped>\n",
       "    .dataframe tbody tr th:only-of-type {\n",
       "        vertical-align: middle;\n",
       "    }\n",
       "\n",
       "    .dataframe tbody tr th {\n",
       "        vertical-align: top;\n",
       "    }\n",
       "\n",
       "    .dataframe thead th {\n",
       "        text-align: right;\n",
       "    }\n",
       "</style>\n",
       "<table border=\"1\" class=\"dataframe\">\n",
       "  <thead>\n",
       "    <tr style=\"text-align: right;\">\n",
       "      <th>SKU</th>\n",
       "      <th>7540257</th>\n",
       "      <th>7543289</th>\n",
       "      <th>7547323</th>\n",
       "      <th>7570555</th>\n",
       "      <th>7571385</th>\n",
       "      <th>7572242</th>\n",
       "      <th>7572252</th>\n",
       "      <th>7574425</th>\n",
       "      <th>7585834</th>\n",
       "      <th>7586312</th>\n",
       "      <th>...</th>\n",
       "      <th>34990774</th>\n",
       "      <th>34990777</th>\n",
       "      <th>34992035</th>\n",
       "      <th>34994304</th>\n",
       "      <th>92383200</th>\n",
       "      <th>92436826</th>\n",
       "      <th>93009339</th>\n",
       "      <th>93156751</th>\n",
       "      <th>93176432</th>\n",
       "      <th>93274726</th>\n",
       "    </tr>\n",
       "    <tr>\n",
       "      <th>SKU</th>\n",
       "      <th></th>\n",
       "      <th></th>\n",
       "      <th></th>\n",
       "      <th></th>\n",
       "      <th></th>\n",
       "      <th></th>\n",
       "      <th></th>\n",
       "      <th></th>\n",
       "      <th></th>\n",
       "      <th></th>\n",
       "      <th></th>\n",
       "      <th></th>\n",
       "      <th></th>\n",
       "      <th></th>\n",
       "      <th></th>\n",
       "      <th></th>\n",
       "      <th></th>\n",
       "      <th></th>\n",
       "      <th></th>\n",
       "      <th></th>\n",
       "      <th></th>\n",
       "    </tr>\n",
       "  </thead>\n",
       "  <tbody>\n",
       "    <tr>\n",
       "      <th>7540257</th>\n",
       "      <td>1</td>\n",
       "      <td>0</td>\n",
       "      <td>0</td>\n",
       "      <td>0</td>\n",
       "      <td>0</td>\n",
       "      <td>0</td>\n",
       "      <td>0</td>\n",
       "      <td>0</td>\n",
       "      <td>0</td>\n",
       "      <td>1</td>\n",
       "      <td>...</td>\n",
       "      <td>0</td>\n",
       "      <td>0</td>\n",
       "      <td>0</td>\n",
       "      <td>0</td>\n",
       "      <td>0</td>\n",
       "      <td>1</td>\n",
       "      <td>0</td>\n",
       "      <td>0</td>\n",
       "      <td>0</td>\n",
       "      <td>0</td>\n",
       "    </tr>\n",
       "    <tr>\n",
       "      <th>7543289</th>\n",
       "      <td>0</td>\n",
       "      <td>1</td>\n",
       "      <td>0</td>\n",
       "      <td>0</td>\n",
       "      <td>0</td>\n",
       "      <td>0</td>\n",
       "      <td>0</td>\n",
       "      <td>0</td>\n",
       "      <td>0</td>\n",
       "      <td>0</td>\n",
       "      <td>...</td>\n",
       "      <td>0</td>\n",
       "      <td>0</td>\n",
       "      <td>0</td>\n",
       "      <td>0</td>\n",
       "      <td>0</td>\n",
       "      <td>0</td>\n",
       "      <td>0</td>\n",
       "      <td>0</td>\n",
       "      <td>0</td>\n",
       "      <td>0</td>\n",
       "    </tr>\n",
       "    <tr>\n",
       "      <th>7547323</th>\n",
       "      <td>0</td>\n",
       "      <td>0</td>\n",
       "      <td>2</td>\n",
       "      <td>0</td>\n",
       "      <td>0</td>\n",
       "      <td>0</td>\n",
       "      <td>0</td>\n",
       "      <td>0</td>\n",
       "      <td>0</td>\n",
       "      <td>0</td>\n",
       "      <td>...</td>\n",
       "      <td>0</td>\n",
       "      <td>0</td>\n",
       "      <td>0</td>\n",
       "      <td>0</td>\n",
       "      <td>0</td>\n",
       "      <td>1</td>\n",
       "      <td>0</td>\n",
       "      <td>0</td>\n",
       "      <td>0</td>\n",
       "      <td>0</td>\n",
       "    </tr>\n",
       "    <tr>\n",
       "      <th>7570555</th>\n",
       "      <td>0</td>\n",
       "      <td>0</td>\n",
       "      <td>0</td>\n",
       "      <td>3</td>\n",
       "      <td>0</td>\n",
       "      <td>0</td>\n",
       "      <td>0</td>\n",
       "      <td>0</td>\n",
       "      <td>0</td>\n",
       "      <td>0</td>\n",
       "      <td>...</td>\n",
       "      <td>1</td>\n",
       "      <td>0</td>\n",
       "      <td>0</td>\n",
       "      <td>0</td>\n",
       "      <td>0</td>\n",
       "      <td>0</td>\n",
       "      <td>0</td>\n",
       "      <td>0</td>\n",
       "      <td>0</td>\n",
       "      <td>0</td>\n",
       "    </tr>\n",
       "    <tr>\n",
       "      <th>7571385</th>\n",
       "      <td>0</td>\n",
       "      <td>0</td>\n",
       "      <td>0</td>\n",
       "      <td>0</td>\n",
       "      <td>2</td>\n",
       "      <td>0</td>\n",
       "      <td>0</td>\n",
       "      <td>0</td>\n",
       "      <td>0</td>\n",
       "      <td>0</td>\n",
       "      <td>...</td>\n",
       "      <td>0</td>\n",
       "      <td>0</td>\n",
       "      <td>0</td>\n",
       "      <td>0</td>\n",
       "      <td>0</td>\n",
       "      <td>0</td>\n",
       "      <td>0</td>\n",
       "      <td>0</td>\n",
       "      <td>0</td>\n",
       "      <td>0</td>\n",
       "    </tr>\n",
       "  </tbody>\n",
       "</table>\n",
       "<p>5 rows × 111 columns</p>\n",
       "</div>"
      ],
      "text/plain": [
       "SKU      7540257   7543289   7547323   7570555   7571385   7572242   7572252   \\\n",
       "SKU                                                                             \n",
       "7540257         1         0         0         0         0         0         0   \n",
       "7543289         0         1         0         0         0         0         0   \n",
       "7547323         0         0         2         0         0         0         0   \n",
       "7570555         0         0         0         3         0         0         0   \n",
       "7571385         0         0         0         0         2         0         0   \n",
       "\n",
       "SKU      7574425   7585834   7586312   ...  34990774  34990777  34992035  \\\n",
       "SKU                                    ...                                 \n",
       "7540257         0         0         1  ...         0         0         0   \n",
       "7543289         0         0         0  ...         0         0         0   \n",
       "7547323         0         0         0  ...         0         0         0   \n",
       "7570555         0         0         0  ...         1         0         0   \n",
       "7571385         0         0         0  ...         0         0         0   \n",
       "\n",
       "SKU      34994304  92383200  92436826  93009339  93156751  93176432  93274726  \n",
       "SKU                                                                            \n",
       "7540257         0         0         1         0         0         0         0  \n",
       "7543289         0         0         0         0         0         0         0  \n",
       "7547323         0         0         1         0         0         0         0  \n",
       "7570555         0         0         0         0         0         0         0  \n",
       "7571385         0         0         0         0         0         0         0  \n",
       "\n",
       "[5 rows x 111 columns]"
      ]
     },
     "execution_count": 124,
     "metadata": {},
     "output_type": "execute_result"
    }
   ],
   "source": [
    "co_occurrences.head()"
   ]
  },
  {
   "cell_type": "markdown",
   "metadata": {},
   "source": [
    "The dot product is symmetric and the diagonal represents number of ocurrences of a single SKU in all orders.\n",
    "We are only interested in the **upper triangular matrix**."
   ]
  },
  {
   "cell_type": "code",
   "execution_count": 125,
   "metadata": {},
   "outputs": [],
   "source": [
    "#set 0 to lower triangular matrix\n",
    "co_occurrences.values[np.tril(np.ones(co_occurrences.shape)).astype(np.bool)] = 0"
   ]
  },
  {
   "cell_type": "markdown",
   "metadata": {},
   "source": [
    "Show the products that co-occur with any other product ordered by their count of co-occurrences. This is the result for all orders. We can also build this for a single order or customer."
   ]
  },
  {
   "cell_type": "code",
   "execution_count": 126,
   "metadata": {},
   "outputs": [
    {
     "data": {
      "text/plain": [
       "SKU\n",
       "34990774    107.0\n",
       "15668478    104.0\n",
       "15668685    100.0\n",
       "15668688     98.0\n",
       "93009339     90.0\n",
       "dtype: float64"
      ]
     },
     "execution_count": 126,
     "metadata": {},
     "output_type": "execute_result"
    }
   ],
   "source": [
    "co_occurrences[co_occurrences != 0].sum().sort_values(ascending=False).head()"
   ]
  },
  {
   "cell_type": "markdown",
   "metadata": {},
   "source": [
    "Stack the co-occurrences matrix into a new dataframe, to build the network"
   ]
  },
  {
   "cell_type": "code",
   "execution_count": 127,
   "metadata": {},
   "outputs": [],
   "source": [
    "a = co_occurrences.stack()"
   ]
  },
  {
   "cell_type": "code",
   "execution_count": 128,
   "metadata": {},
   "outputs": [
    {
     "data": {
      "text/plain": [
       "SKU       SKU     \n",
       "7540257   7540257     0\n",
       "          7543289     0\n",
       "          7547323     0\n",
       "          7570555     0\n",
       "          7571385     0\n",
       "                     ..\n",
       "93274726  92436826    0\n",
       "          93009339    0\n",
       "          93156751    0\n",
       "          93176432    0\n",
       "          93274726    0\n",
       "Length: 12321, dtype: int64"
      ]
     },
     "execution_count": 128,
     "metadata": {},
     "output_type": "execute_result"
    }
   ],
   "source": [
    "a"
   ]
  },
  {
   "cell_type": "markdown",
   "metadata": {},
   "source": [
    "Reshaping and filtering the number of co-occurrences to be greater than 5"
   ]
  },
  {
   "cell_type": "code",
   "execution_count": 129,
   "metadata": {},
   "outputs": [
    {
     "data": {
      "text/plain": [
       "(47, 3)"
      ]
     },
     "execution_count": 129,
     "metadata": {},
     "output_type": "execute_result"
    }
   ],
   "source": [
    "a = a[a >= 5].rename_axis(('source', 'target')).reset_index(name='co')\n",
    "a.sort_values(by='co', ascending=False).shape"
   ]
  },
  {
   "cell_type": "markdown",
   "metadata": {},
   "source": [
    "Using the *networkx* library to create the products network. In the first model, we use the number of co-occurrences as the edge attribute (*edge_attr*) which will be used in the PageRank algorithm.\n",
    "\n",
    "https://networkx.github.io/documentation/stable/index.html"
   ]
  },
  {
   "cell_type": "markdown",
   "metadata": {},
   "source": [
    "Creating the network (with nodes and edges from a pandas dataframe):"
   ]
  },
  {
   "cell_type": "code",
   "execution_count": 130,
   "metadata": {},
   "outputs": [],
   "source": [
    "G = nx.from_pandas_edgelist(a, edge_attr='co')"
   ]
  },
  {
   "cell_type": "markdown",
   "metadata": {},
   "source": [
    "Obtaining the weights of each edge, to set the width in the visualization."
   ]
  },
  {
   "cell_type": "code",
   "execution_count": 131,
   "metadata": {},
   "outputs": [
    {
     "data": {
      "text/plain": [
       "EdgeDataView([(7586314, 15668465, {'co': 5}), (15668465, 7587658, {'co': 9}), (15668465, 7587673, {'co': 5}), (15668465, 7587677, {'co': 8}), (15668465, 7629391, {'co': 7}), (15668465, 7753739, {'co': 6}), (15668465, 15668478, {'co': 9}), (15668465, 15668521, {'co': 6}), (15668465, 15668685, {'co': 7}), (15668465, 34990774, {'co': 6}), (15668465, 93009339, {'co': 6}), (7587658, 7587677, {'co': 9}), (7587658, 7753739, {'co': 10}), (7587658, 15668478, {'co': 5}), (7587658, 34990774, {'co': 9}), (7587658, 93009339, {'co': 6}), (7587677, 7753739, {'co': 8}), (7587677, 15668685, {'co': 5}), (7587677, 34990774, {'co': 7}), (7587677, 93009339, {'co': 5}), (7753739, 15668478, {'co': 5}), (7753739, 15668685, {'co': 5}), (7753739, 15669789, {'co': 5}), (7753739, 34990774, {'co': 5}), (7753739, 93009339, {'co': 6}), (15668478, 7587673, {'co': 6}), (15668478, 7587679, {'co': 5}), (15668478, 7629391, {'co': 8}), (15668478, 15668460, {'co': 5}), (15668478, 15668468, {'co': 7}), (15668478, 15668521, {'co': 9}), (15668478, 15668685, {'co': 5}), (15668478, 15668688, {'co': 7}), (15668478, 15669830, {'co': 6}), (15668478, 15670157, {'co': 5}), (34990774, 15668685, {'co': 8}), (15668685, 7587679, {'co': 5}), (15668685, 7629391, {'co': 7}), (15668685, 15668468, {'co': 8}), (15668685, 15668688, {'co': 8}), (7587679, 15668688, {'co': 6}), (15668688, 7629391, {'co': 7}), (15668688, 15668468, {'co': 8}), (15668688, 15670157, {'co': 7}), (7629391, 15668468, {'co': 7}), (7629391, 15668521, {'co': 5}), (7629391, 15670157, {'co': 6})])"
      ]
     },
     "execution_count": 131,
     "metadata": {},
     "output_type": "execute_result"
    }
   ],
   "source": [
    "# Showing the edge limits and the edge_attr\n",
    "G.edges.data()"
   ]
  },
  {
   "cell_type": "code",
   "execution_count": 132,
   "metadata": {},
   "outputs": [],
   "source": [
    "edges = G.edges()\n",
    "weights = [G[u][v]['co'] for u,v in edges]"
   ]
  },
  {
   "cell_type": "markdown",
   "metadata": {},
   "source": [
    "Creating the network visualization."
   ]
  },
  {
   "cell_type": "code",
   "execution_count": 133,
   "metadata": {},
   "outputs": [
    {
     "data": {
      "image/png": "[encoded data removed]",
      "text/plain": [
       "<Figure size 432x288 with 1 Axes>"
      ]
     },
     "metadata": {},
     "output_type": "display_data"
    }
   ],
   "source": [
    "nx.draw_circular(G,\n",
    "        node_size=10,\n",
    "        node_color='#87CEEB',\n",
    "        edge_color='#BB0000',\n",
    "        width=np.linspace(0.1,2,len(np.unique(weights))),\n",
    "        font_size=6,\n",
    "        edge_cmap=plt.cm.Blues,\n",
    "        with_labels=True)\n",
    "#plt.show()\n",
    "plt.savefig(\"graph.png\", dpi=2000, facecolor='w', edgecolor='w',orientation='portrait', papertype=None, format=None,transparent=False, bbox_inches=None, pad_inches=0.1) "
   ]
  },
  {
   "cell_type": "markdown",
   "metadata": {},
   "source": [
    "Returning the PageRank of the nodes in the graph.\n",
    "\n",
    "https://networkx.github.io/documentation/stable/reference/algorithms/generated/networkx.algorithms.link_analysis.pagerank_alg.pagerank.html#networkx.algorithms.link_analysis.pagerank_alg.pagerank\n",
    "\n",
    "*alpha* is the damping factor. *The PageRank theory holds that an imaginary surfer who is randomly clicking on links will eventually stop clicking. The probability, at any step, that the person will continue is a damping factor d. Various studies have tested different damping factors, but it is generally assumed that the damping factor will be set around 0.85.*\n",
    "\n",
    "https://en.wikipedia.org/wiki/PageRank#Damping_factor"
   ]
  },
  {
   "cell_type": "code",
   "execution_count": 134,
   "metadata": {},
   "outputs": [],
   "source": [
    "pr = nx.pagerank(G, alpha=0.85, weight='co')"
   ]
  },
  {
   "cell_type": "code",
   "execution_count": 135,
   "metadata": {},
   "outputs": [],
   "source": [
    "keys = list(pr.keys())"
   ]
  },
  {
   "cell_type": "markdown",
   "metadata": {},
   "source": [
    "Creating a dictionary with Description + SKU as key and PageRank as value, sorting it by value."
   ]
  },
  {
   "cell_type": "code",
   "execution_count": 136,
   "metadata": {},
   "outputs": [],
   "source": [
    "for key in keys:\n",
    "    new_key = data.loc[data['SKU']==key]['Description'].iloc[0] + ' ' + str(key)  \n",
    "    pr[new_key] = pr[key]\n",
    "    del pr[key]"
   ]
  },
  {
   "cell_type": "code",
   "execution_count": 137,
   "metadata": {},
   "outputs": [],
   "source": [
    "sorted_rank = {k: v for k, v in sorted(pr.items(), key=lambda item: item[1], reverse=True)}"
   ]
  },
  {
   "cell_type": "code",
   "execution_count": 138,
   "metadata": {},
   "outputs": [
    {
     "data": {
      "text/plain": [
       "{'Banana 15668478': 0.13338394040492282,\n",
       " 'Root Vegetables 15668465': 0.11360517715502386,\n",
       " 'Beans 15668685': 0.08537193537844968,\n",
       " 'Health Drinks 7753739': 0.07876795000520415,\n",
       " 'Glucose, Marie & Milk Biscuits 7629391': 0.07194746460986065,\n",
       " 'Organic Salt,Sugar & Jaggery 7587658': 0.07118897419906908,\n",
       " 'Root Vegetables 15668688': 0.06722342901243783,\n",
       " 'Organic Dals & Pulses 7587677': 0.06255296637808933,\n",
       " 'Eggs 34990774': 0.052635756811359104,\n",
       " 'Beans 15668468': 0.04732121478363431,\n",
       " 'Organic Flours 93009339': 0.037651903746017,\n",
       " 'Bread 15668521': 0.03467360083985753,\n",
       " 'Organic F&V 15670157': 0.03191680706154668,\n",
       " 'Organic Flours 7587679': 0.02903655211771391,\n",
       " 'Organic Dals & Pulses 7587673': 0.022714925904670953,\n",
       " 'Other Rice Products 15669830': 0.016190363899053907,\n",
       " 'Gourd & Cucumber 15668460': 0.014807759389562468,\n",
       " 'Boiled Rice 15669789': 0.01458997945580422,\n",
       " 'Snacky Nuts 7586314': 0.014419298847722308}"
      ]
     },
     "execution_count": 138,
     "metadata": {},
     "output_type": "execute_result"
    }
   ],
   "source": [
    "sorted_rank"
   ]
  },
  {
   "cell_type": "markdown",
   "metadata": {},
   "source": [
    "### Smart Basket Problem - Modeling"
   ]
  },
  {
   "cell_type": "markdown",
   "metadata": {},
   "source": [
    "The code above was a sample of the PageRank approach. Now we apply this way of ranking products to the Smart Basket Problem."
   ]
  },
  {
   "cell_type": "markdown",
   "metadata": {},
   "source": [
    "1) Function which, given a dataset with chronologically sorted orders, splits the orders in training and test sets. Implementation details are in the function docstring."
   ]
  },
  {
   "cell_type": "code",
   "execution_count": 139,
   "metadata": {},
   "outputs": [],
   "source": [
    "def split_orders(data, n_splits, based_on):\n",
    "    \n",
    "    \"\"\"\n",
    "    With data for one or more customers (members) and considering that the orders are chronologically sorted,\n",
    "    this function selects a 'n_splits' number of random percentages. Each percentage splits the data in training\n",
    "    and test sets. The random percentage must be chosen between 60% and 80% of the dataset.\n",
    "    \n",
    "    The appropriate way of using this function is to split the data for one customer at a time, but it's prepared\n",
    "    to work with any number of customers.\n",
    "    \n",
    "    Uses Monte Carlo approach (random selection without replacement).\n",
    "    \n",
    "    Returns two lists with len = n_splits containing the train and test splits respectively.\n",
    "    \"\"\"\n",
    "               \n",
    "    if based_on == 'SKU':\n",
    "        member_orders = data.groupby(['Order','SKU']).size().unstack(fill_value=0)\n",
    "    else:\n",
    "        member_orders = data.groupby(['Order','Description']).size().unstack(fill_value=0)\n",
    "    \n",
    "    mo_train_list = []\n",
    "    mo_test_list = []\n",
    "    \n",
    "    for i in range(n_splits):\n",
    "        a, b = np.split(member_orders, [int((0.6 + 0.2*np.random.random())*len(member_orders))])\n",
    "        mo_train_list.append(a)\n",
    "        mo_test_list.append(b)\n",
    "    \n",
    "    return mo_train_list, mo_test_list"
   ]
  },
  {
   "cell_type": "markdown",
   "metadata": {},
   "source": [
    "2) Define a model which applies PageRank with items co-occurrences as weights and returns a sorted rank for any training dataset."
   ]
  },
  {
   "cell_type": "code",
   "execution_count": 140,
   "metadata": {},
   "outputs": [],
   "source": [
    "def model_pagerank(mo_train):\n",
    "    \n",
    "    \"\"\"\n",
    "    Returns the sorted rank for a training set of orders. It takes the orders un-weighted.\n",
    "    \"\"\"\n",
    "    \n",
    "    # Matrix of co-occurrences\n",
    "    co_occurrences = mo_train.T.dot(mo_train)\n",
    "    co_occurrences.values[np.tril(np.ones(co_occurrences.shape)).astype(np.bool)] = 0\n",
    "    \n",
    "    # Stacking the matrix, to be used for ranking\n",
    "    a = co_occurrences.stack()\n",
    "    \n",
    "    # Filtering the doubles of products which co-occur at least once\n",
    "    a = a[a >= 1].rename_axis(('source', 'target')).reset_index(name='co')\n",
    "    \n",
    "    # Generating the network graph\n",
    "    G = nx.from_pandas_edgelist(a, edge_attr='co')\n",
    "    \n",
    "    # Calculating the rank, using PageRank with co-occurrences as weights\n",
    "    pr = nx.pagerank(G, alpha=0.85, weight='co')\n",
    "    \n",
    "    # Sorting the rank\n",
    "    sorted_rank = {k: v for k, v in sorted(pr.items(), key=lambda item: item[1], reverse=True)}\n",
    "    \n",
    "    return sorted_rank"
   ]
  },
  {
   "cell_type": "markdown",
   "metadata": {},
   "source": [
    "3) For comparison, we define a model which applies PageRank which weights the items quantities with their recency. In this sense, when the co-occurrences matrix is created, it will have sum higher values for co-occurrences observed in more recent orders. Later, the PageRank will use these 'weighted' co-occurrences as weights."
   ]
  },
  {
   "cell_type": "code",
   "execution_count": 141,
   "metadata": {},
   "outputs": [],
   "source": [
    "# setting up the weights for recency\n",
    "weights = {0:1.0,\n",
    "           1:0.9,\n",
    "           2:0.5, \n",
    "           3:0.2,\n",
    "           4:0.1\n",
    "}"
   ]
  },
  {
   "cell_type": "code",
   "execution_count": 142,
   "metadata": {},
   "outputs": [],
   "source": [
    "\"\"\"\n",
    "Using the for loop, we create a list of all orders and their assigned weight based on recency.\n",
    "\n",
    "It is important to note that this recency is based on customer level:\n",
    "a temporary dataset is created for each customer 'i', where their orders are sorted by column \"Created On\".\n",
    "\n",
    "Based on this, a quintile is assigned based on recency ranging (0-4) with 0 being most recent and 4 most distant.\n",
    "\n",
    "Based on the quintiles, the weights from the above are assigned to each order number.\n",
    "\n",
    "These are appended as a list of datafrems to the initially empty list of orders.\n",
    "\"\"\"\n",
    "\n",
    "orders = []\n",
    "\n",
    "for i in data['Member'].unique():\n",
    "    temp = data[data['Member']==i]\n",
    "    temp.sort_values(by=['Created On'], inplace=True)\n",
    "    temp['quantile'] = pd.qcut(temp['Created On'], 5, labels=False)\n",
    "    temp['weight'] = temp['quantile'].apply(lambda x: weights[x])\n",
    "    orders.append(temp[['Order','weight']].groupby('Order').mean())"
   ]
  },
  {
   "cell_type": "code",
   "execution_count": 143,
   "metadata": {},
   "outputs": [
    {
     "name": "stdout",
     "output_type": "stream",
     "text": [
      "Total number of orders: 8386\n"
     ]
    },
    {
     "data": {
      "text/html": [
       "<div>\n",
       "<style scoped>\n",
       "    .dataframe tbody tr th:only-of-type {\n",
       "        vertical-align: middle;\n",
       "    }\n",
       "\n",
       "    .dataframe tbody tr th {\n",
       "        vertical-align: top;\n",
       "    }\n",
       "\n",
       "    .dataframe thead th {\n",
       "        text-align: right;\n",
       "    }\n",
       "</style>\n",
       "<table border=\"1\" class=\"dataframe\">\n",
       "  <thead>\n",
       "    <tr style=\"text-align: right;\">\n",
       "      <th></th>\n",
       "      <th>weight</th>\n",
       "    </tr>\n",
       "    <tr>\n",
       "      <th>Order</th>\n",
       "      <th></th>\n",
       "    </tr>\n",
       "  </thead>\n",
       "  <tbody>\n",
       "    <tr>\n",
       "      <th>6439309</th>\n",
       "      <td>0.1</td>\n",
       "    </tr>\n",
       "    <tr>\n",
       "      <th>6462335</th>\n",
       "      <td>0.1</td>\n",
       "    </tr>\n",
       "    <tr>\n",
       "      <th>6496410</th>\n",
       "      <td>0.1</td>\n",
       "    </tr>\n",
       "    <tr>\n",
       "      <th>6529279</th>\n",
       "      <td>0.1</td>\n",
       "    </tr>\n",
       "    <tr>\n",
       "      <th>6538989</th>\n",
       "      <td>0.1</td>\n",
       "    </tr>\n",
       "  </tbody>\n",
       "</table>\n",
       "</div>"
      ],
      "text/plain": [
       "         weight\n",
       "Order          \n",
       "6439309     0.1\n",
       "6462335     0.1\n",
       "6496410     0.1\n",
       "6529279     0.1\n",
       "6538989     0.1"
      ]
     },
     "execution_count": 143,
     "metadata": {},
     "output_type": "execute_result"
    }
   ],
   "source": [
    "# Orders list of dataframes is concatenated to have all orders listed\n",
    "orders = pd.concat(orders)\n",
    "\n",
    "# Printing a sample\n",
    "print('Total number of orders: ' + str(orders.count()[0]))\n",
    "orders.head()"
   ]
  },
  {
   "cell_type": "code",
   "execution_count": 144,
   "metadata": {},
   "outputs": [],
   "source": [
    "def model_pagerank2(mo_train):\n",
    "    \n",
    "    \"\"\"Returns the sorted rank for a training set of orders.\n",
    "    \n",
    "       Gives a higher weight to co-occurrences in most recent orders.\n",
    "    \"\"\"\n",
    "\n",
    "    order_num = orders[orders.index.isin(mo_train.index)]\n",
    "    order_num.sort_values(by='Order',inplace=True)\n",
    "    mo_train = pd.DataFrame(mo_train.values*order_num.values, columns=mo_train.columns, index=mo_train.index)\n",
    "    \n",
    "    co_occurrences = mo_train.T.dot(mo_train)\n",
    "    co_occurrences.values[np.tril(np.ones(co_occurrences.shape)).astype(np.bool)] = 0\n",
    "    a = co_occurrences.stack()\n",
    "    a = a[a >= 1].rename_axis(('source', 'target')).reset_index(name='co')\n",
    "    G = nx.from_pandas_edgelist(a, edge_attr='co')\n",
    "    pr = nx.pagerank(G, alpha=0.85, weight='co')\n",
    "    sorted_rank = {k: v for k, v in sorted(pr.items(), key=lambda item: item[1], reverse=True)}\n",
    "    return sorted_rank"
   ]
  },
  {
   "cell_type": "markdown",
   "metadata": {},
   "source": [
    "4) Using the result of the previous 'model' functions, the function below returns the top 't' products, with 't' being a chosen number of products to be recommended."
   ]
  },
  {
   "cell_type": "code",
   "execution_count": 145,
   "metadata": {},
   "outputs": [],
   "source": [
    "def topT(dictionary, t):\n",
    "    \n",
    "    \"\"\"Returns the top t (recommended) products from a sorted rank of products\"\"\"\n",
    "    \n",
    "    return list(dictionary.keys())[:t]"
   ]
  },
  {
   "cell_type": "markdown",
   "metadata": {},
   "source": [
    "### Smart Basket Problem - Testing Strategy"
   ]
  },
  {
   "cell_type": "markdown",
   "metadata": {},
   "source": [
    "(The testing strategy below is inspired in the **Recommender Systems** book, section 7.5.4)"
   ]
  },
  {
   "cell_type": "markdown",
   "metadata": {},
   "source": [
    "1. Considering all the sorted orders from a single customer, split the orders into training and testing sets with, for instance, 75% and 25% of the purchased items using Monte Carlo;\n",
    "2. With the training set, calculate the PageRank and recommend 't' items;\n",
    "3. Considering the 't' recommended items, for each order in the test set we compute the **precision** (percentage of recommended items that were consumed by the user), and the **recall** (percentage of consumed products that have been included in the recommendation list of size t).\n",
    "4. Compute the mean precision and recall. Use them to compute the **F1-score** for the test sample.\n",
    "5. Cross-validate the model (calculate the mean and std deviation of the F1-score).\n",
    "6. Repeat the steps for the different ‘t’ values.\n",
    "7. Repeat the steps for different models.\n",
    "\n",
    "**What we get in the end is the F1-score for a model with all 't' possible numbers of recommendations, cross-validated among a 'm_members' number of customers and 'n_splits' number of training/testing splits.**"
   ]
  },
  {
   "cell_type": "markdown",
   "metadata": {},
   "source": [
    "5) Define a function to calculate precision and recall for a test set of orders."
   ]
  },
  {
   "cell_type": "code",
   "execution_count": 146,
   "metadata": {},
   "outputs": [],
   "source": [
    "def precision_recall(mo_test, topT, t):\n",
    "    \n",
    "    \"\"\"\n",
    "    Returns the precision and the recall for a test set of orders.\n",
    "    \n",
    "    The precision is calculated for each order, counting the non-zero values in the 'topT' columns\n",
    "    and dividing it by the number of recommendations.\n",
    "    \n",
    "    The recall is also calculated for each order. First, the function creates a list with the items in the order,\n",
    "    then compares this list with the items included in the 'topT'. Divides the number of coincident products by the\n",
    "    number of products consumed in this order.\n",
    "    \"\"\"\n",
    "\n",
    "    mo_test['precision'] = np.count_nonzero(mo_test[topT], axis=1)/t\n",
    "    mo_test['recall'] = mo_test.ne(0).apply(lambda x: mo_test.columns[x].tolist(), axis=1)    \n",
    "    mo_test['recall'] = mo_test['recall'].apply(lambda x: np.divide(sum(1 for p in x if p in topT),\n",
    "                                                                    len(x),\n",
    "                                                                    where = (len(x)!=0) ))\n",
    "                                                \n",
    "    pre = np.mean(mo_test['precision'])\n",
    "    rec = np.mean(mo_test['recall'])\n",
    "       \n",
    "    return pre, rec"
   ]
  },
  {
   "cell_type": "markdown",
   "metadata": {},
   "source": [
    "6) Define the function to test the model, according to the strategy above."
   ]
  },
  {
   "cell_type": "code",
   "execution_count": 147,
   "metadata": {},
   "outputs": [],
   "source": [
    "def cross_validate_model(data, model, m_members = 5, n_splits =5, based_on = 'SKU', member_id = None):\n",
    "     \n",
    "    \"\"\"\n",
    "    Randomly select a number of different customers equal to 'm_members' and cross-validate the model\n",
    "    with these customers using all possible number of recommendations. The maximum number of recommendations\n",
    "    correspond to the size of the smallest set of products (SKU) ever bought by a customer in the selected sample.\n",
    "       \n",
    "    This function also performs cross-validation among different train/test splits.\n",
    "       \n",
    "    The resulting precision, recall and F1-score for the evaluated model are the average of the measures\n",
    "    obtained for each train/test split and later for each customer in the sample.\n",
    "       \n",
    "    Returns precision_curve and recall_curve for the model, which corresponds to the precision and recall obtained\n",
    "    for each number of recommendations (t).\n",
    "       \n",
    "    Precision_curve and recall_curve will later be used to plot the model results in comparison with other models.\n",
    "       \n",
    "    A model corresponds to a single PageRank implementation (which can use different ways of weighting the links).\n",
    "    \n",
    "    \"\"\"\n",
    "    \n",
    "    print(\"Cross-validating the model with\", m_members, \"member(s) and\", n_splits, \"different train/test splits.\")\n",
    "    \n",
    "    if member_id == None:\n",
    "        members_sample = rd.sample(data['Member'].unique().tolist(), m_members)\n",
    "    else:\n",
    "        members_sample = [member_id]\n",
    "    \n",
    "    max_num_recommendations = 15\n",
    "    \n",
    "    precision_curve = []\n",
    "    recall_curve = []\n",
    "            \n",
    "    for member in members_sample:\n",
    "        \n",
    "        df = data.loc[data['Member'] == member]\n",
    "    \n",
    "        if based_on == 'SKU':\n",
    "            max_num_recommendations = min(len(df['SKU'].unique()), max_num_recommendations)\n",
    "        else:\n",
    "            max_num_recommendations = min(len(df['Description'].unique()), max_num_recommendations)\n",
    "    \n",
    "    members_metrics = {}\n",
    "    \n",
    "    for t in range(1, max_num_recommendations+1):\n",
    "        \n",
    "        member_precision_mean = []\n",
    "        member_recall_mean = []\n",
    "        member_f1_mean = []\n",
    "        member_f1_stddev = []\n",
    "        \n",
    "        for member in members_sample:\n",
    "        \n",
    "            df = data.loc[data['Member'] == member]\n",
    "    \n",
    "            mo_train_list, mo_test_list = split_orders(df, n_splits, based_on)\n",
    "    \n",
    "            member_precision_list = []\n",
    "            member_recall_list = []\n",
    "            member_f1_list = []\n",
    "        \n",
    "            for train_orders, test_orders in zip(mo_train_list, mo_test_list):\n",
    "\n",
    "                rank = model(train_orders)\n",
    "                top = topT(rank, t)\n",
    "                pre, rec = precision_recall(test_orders, top, t)\n",
    "                member_precision_list.append(pre)\n",
    "                member_recall_list.append(rec)\n",
    "                if (pre == 0 and rec == 0):\n",
    "                    member_f1_list.append(0)\n",
    "                else:\n",
    "                    member_f1_list.append(2 * (pre * rec) / (pre + rec))\n",
    "\n",
    "            members_metrics[member, t] = [round(np.mean(member_precision_list),3),\n",
    "                                          round(np.mean(member_recall_list),3),\n",
    "                                          round(np.mean(member_f1_list),3),\n",
    "                                          round(np.std(member_f1_list),3)]\n",
    "            \n",
    "            member_precision_mean.append(members_metrics[member, t][0])\n",
    "            member_recall_mean.append(members_metrics[member, t][1])\n",
    "            member_f1_mean.append(members_metrics[member, t][2])\n",
    "            member_f1_stddev.append(members_metrics[member, t][3])        \n",
    "        \n",
    "        precision_curve.append(round(np.mean(member_precision_mean),3))\n",
    "        recall_curve.append(round(np.mean(member_recall_mean),3))\n",
    "        \n",
    "        f1_mean_for_t = round(np.mean(member_f1_mean),3)\n",
    "        f1_stddev_for_t = round(np.mean(member_f1_stddev),3)\n",
    "\n",
    "        print(\"Model with\", t, \"recommendations: F1-score mean (\", f1_mean_for_t,\n",
    "              \") and F1-score std dev (\", f1_stddev_for_t,\").\")\n",
    "        \n",
    "    return precision_curve, recall_curve, members_metrics"
   ]
  },
  {
   "cell_type": "markdown",
   "metadata": {},
   "source": [
    "7) For comparison, define another testing function with almost the same behavior as above, but with a difference that the maximum number of recommendations to be tested with each customer is the average size of the baskets for this customer. This function can be used to optimize the results when applying (in production) to one customer at a time."
   ]
  },
  {
   "cell_type": "code",
   "execution_count": 148,
   "metadata": {},
   "outputs": [],
   "source": [
    "def cross_validate_model_avg(data, model, m_members = 5, n_splits = 5, based_on = 'SKU', member_id = None):\n",
    "     \n",
    "    \"\"\"\n",
    "    (Almost) the same function as above, with a difference that, in the case that the evaluation unit is the SKU,\n",
    "    the maximum number of recommended products for each tested customer is now set to be the average of all client basket's sizes\n",
    "    plus five.\n",
    "    \"\"\"\n",
    "    \n",
    "    print(\"Cross-validating the model with\", m_members, \"member(s) and\", n_splits, \"different train/test splits.\")\n",
    "    \n",
    "    if member_id == None:\n",
    "        members_sample = rd.sample(data['Member'].unique().tolist(), m_members)\n",
    "    else:\n",
    "        members_sample = [member_id]\n",
    "    \n",
    "    max_num_recommendations = 15\n",
    "    n_recommendations_list = []\n",
    "    \n",
    "    precision_curve = []\n",
    "    recall_curve = []\n",
    "            \n",
    "    for member in members_sample:\n",
    "        \n",
    "        df = data.loc[data['Member'] == member]\n",
    "    \n",
    "        if based_on == 'SKU':\n",
    "            n_recommendations_list.append(df.groupby(by=['Order']).size().mean())\n",
    "        else:\n",
    "            max_num_recommendations = min(len(df['Description'].unique()), max_num_recommendations)\n",
    "    \n",
    "    if based_on == 'SKU':\n",
    "        \n",
    "        max_num_recommendations = int(np.mean(n_recommendations_list))+5                              \n",
    "    \n",
    "    members_metrics = {}\n",
    "                                          \n",
    "    for t in range(np.max(max_num_recommendations - 5, 0), max_num_recommendations):\n",
    "        \n",
    "        member_precision_mean = []\n",
    "        member_recall_mean = []\n",
    "        member_f1_mean = []\n",
    "        member_f1_stddev = []\n",
    "        \n",
    "        for member in members_sample:\n",
    "        \n",
    "            df = data.loc[data['Member'] == member]\n",
    "    \n",
    "            mo_train_list, mo_test_list = split_orders(df, n_splits, based_on)\n",
    "    \n",
    "            member_precision_list = []\n",
    "            member_recall_list = []\n",
    "            member_f1_list = []\n",
    "        \n",
    "            for train_orders, test_orders in zip(mo_train_list, mo_test_list):\n",
    "\n",
    "                rank = model(train_orders)\n",
    "                top = topT(rank, t)\n",
    "                pre, rec = precision_recall(test_orders, top, t)\n",
    "                member_precision_list.append(pre)\n",
    "                member_recall_list.append(rec)\n",
    "                if (pre == 0 and rec == 0):\n",
    "                    member_f1_list.append(0)\n",
    "                else:\n",
    "                    member_f1_list.append(2 * (pre * rec) / (pre + rec))\n",
    "\n",
    "            members_metrics[member, t] = [round(np.mean(member_precision_list),3),\n",
    "                                          round(np.mean(member_recall_list),3),\n",
    "                                          round(np.mean(member_f1_list),3),\n",
    "                                          round(np.std(member_f1_list),3)]\n",
    "            \n",
    "            member_precision_mean.append(members_metrics[member, t][0])\n",
    "            member_recall_mean.append(members_metrics[member, t][1])\n",
    "            member_f1_mean.append(members_metrics[member, t][2])\n",
    "            member_f1_stddev.append(members_metrics[member, t][3])\n",
    "        \n",
    "        precision_curve.append(round(np.mean(member_precision_mean),3))\n",
    "        recall_curve.append(round(np.mean(member_recall_mean),3))\n",
    "        \n",
    "        f1_mean_for_t = round(np.mean(member_f1_mean),3)\n",
    "        f1_stddev_for_t = round(np.mean(member_f1_stddev),3)\n",
    "\n",
    "        print(\"Model with\", t, \"recommendations: F1-score mean (\", f1_mean_for_t,\n",
    "              \") and F1-score std dev (\", f1_stddev_for_t,\").\")\n",
    "        \n",
    "    return precision_curve, recall_curve, members_metric"
   ]
  },
  {
   "cell_type": "markdown",
   "metadata": {},
   "source": [
    "## Testing recommender on 5 random clients and:\n",
    "\n",
    "### Showing the overall result of the model"
   ]
  },
  {
   "cell_type": "code",
   "execution_count": 200,
   "metadata": {},
   "outputs": [
    {
     "name": "stdout",
     "output_type": "stream",
     "text": [
      "Cross-validating the model with 106 member(s) and 5 different train/test splits.\n",
      "Model with 1 recommendations: F1-score mean ( 0.09 ) and F1-score std dev ( 0.01 ).\n",
      "Model with 2 recommendations: F1-score mean ( 0.138 ) and F1-score std dev ( 0.014 ).\n",
      "Model with 3 recommendations: F1-score mean ( 0.174 ) and F1-score std dev ( 0.012 ).\n",
      "Model with 4 recommendations: F1-score mean ( 0.194 ) and F1-score std dev ( 0.013 ).\n",
      "Model with 5 recommendations: F1-score mean ( 0.212 ) and F1-score std dev ( 0.013 ).\n",
      "Model with 6 recommendations: F1-score mean ( 0.222 ) and F1-score std dev ( 0.015 ).\n",
      "Model with 7 recommendations: F1-score mean ( 0.232 ) and F1-score std dev ( 0.013 ).\n",
      "Model with 8 recommendations: F1-score mean ( 0.238 ) and F1-score std dev ( 0.013 ).\n",
      "Model with 9 recommendations: F1-score mean ( 0.244 ) and F1-score std dev ( 0.013 ).\n",
      "Model with 10 recommendations: F1-score mean ( 0.246 ) and F1-score std dev ( 0.013 ).\n",
      "Model with 11 recommendations: F1-score mean ( 0.25 ) and F1-score std dev ( 0.014 ).\n",
      "Model with 12 recommendations: F1-score mean ( 0.25 ) and F1-score std dev ( 0.013 ).\n",
      "Model with 13 recommendations: F1-score mean ( 0.25 ) and F1-score std dev ( 0.013 ).\n",
      "Model with 14 recommendations: F1-score mean ( 0.252 ) and F1-score std dev ( 0.012 ).\n",
      "Model with 15 recommendations: F1-score mean ( 0.252 ) and F1-score std dev ( 0.011 ).\n"
     ]
    }
   ],
   "source": [
    "pr_curve, re_curve, members_metric = cross_validate_model(data, model_pagerank, m_members = 106)"
   ]
  },
  {
   "cell_type": "markdown",
   "metadata": {},
   "source": [
    "### Showing the clients results individually\n",
    "\n",
    "Note that the optimal number of recommendations vary."
   ]
  },
  {
   "cell_type": "code",
   "execution_count": 150,
   "metadata": {},
   "outputs": [],
   "source": [
    "sorted_members_metric = {k: v for k, v in sorted(members_metric.items(), key=lambda item: item[0], reverse=False)}"
   ]
  },
  {
   "cell_type": "code",
   "execution_count": 151,
   "metadata": {},
   "outputs": [
    {
     "data": {
      "text/plain": [
       "{('M14746', 1): [0.267, 0.026, 0.048, 0.006],\n",
       " ('M14746', 2): [0.212, 0.039, 0.066, 0.01],\n",
       " ('M14746', 3): [0.224, 0.064, 0.1, 0.006],\n",
       " ('M14746', 4): [0.233, 0.087, 0.126, 0.019],\n",
       " ('M14746', 5): [0.271, 0.127, 0.173, 0.007],\n",
       " ('M14746', 6): [0.282, 0.155, 0.2, 0.002],\n",
       " ('M14746', 7): [0.233, 0.151, 0.183, 0.01],\n",
       " ('M14746', 8): [0.219, 0.168, 0.19, 0.022],\n",
       " ('M14746', 9): [0.247, 0.221, 0.233, 0.013],\n",
       " ('M14746', 10): [0.234, 0.23, 0.232, 0.004],\n",
       " ('M14746', 11): [0.246, 0.267, 0.256, 0.015],\n",
       " ('M14746', 12): [0.239, 0.281, 0.258, 0.008],\n",
       " ('M14746', 13): [0.231, 0.294, 0.259, 0.011],\n",
       " ('M14746', 14): [0.216, 0.298, 0.251, 0.008],\n",
       " ('M14746', 15): [0.213, 0.313, 0.253, 0.002],\n",
       " ('M42182', 1): [0.42, 0.092, 0.15, 0.008],\n",
       " ('M42182', 2): [0.277, 0.116, 0.164, 0.004],\n",
       " ('M42182', 3): [0.198, 0.124, 0.152, 0.004],\n",
       " ('M42182', 4): [0.191, 0.157, 0.172, 0.01],\n",
       " ('M42182', 5): [0.191, 0.196, 0.194, 0.016],\n",
       " ('M42182', 6): [0.187, 0.225, 0.204, 0.02],\n",
       " ('M42182', 7): [0.197, 0.266, 0.226, 0.022],\n",
       " ('M42182', 8): [0.166, 0.253, 0.2, 0.035],\n",
       " ('M42182', 9): [0.133, 0.232, 0.169, 0.025],\n",
       " ('M42182', 10): [0.141, 0.262, 0.183, 0.039],\n",
       " ('M42182', 11): [0.126, 0.263, 0.17, 0.016],\n",
       " ('M42182', 12): [0.13, 0.29, 0.179, 0.021],\n",
       " ('M42182', 13): [0.123, 0.294, 0.173, 0.03],\n",
       " ('M42182', 14): [0.114, 0.299, 0.165, 0.018],\n",
       " ('M42182', 15): [0.129, 0.349, 0.188, 0.012],\n",
       " ('M48154', 1): [0.389, 0.055, 0.097, 0.019],\n",
       " ('M48154', 2): [0.374, 0.104, 0.163, 0.027],\n",
       " ('M48154', 3): [0.379, 0.152, 0.217, 0.018],\n",
       " ('M48154', 4): [0.37, 0.193, 0.254, 0.01],\n",
       " ('M48154', 5): [0.375, 0.234, 0.288, 0.019],\n",
       " ('M48154', 6): [0.322, 0.248, 0.28, 0.023],\n",
       " ('M48154', 7): [0.294, 0.251, 0.27, 0.021],\n",
       " ('M48154', 8): [0.279, 0.297, 0.287, 0.016],\n",
       " ('M48154', 9): [0.255, 0.286, 0.269, 0.014],\n",
       " ('M48154', 10): [0.246, 0.311, 0.274, 0.014],\n",
       " ('M48154', 11): [0.242, 0.335, 0.281, 0.012],\n",
       " ('M48154', 12): [0.234, 0.323, 0.271, 0.014],\n",
       " ('M48154', 13): [0.214, 0.352, 0.266, 0.008],\n",
       " ('M48154', 14): [0.222, 0.37, 0.277, 0.005],\n",
       " ('M48154', 15): [0.209, 0.371, 0.267, 0.021],\n",
       " ('M54619', 1): [0.116, 0.015, 0.027, 0.021],\n",
       " ('M54619', 2): [0.15, 0.038, 0.061, 0.013],\n",
       " ('M54619', 3): [0.153, 0.057, 0.083, 0.005],\n",
       " ('M54619', 4): [0.124, 0.062, 0.083, 0.006],\n",
       " ('M54619', 5): [0.096, 0.061, 0.074, 0.007],\n",
       " ('M54619', 6): [0.08, 0.063, 0.071, 0.002],\n",
       " ('M54619', 7): [0.095, 0.081, 0.088, 0.033],\n",
       " ('M54619', 8): [0.118, 0.113, 0.115, 0.037],\n",
       " ('M54619', 9): [0.121, 0.13, 0.125, 0.003],\n",
       " ('M54619', 10): [0.119, 0.138, 0.128, 0.012],\n",
       " ('M54619', 11): [0.128, 0.175, 0.148, 0.01],\n",
       " ('M54619', 12): [0.126, 0.185, 0.15, 0.013],\n",
       " ('M54619', 13): [0.119, 0.197, 0.148, 0.015],\n",
       " ('M54619', 14): [0.131, 0.231, 0.167, 0.013],\n",
       " ('M54619', 15): [0.125, 0.241, 0.164, 0.005],\n",
       " ('M76390', 1): [0.141, 0.017, 0.03, 0.01],\n",
       " ('M76390', 2): [0.096, 0.023, 0.037, 0.007],\n",
       " ('M76390', 3): [0.116, 0.04, 0.059, 0.01],\n",
       " ('M76390', 4): [0.088, 0.038, 0.053, 0.008],\n",
       " ('M76390', 5): [0.103, 0.059, 0.075, 0.014],\n",
       " ('M76390', 6): [0.09, 0.062, 0.073, 0.011],\n",
       " ('M76390', 7): [0.122, 0.097, 0.108, 0.011],\n",
       " ('M76390', 8): [0.109, 0.103, 0.105, 0.007],\n",
       " ('M76390', 9): [0.111, 0.118, 0.115, 0.004],\n",
       " ('M76390', 10): [0.101, 0.113, 0.107, 0.004],\n",
       " ('M76390', 11): [0.103, 0.128, 0.114, 0.016],\n",
       " ('M76390', 12): [0.106, 0.15, 0.125, 0.005],\n",
       " ('M76390', 13): [0.104, 0.156, 0.125, 0.003],\n",
       " ('M76390', 14): [0.103, 0.167, 0.127, 0.003],\n",
       " ('M76390', 15): [0.104, 0.184, 0.133, 0.002]}"
      ]
     },
     "execution_count": 151,
     "metadata": {},
     "output_type": "execute_result"
    }
   ],
   "source": [
    "sorted_members_metric"
   ]
  },
  {
   "cell_type": "markdown",
   "metadata": {},
   "source": [
    "### Testing recommender on 3 sub-groups of clients:\n",
    "\n",
    "- low = low variability in products, low number of unique SKU customer buys\n",
    "- mid = medium variability, medium number of unique SKU customer buys\n",
    "- high = high cariability, wide range of products customers buy\n",
    "\n",
    "While on average with randomly selected clients recommender achieves around 20-25% F1 score, we illustrate that applied to clients with distinct purchasing patterns we can achive as much as 40% F1, with customers that make more repeated buys than the others who try a more wide range of products."
   ]
  },
  {
   "cell_type": "code",
   "execution_count": 201,
   "metadata": {},
   "outputs": [
    {
     "name": "stdout",
     "output_type": "stream",
     "text": [
      "Cross-validating the model with 20 member(s) and 5 different train/test splits.\n",
      "Model with 1 recommendations: F1-score mean ( 0.098 ) and F1-score std dev ( 0.013 ).\n",
      "Model with 2 recommendations: F1-score mean ( 0.143 ) and F1-score std dev ( 0.011 ).\n",
      "Model with 3 recommendations: F1-score mean ( 0.18 ) and F1-score std dev ( 0.017 ).\n",
      "Model with 4 recommendations: F1-score mean ( 0.204 ) and F1-score std dev ( 0.015 ).\n",
      "Model with 5 recommendations: F1-score mean ( 0.219 ) and F1-score std dev ( 0.015 ).\n",
      "Model with 6 recommendations: F1-score mean ( 0.23 ) and F1-score std dev ( 0.01 ).\n",
      "Model with 7 recommendations: F1-score mean ( 0.24 ) and F1-score std dev ( 0.011 ).\n",
      "Model with 8 recommendations: F1-score mean ( 0.242 ) and F1-score std dev ( 0.014 ).\n",
      "Model with 9 recommendations: F1-score mean ( 0.243 ) and F1-score std dev ( 0.012 ).\n",
      "Model with 10 recommendations: F1-score mean ( 0.25 ) and F1-score std dev ( 0.011 ).\n",
      "Model with 11 recommendations: F1-score mean ( 0.254 ) and F1-score std dev ( 0.012 ).\n",
      "Model with 12 recommendations: F1-score mean ( 0.253 ) and F1-score std dev ( 0.012 ).\n",
      "Model with 13 recommendations: F1-score mean ( 0.257 ) and F1-score std dev ( 0.012 ).\n",
      "Model with 14 recommendations: F1-score mean ( 0.258 ) and F1-score std dev ( 0.01 ).\n",
      "Model with 15 recommendations: F1-score mean ( 0.259 ) and F1-score std dev ( 0.009 ).\n"
     ]
    }
   ],
   "source": [
    "#based on 10 random clients non-weighted model (without grouping them)\n",
    "pr_curve, re_curve, members_metric = cross_validate_model(data, model_pagerank, m_members = 20)"
   ]
  },
  {
   "cell_type": "code",
   "execution_count": 202,
   "metadata": {},
   "outputs": [
    {
     "name": "stdout",
     "output_type": "stream",
     "text": [
      "Cross-validating the model with 20 member(s) and 5 different train/test splits.\n",
      "Model with 1 recommendations: F1-score mean ( 0.074 ) and F1-score std dev ( 0.011 ).\n",
      "Model with 2 recommendations: F1-score mean ( 0.118 ) and F1-score std dev ( 0.016 ).\n",
      "Model with 3 recommendations: F1-score mean ( 0.142 ) and F1-score std dev ( 0.017 ).\n",
      "Model with 4 recommendations: F1-score mean ( 0.164 ) and F1-score std dev ( 0.014 ).\n",
      "Model with 5 recommendations: F1-score mean ( 0.176 ) and F1-score std dev ( 0.017 ).\n",
      "Model with 6 recommendations: F1-score mean ( 0.18 ) and F1-score std dev ( 0.015 ).\n",
      "Model with 7 recommendations: F1-score mean ( 0.188 ) and F1-score std dev ( 0.016 ).\n",
      "Model with 8 recommendations: F1-score mean ( 0.198 ) and F1-score std dev ( 0.016 ).\n",
      "Model with 9 recommendations: F1-score mean ( 0.202 ) and F1-score std dev ( 0.015 ).\n",
      "Model with 10 recommendations: F1-score mean ( 0.202 ) and F1-score std dev ( 0.019 ).\n",
      "Model with 11 recommendations: F1-score mean ( 0.212 ) and F1-score std dev ( 0.017 ).\n",
      "Model with 12 recommendations: F1-score mean ( 0.206 ) and F1-score std dev ( 0.016 ).\n",
      "Model with 13 recommendations: F1-score mean ( 0.207 ) and F1-score std dev ( 0.012 ).\n",
      "Model with 14 recommendations: F1-score mean ( 0.208 ) and F1-score std dev ( 0.015 ).\n",
      "Model with 15 recommendations: F1-score mean ( 0.206 ) and F1-score std dev ( 0.014 ).\n"
     ]
    }
   ],
   "source": [
    "#based on 10 random clients weighted model (without grouing them)\n",
    "pr_curve2, re_curve2, members_metric2 = cross_validate_model(data, model_pagerank2, m_members = 20)"
   ]
  },
  {
   "cell_type": "code",
   "execution_count": 203,
   "metadata": {},
   "outputs": [],
   "source": [
    "#grouping into 3 test groups\n",
    "\n",
    "c=pd.DataFrame(data.groupby('Member')['SKU'].nunique())\n",
    "data_low=data[data['Member'].isin(c[c.SKU<100].index)]\n",
    "data_mid=data[data['Member'].isin(c[c.SKU.between(100, 150)].index)]\n",
    "data_high=data[data['Member'].isin(c[c.SKU>150].index)]"
   ]
  },
  {
   "cell_type": "code",
   "execution_count": 207,
   "metadata": {},
   "outputs": [
    {
     "name": "stdout",
     "output_type": "stream",
     "text": [
      "Cross-validating the model with 5 member(s) and 5 different train/test splits.\n",
      "Model with 1 recommendations: F1-score mean ( 0.139 ) and F1-score std dev ( 0.005 ).\n",
      "Model with 2 recommendations: F1-score mean ( 0.226 ) and F1-score std dev ( 0.015 ).\n",
      "Model with 3 recommendations: F1-score mean ( 0.292 ) and F1-score std dev ( 0.021 ).\n",
      "Model with 4 recommendations: F1-score mean ( 0.337 ) and F1-score std dev ( 0.015 ).\n",
      "Model with 5 recommendations: F1-score mean ( 0.358 ) and F1-score std dev ( 0.018 ).\n",
      "Model with 6 recommendations: F1-score mean ( 0.376 ) and F1-score std dev ( 0.014 ).\n",
      "Model with 7 recommendations: F1-score mean ( 0.38 ) and F1-score std dev ( 0.016 ).\n",
      "Model with 8 recommendations: F1-score mean ( 0.388 ) and F1-score std dev ( 0.016 ).\n",
      "Model with 9 recommendations: F1-score mean ( 0.392 ) and F1-score std dev ( 0.013 ).\n",
      "Model with 10 recommendations: F1-score mean ( 0.392 ) and F1-score std dev ( 0.016 ).\n",
      "Model with 11 recommendations: F1-score mean ( 0.395 ) and F1-score std dev ( 0.013 ).\n",
      "Model with 12 recommendations: F1-score mean ( 0.393 ) and F1-score std dev ( 0.015 ).\n",
      "Model with 13 recommendations: F1-score mean ( 0.391 ) and F1-score std dev ( 0.013 ).\n",
      "Model with 14 recommendations: F1-score mean ( 0.399 ) and F1-score std dev ( 0.013 ).\n",
      "Model with 15 recommendations: F1-score mean ( 0.389 ) and F1-score std dev ( 0.015 ).\n"
     ]
    }
   ],
   "source": [
    "#testing on samples from group 1 = low unique SKU\n",
    "\n",
    "pr_curve_low1, re_curve_low1, members_metric_low1 = cross_validate_model(data_low, model_pagerank)"
   ]
  },
  {
   "cell_type": "code",
   "execution_count": 208,
   "metadata": {},
   "outputs": [
    {
     "name": "stdout",
     "output_type": "stream",
     "text": [
      "Cross-validating the model with 5 member(s) and 5 different train/test splits.\n",
      "Model with 1 recommendations: F1-score mean ( 0.065 ) and F1-score std dev ( 0.011 ).\n",
      "Model with 2 recommendations: F1-score mean ( 0.141 ) and F1-score std dev ( 0.022 ).\n",
      "Model with 3 recommendations: F1-score mean ( 0.198 ) and F1-score std dev ( 0.019 ).\n",
      "Model with 4 recommendations: F1-score mean ( 0.216 ) and F1-score std dev ( 0.02 ).\n",
      "Model with 5 recommendations: F1-score mean ( 0.222 ) and F1-score std dev ( 0.016 ).\n",
      "Model with 6 recommendations: F1-score mean ( 0.255 ) and F1-score std dev ( 0.016 ).\n",
      "Model with 7 recommendations: F1-score mean ( 0.27 ) and F1-score std dev ( 0.021 ).\n",
      "Model with 8 recommendations: F1-score mean ( 0.272 ) and F1-score std dev ( 0.018 ).\n",
      "Model with 9 recommendations: F1-score mean ( 0.295 ) and F1-score std dev ( 0.017 ).\n",
      "Model with 10 recommendations: F1-score mean ( 0.283 ) and F1-score std dev ( 0.022 ).\n",
      "Model with 11 recommendations: F1-score mean ( 0.278 ) and F1-score std dev ( 0.02 ).\n",
      "Model with 12 recommendations: F1-score mean ( 0.285 ) and F1-score std dev ( 0.012 ).\n",
      "Model with 13 recommendations: F1-score mean ( 0.272 ) and F1-score std dev ( 0.015 ).\n",
      "Model with 14 recommendations: F1-score mean ( 0.276 ) and F1-score std dev ( 0.01 ).\n",
      "Model with 15 recommendations: F1-score mean ( 0.278 ) and F1-score std dev ( 0.015 ).\n"
     ]
    }
   ],
   "source": [
    "#testing on samples from group 1 = low unique SKU\n",
    "pr_curve_low2, re_curve_low2, members_metric_low2 = cross_validate_model(data_low, model_pagerank2)"
   ]
  },
  {
   "cell_type": "code",
   "execution_count": 209,
   "metadata": {},
   "outputs": [
    {
     "name": "stdout",
     "output_type": "stream",
     "text": [
      "Cross-validating the model with 5 member(s) and 5 different train/test splits.\n",
      "Model with 1 recommendations: F1-score mean ( 0.118 ) and F1-score std dev ( 0.023 ).\n",
      "Model with 2 recommendations: F1-score mean ( 0.178 ) and F1-score std dev ( 0.017 ).\n",
      "Model with 3 recommendations: F1-score mean ( 0.247 ) and F1-score std dev ( 0.011 ).\n",
      "Model with 4 recommendations: F1-score mean ( 0.269 ) and F1-score std dev ( 0.012 ).\n",
      "Model with 5 recommendations: F1-score mean ( 0.281 ) and F1-score std dev ( 0.007 ).\n",
      "Model with 6 recommendations: F1-score mean ( 0.283 ) and F1-score std dev ( 0.015 ).\n",
      "Model with 7 recommendations: F1-score mean ( 0.29 ) and F1-score std dev ( 0.01 ).\n",
      "Model with 8 recommendations: F1-score mean ( 0.302 ) and F1-score std dev ( 0.014 ).\n",
      "Model with 9 recommendations: F1-score mean ( 0.3 ) and F1-score std dev ( 0.013 ).\n",
      "Model with 10 recommendations: F1-score mean ( 0.304 ) and F1-score std dev ( 0.013 ).\n",
      "Model with 11 recommendations: F1-score mean ( 0.304 ) and F1-score std dev ( 0.014 ).\n",
      "Model with 12 recommendations: F1-score mean ( 0.309 ) and F1-score std dev ( 0.011 ).\n",
      "Model with 13 recommendations: F1-score mean ( 0.31 ) and F1-score std dev ( 0.013 ).\n",
      "Model with 14 recommendations: F1-score mean ( 0.302 ) and F1-score std dev ( 0.015 ).\n",
      "Model with 15 recommendations: F1-score mean ( 0.298 ) and F1-score std dev ( 0.012 ).\n"
     ]
    }
   ],
   "source": [
    "#testing on samples from group 1 = med unique SKU\n",
    "pr_curve_mid1, re_curve_mid1, members_metric_mid1 = cross_validate_model(data_mid, model_pagerank)"
   ]
  },
  {
   "cell_type": "code",
   "execution_count": 210,
   "metadata": {},
   "outputs": [
    {
     "name": "stdout",
     "output_type": "stream",
     "text": [
      "Cross-validating the model with 5 member(s) and 5 different train/test splits.\n",
      "Model with 1 recommendations: F1-score mean ( 0.084 ) and F1-score std dev ( 0.004 ).\n",
      "Model with 2 recommendations: F1-score mean ( 0.111 ) and F1-score std dev ( 0.005 ).\n",
      "Model with 3 recommendations: F1-score mean ( 0.129 ) and F1-score std dev ( 0.012 ).\n",
      "Model with 4 recommendations: F1-score mean ( 0.156 ) and F1-score std dev ( 0.017 ).\n",
      "Model with 5 recommendations: F1-score mean ( 0.176 ) and F1-score std dev ( 0.023 ).\n",
      "Model with 6 recommendations: F1-score mean ( 0.177 ) and F1-score std dev ( 0.01 ).\n",
      "Model with 7 recommendations: F1-score mean ( 0.192 ) and F1-score std dev ( 0.015 ).\n",
      "Model with 8 recommendations: F1-score mean ( 0.187 ) and F1-score std dev ( 0.011 ).\n",
      "Model with 9 recommendations: F1-score mean ( 0.197 ) and F1-score std dev ( 0.012 ).\n",
      "Model with 10 recommendations: F1-score mean ( 0.194 ) and F1-score std dev ( 0.014 ).\n",
      "Model with 11 recommendations: F1-score mean ( 0.199 ) and F1-score std dev ( 0.016 ).\n",
      "Model with 12 recommendations: F1-score mean ( 0.196 ) and F1-score std dev ( 0.013 ).\n",
      "Model with 13 recommendations: F1-score mean ( 0.203 ) and F1-score std dev ( 0.009 ).\n",
      "Model with 14 recommendations: F1-score mean ( 0.203 ) and F1-score std dev ( 0.012 ).\n",
      "Model with 15 recommendations: F1-score mean ( 0.196 ) and F1-score std dev ( 0.012 ).\n"
     ]
    }
   ],
   "source": [
    "#testing on samples from group 1 = med unique SKU\n",
    "pr_curve_mid2, re_curve_mid2, members_metric_mid2 = cross_validate_model(data_mid, model_pagerank2)"
   ]
  },
  {
   "cell_type": "code",
   "execution_count": 211,
   "metadata": {},
   "outputs": [
    {
     "name": "stdout",
     "output_type": "stream",
     "text": [
      "Cross-validating the model with 5 member(s) and 5 different train/test splits.\n",
      "Model with 1 recommendations: F1-score mean ( 0.072 ) and F1-score std dev ( 0.006 ).\n",
      "Model with 2 recommendations: F1-score mean ( 0.111 ) and F1-score std dev ( 0.013 ).\n",
      "Model with 3 recommendations: F1-score mean ( 0.138 ) and F1-score std dev ( 0.012 ).\n",
      "Model with 4 recommendations: F1-score mean ( 0.163 ) and F1-score std dev ( 0.017 ).\n",
      "Model with 5 recommendations: F1-score mean ( 0.174 ) and F1-score std dev ( 0.014 ).\n",
      "Model with 6 recommendations: F1-score mean ( 0.203 ) and F1-score std dev ( 0.01 ).\n",
      "Model with 7 recommendations: F1-score mean ( 0.207 ) and F1-score std dev ( 0.013 ).\n",
      "Model with 8 recommendations: F1-score mean ( 0.214 ) and F1-score std dev ( 0.015 ).\n",
      "Model with 9 recommendations: F1-score mean ( 0.219 ) and F1-score std dev ( 0.014 ).\n",
      "Model with 10 recommendations: F1-score mean ( 0.22 ) and F1-score std dev ( 0.016 ).\n",
      "Model with 11 recommendations: F1-score mean ( 0.232 ) and F1-score std dev ( 0.014 ).\n",
      "Model with 12 recommendations: F1-score mean ( 0.222 ) and F1-score std dev ( 0.016 ).\n",
      "Model with 13 recommendations: F1-score mean ( 0.236 ) and F1-score std dev ( 0.012 ).\n",
      "Model with 14 recommendations: F1-score mean ( 0.231 ) and F1-score std dev ( 0.011 ).\n",
      "Model with 15 recommendations: F1-score mean ( 0.225 ) and F1-score std dev ( 0.008 ).\n"
     ]
    }
   ],
   "source": [
    "#testing on samples from group 1 = high unique SKU\n",
    "pr_curve_high1, re_curve_high1, members_metric_high1 = cross_validate_model(data_high, model_pagerank)"
   ]
  },
  {
   "cell_type": "code",
   "execution_count": 212,
   "metadata": {},
   "outputs": [
    {
     "name": "stdout",
     "output_type": "stream",
     "text": [
      "Cross-validating the model with 5 member(s) and 5 different train/test splits.\n",
      "Model with 1 recommendations: F1-score mean ( 0.056 ) and F1-score std dev ( 0.014 ).\n",
      "Model with 2 recommendations: F1-score mean ( 0.117 ) and F1-score std dev ( 0.016 ).\n",
      "Model with 3 recommendations: F1-score mean ( 0.14 ) and F1-score std dev ( 0.018 ).\n",
      "Model with 4 recommendations: F1-score mean ( 0.185 ) and F1-score std dev ( 0.008 ).\n",
      "Model with 5 recommendations: F1-score mean ( 0.201 ) and F1-score std dev ( 0.012 ).\n",
      "Model with 6 recommendations: F1-score mean ( 0.209 ) and F1-score std dev ( 0.013 ).\n",
      "Model with 7 recommendations: F1-score mean ( 0.218 ) and F1-score std dev ( 0.013 ).\n",
      "Model with 8 recommendations: F1-score mean ( 0.219 ) and F1-score std dev ( 0.015 ).\n",
      "Model with 9 recommendations: F1-score mean ( 0.22 ) and F1-score std dev ( 0.016 ).\n",
      "Model with 10 recommendations: F1-score mean ( 0.219 ) and F1-score std dev ( 0.01 ).\n",
      "Model with 11 recommendations: F1-score mean ( 0.22 ) and F1-score std dev ( 0.014 ).\n",
      "Model with 12 recommendations: F1-score mean ( 0.224 ) and F1-score std dev ( 0.015 ).\n",
      "Model with 13 recommendations: F1-score mean ( 0.228 ) and F1-score std dev ( 0.01 ).\n",
      "Model with 14 recommendations: F1-score mean ( 0.237 ) and F1-score std dev ( 0.007 ).\n",
      "Model with 15 recommendations: F1-score mean ( 0.236 ) and F1-score std dev ( 0.012 ).\n"
     ]
    }
   ],
   "source": [
    "#testing on samples from group 1 = high unique SKU\n",
    "pr_curve_high2, re_curve_high2, members_metric_high2 = cross_validate_model(data_high, model_pagerank2)"
   ]
  },
  {
   "cell_type": "code",
   "execution_count": 213,
   "metadata": {},
   "outputs": [],
   "source": [
    "precision_curves_pagerank = [pr_curve_low1, pr_curve_mid1, pr_curve_high1, pr_curve]\n",
    "recall_curves_pagerank = [re_curve_low1, re_curve_mid1, re_curve_high1, re_curve]\n",
    "models_pagerank = ['pagerank-SKU-low', 'pagerank-SKU-mid', 'pagerank-SKU-high', 'pagerank-SKU-full']"
   ]
  },
  {
   "cell_type": "code",
   "execution_count": 214,
   "metadata": {},
   "outputs": [],
   "source": [
    "precision_curves_pagerank2 = [pr_curve_low2, pr_curve_mid2, pr_curve_high2, pr_curve2]\n",
    "recall_curves_pagerank2 = [re_curve_low2, re_curve_mid2, re_curve_high2, re_curve2]\n",
    "models_pagerank2 = ['pagerank2-SKU-low', 'pagerank2-SKU-mid', 'pagerank2-SKU-high', 'pagerank2-SKU-full']"
   ]
  },
  {
   "cell_type": "markdown",
   "metadata": {},
   "source": [
    "Define a function to compare the models and group selections, plotting the precision an recall curves with the baseline F1 curves."
   ]
  },
  {
   "cell_type": "code",
   "execution_count": 215,
   "metadata": {},
   "outputs": [],
   "source": [
    "def plot_precision_recall(precision_curves, recall_curves, models):\n",
    "    \n",
    "    \"\"\"Plot the precision-recall curve for different t recommendations\"\"\"\n",
    "    \n",
    "    # setup plot details\n",
    "    colors = cycle(['navy', 'turquoise', 'darkorange', 'cornflowerblue', 'teal', 'red', 'darkgreen','purple'])\n",
    "\n",
    "    plt.figure(figsize=(10, 10))\n",
    "    f_scores = np.linspace(0.1, 0.7, num=7)\n",
    "    lines = []\n",
    "    labels = []\n",
    "    for f_score in f_scores:\n",
    "        x = np.linspace(0.01, 1)\n",
    "        y = f_score * x / (2 * x - f_score)\n",
    "        l, = plt.plot(x[y >= 0], y[y >= 0], color='gray', alpha=0.1)\n",
    "        plt.annotate('f1={0:0.1f}'.format(f_score), xy=(0.65, y[45] + 0.02))\n",
    "\n",
    "    lines.append(l)\n",
    "    labels.append('f1 curves')\n",
    "    \n",
    "    for pr_curve, re_curve, color, model in zip(precision_curves, recall_curves, colors, models):\n",
    "        l, = plt.plot(re_curve, pr_curve, color=color, lw=1)\n",
    "        lines.append(l)\n",
    "        labels.append('Precision-recall for model {0}'\n",
    "                      ''.format(model))\n",
    "        for i in range(len(pr_curve)):\n",
    "            plt.annotate(i+1, (re_curve[i], pr_curve[i]),\n",
    "                         fontsize=9)\n",
    "\n",
    "    fig = plt.gcf()\n",
    "    fig.subplots_adjust(bottom=0.25)\n",
    "    plt.xlim([0.0, 0.80])\n",
    "    plt.ylim([0.0, 0.80])\n",
    "    plt.xlabel('Recall')\n",
    "    plt.ylabel('Precision')\n",
    "    plt.title('Precision-Recall curve for t recommendations')\n",
    "    plt.legend(lines, labels, loc='upper right', prop=dict(size=10))\n",
    "\n",
    "    plt.show()"
   ]
  },
  {
   "cell_type": "code",
   "execution_count": 216,
   "metadata": {},
   "outputs": [
    {
     "data": {
      "image/png": "[encoded data removed]",
      "text/plain": [
       "<Figure size 720x720 with 1 Axes>"
      ]
     },
     "metadata": {
      "needs_background": "light"
     },
     "output_type": "display_data"
    }
   ],
   "source": [
    "plot_precision_recall(precision_curves_pagerank, recall_curves_pagerank, models_pagerank)"
   ]
  },
  {
   "cell_type": "code",
   "execution_count": 217,
   "metadata": {},
   "outputs": [
    {
     "data": {
      "image/png": "[encoded data removed]",
      "text/plain": [
       "<Figure size 720x720 with 1 Axes>"
      ]
     },
     "metadata": {
      "needs_background": "light"
     },
     "output_type": "display_data"
    }
   ],
   "source": [
    "plot_precision_recall(precision_curves_pagerank2, recall_curves_pagerank2, models_pagerank2)"
   ]
  },
  {
   "cell_type": "markdown",
   "metadata": {},
   "source": [
    "### Smart basket set to average basket (based on past) and tested on target groups\n",
    "\n",
    "Now we use the testing approach in which the maximum number of recommended products for each tested customer is now set to be the average of all client basket's sizes plus five."
   ]
  },
  {
   "cell_type": "code",
   "execution_count": 164,
   "metadata": {},
   "outputs": [
    {
     "name": "stdout",
     "output_type": "stream",
     "text": [
      "Cross-validating the model with 5 member(s) and 5 different train/test splits.\n",
      "Model with 9 recommendations: F1-score mean ( 0.265 ) and F1-score std dev ( 0.016 ).\n",
      "Model with 10 recommendations: F1-score mean ( 0.268 ) and F1-score std dev ( 0.015 ).\n",
      "Model with 11 recommendations: F1-score mean ( 0.268 ) and F1-score std dev ( 0.016 ).\n",
      "Model with 12 recommendations: F1-score mean ( 0.272 ) and F1-score std dev ( 0.025 ).\n",
      "Model with 13 recommendations: F1-score mean ( 0.262 ) and F1-score std dev ( 0.025 ).\n"
     ]
    }
   ],
   "source": [
    "#avg, avg+1, avg+2, avg+3, avg+4 recommendation with random sampling of all clients\n",
    "pr_curve, re_curve, members_metric = cross_validate_model_avg(data, model_pagerank)"
   ]
  },
  {
   "cell_type": "code",
   "execution_count": 165,
   "metadata": {},
   "outputs": [
    {
     "name": "stdout",
     "output_type": "stream",
     "text": [
      "Cross-validating the model with 5 member(s) and 5 different train/test splits.\n",
      "Model with 7 recommendations: F1-score mean ( 0.198 ) and F1-score std dev ( 0.013 ).\n",
      "Model with 8 recommendations: F1-score mean ( 0.205 ) and F1-score std dev ( 0.016 ).\n",
      "Model with 9 recommendations: F1-score mean ( 0.218 ) and F1-score std dev ( 0.011 ).\n",
      "Model with 10 recommendations: F1-score mean ( 0.222 ) and F1-score std dev ( 0.011 ).\n",
      "Model with 11 recommendations: F1-score mean ( 0.223 ) and F1-score std dev ( 0.008 ).\n"
     ]
    }
   ],
   "source": [
    "#avg, avg+1, avg+2, avg+3, avg+4 recommendation with random sampling of all clients\n",
    "pr_curve, re_curve, members_metric = cross_validate_model_avg(data, model_pagerank2)"
   ]
  },
  {
   "cell_type": "code",
   "execution_count": 166,
   "metadata": {},
   "outputs": [
    {
     "name": "stdout",
     "output_type": "stream",
     "text": [
      "Cross-validating the model with 5 member(s) and 5 different train/test splits.\n",
      "Model with 6 recommendations: F1-score mean ( 0.399 ) and F1-score std dev ( 0.026 ).\n",
      "Model with 7 recommendations: F1-score mean ( 0.396 ) and F1-score std dev ( 0.028 ).\n",
      "Model with 8 recommendations: F1-score mean ( 0.39 ) and F1-score std dev ( 0.029 ).\n",
      "Model with 9 recommendations: F1-score mean ( 0.388 ) and F1-score std dev ( 0.022 ).\n",
      "Model with 10 recommendations: F1-score mean ( 0.397 ) and F1-score std dev ( 0.014 ).\n"
     ]
    }
   ],
   "source": [
    "pr_curve, re_curve, members_metric = cross_validate_model_avg(data_low, model_pagerank)"
   ]
  },
  {
   "cell_type": "code",
   "execution_count": 167,
   "metadata": {},
   "outputs": [
    {
     "name": "stdout",
     "output_type": "stream",
     "text": [
      "Cross-validating the model with 5 member(s) and 5 different train/test splits.\n",
      "Model with 7 recommendations: F1-score mean ( 0.318 ) and F1-score std dev ( 0.026 ).\n",
      "Model with 8 recommendations: F1-score mean ( 0.318 ) and F1-score std dev ( 0.021 ).\n",
      "Model with 9 recommendations: F1-score mean ( 0.329 ) and F1-score std dev ( 0.02 ).\n",
      "Model with 10 recommendations: F1-score mean ( 0.338 ) and F1-score std dev ( 0.011 ).\n",
      "Model with 11 recommendations: F1-score mean ( 0.318 ) and F1-score std dev ( 0.02 ).\n"
     ]
    }
   ],
   "source": [
    "pr_curve, re_curve, members_metric = cross_validate_model_avg(data_low, model_pagerank2)"
   ]
  },
  {
   "cell_type": "code",
   "execution_count": 168,
   "metadata": {},
   "outputs": [
    {
     "name": "stdout",
     "output_type": "stream",
     "text": [
      "Cross-validating the model with 5 member(s) and 5 different train/test splits.\n",
      "Model with 8 recommendations: F1-score mean ( 0.246 ) and F1-score std dev ( 0.011 ).\n",
      "Model with 9 recommendations: F1-score mean ( 0.252 ) and F1-score std dev ( 0.013 ).\n",
      "Model with 10 recommendations: F1-score mean ( 0.255 ) and F1-score std dev ( 0.01 ).\n",
      "Model with 11 recommendations: F1-score mean ( 0.257 ) and F1-score std dev ( 0.01 ).\n",
      "Model with 12 recommendations: F1-score mean ( 0.254 ) and F1-score std dev ( 0.012 ).\n"
     ]
    }
   ],
   "source": [
    "pr_curve, re_curve, members_metric = cross_validate_model_avg(data_mid, model_pagerank)"
   ]
  },
  {
   "cell_type": "code",
   "execution_count": 169,
   "metadata": {},
   "outputs": [
    {
     "name": "stdout",
     "output_type": "stream",
     "text": [
      "Cross-validating the model with 5 member(s) and 5 different train/test splits.\n",
      "Model with 8 recommendations: F1-score mean ( 0.258 ) and F1-score std dev ( 0.018 ).\n",
      "Model with 9 recommendations: F1-score mean ( 0.265 ) and F1-score std dev ( 0.007 ).\n",
      "Model with 10 recommendations: F1-score mean ( 0.261 ) and F1-score std dev ( 0.012 ).\n",
      "Model with 11 recommendations: F1-score mean ( 0.258 ) and F1-score std dev ( 0.013 ).\n",
      "Model with 12 recommendations: F1-score mean ( 0.267 ) and F1-score std dev ( 0.015 ).\n"
     ]
    }
   ],
   "source": [
    "pr_curve, re_curve, members_metric = cross_validate_model_avg(data_mid, model_pagerank2)"
   ]
  },
  {
   "cell_type": "code",
   "execution_count": 170,
   "metadata": {},
   "outputs": [
    {
     "name": "stdout",
     "output_type": "stream",
     "text": [
      "Cross-validating the model with 5 member(s) and 5 different train/test splits.\n",
      "Model with 8 recommendations: F1-score mean ( 0.227 ) and F1-score std dev ( 0.01 ).\n",
      "Model with 9 recommendations: F1-score mean ( 0.23 ) and F1-score std dev ( 0.012 ).\n",
      "Model with 10 recommendations: F1-score mean ( 0.232 ) and F1-score std dev ( 0.013 ).\n",
      "Model with 11 recommendations: F1-score mean ( 0.233 ) and F1-score std dev ( 0.013 ).\n",
      "Model with 12 recommendations: F1-score mean ( 0.236 ) and F1-score std dev ( 0.011 ).\n"
     ]
    }
   ],
   "source": [
    "pr_curve, re_curve, members_metric = cross_validate_model_avg(data_high, model_pagerank)"
   ]
  },
  {
   "cell_type": "code",
   "execution_count": 171,
   "metadata": {},
   "outputs": [
    {
     "name": "stdout",
     "output_type": "stream",
     "text": [
      "Cross-validating the model with 5 member(s) and 5 different train/test splits.\n",
      "Model with 11 recommendations: F1-score mean ( 0.137 ) and F1-score std dev ( 0.012 ).\n",
      "Model with 12 recommendations: F1-score mean ( 0.141 ) and F1-score std dev ( 0.011 ).\n",
      "Model with 13 recommendations: F1-score mean ( 0.131 ) and F1-score std dev ( 0.022 ).\n",
      "Model with 14 recommendations: F1-score mean ( 0.135 ) and F1-score std dev ( 0.019 ).\n",
      "Model with 15 recommendations: F1-score mean ( 0.136 ) and F1-score std dev ( 0.023 ).\n"
     ]
    }
   ],
   "source": [
    "pr_curve, re_curve, members_metric = cross_validate_model_avg(data_high, model_pagerank2)"
   ]
  },
  {
   "cell_type": "markdown",
   "metadata": {},
   "source": [
    "### Validating results with spot-check \n",
    "\n",
    "- Simulating recommender for a single client "
   ]
  },
  {
   "cell_type": "code",
   "execution_count": 172,
   "metadata": {},
   "outputs": [
    {
     "name": "stdout",
     "output_type": "stream",
     "text": [
      "Cross-validating the model with 1 member(s) and 5 different train/test splits.\n",
      "Model with 1 recommendations: F1-score mean ( 0.216 ) and F1-score std dev ( 0.008 ).\n",
      "Model with 2 recommendations: F1-score mean ( 0.352 ) and F1-score std dev ( 0.021 ).\n",
      "Model with 3 recommendations: F1-score mean ( 0.469 ) and F1-score std dev ( 0.027 ).\n",
      "Model with 4 recommendations: F1-score mean ( 0.494 ) and F1-score std dev ( 0.004 ).\n",
      "Model with 5 recommendations: F1-score mean ( 0.556 ) and F1-score std dev ( 0.017 ).\n",
      "Model with 6 recommendations: F1-score mean ( 0.533 ) and F1-score std dev ( 0.024 ).\n",
      "Model with 7 recommendations: F1-score mean ( 0.527 ) and F1-score std dev ( 0.018 ).\n",
      "Model with 8 recommendations: F1-score mean ( 0.512 ) and F1-score std dev ( 0.017 ).\n",
      "Model with 9 recommendations: F1-score mean ( 0.521 ) and F1-score std dev ( 0.023 ).\n",
      "Model with 10 recommendations: F1-score mean ( 0.501 ) and F1-score std dev ( 0.015 ).\n",
      "Model with 11 recommendations: F1-score mean ( 0.5 ) and F1-score std dev ( 0.013 ).\n",
      "Model with 12 recommendations: F1-score mean ( 0.496 ) and F1-score std dev ( 0.019 ).\n",
      "Model with 13 recommendations: F1-score mean ( 0.509 ) and F1-score std dev ( 0.013 ).\n",
      "Model with 14 recommendations: F1-score mean ( 0.497 ) and F1-score std dev ( 0.017 ).\n",
      "Model with 15 recommendations: F1-score mean ( 0.505 ) and F1-score std dev ( 0.02 ).\n"
     ]
    }
   ],
   "source": [
    "# Member: M99030\n",
    "# an example of sub-group low\n",
    "m99030_pr, m99030_re, m99030_metrics = cross_validate_model(data, model_pagerank, m_members = 1, member_id = 'M99030')"
   ]
  },
  {
   "cell_type": "code",
   "execution_count": 173,
   "metadata": {},
   "outputs": [
    {
     "name": "stdout",
     "output_type": "stream",
     "text": [
      "Member --- #Recommendations --- Precision --- Recall --- F1-score --- F1 Std Dev\n",
      "M99030           1               0.913         0.123       0.216       0.008\n",
      "M99030           2               0.836         0.223       0.352       0.021\n",
      "M99030           3               0.817         0.329       0.469       0.027\n",
      "M99030           4               0.723         0.376       0.494       0.004\n",
      "M99030           5               0.699         0.462       0.556       0.017\n",
      "M99030           6               0.612         0.472       0.533       0.024\n",
      "M99030           7               0.556         0.501       0.527       0.018\n",
      "M99030           8               0.509         0.516       0.512       0.017\n",
      "M99030           9               0.49         0.556       0.521       0.023\n",
      "M99030           10               0.453         0.56       0.501       0.015\n",
      "M99030           11               0.435         0.589       0.5       0.013\n",
      "M99030           12               0.418         0.61       0.496       0.019\n",
      "M99030           13               0.417         0.655       0.509       0.013\n",
      "M99030           14               0.398         0.664       0.497       0.017\n",
      "M99030           15               0.394         0.702       0.505       0.02\n"
     ]
    }
   ],
   "source": [
    "print('Member --- #Recommendations --- Precision --- Recall --- F1-score --- F1 Std Dev')\n",
    "for (key1, key2), value in m99030_metrics.items():\n",
    "    print(key1,'         ',\n",
    "          key2,'             ',\n",
    "          value[0],'       ',\n",
    "          value[1],'     ',\n",
    "          value[2],'     ',\n",
    "          value[3])"
   ]
  },
  {
   "cell_type": "markdown",
   "metadata": {},
   "source": [
    "### The 'Did you forget?' Problem - Modeling"
   ]
  },
  {
   "cell_type": "markdown",
   "metadata": {},
   "source": [
    "### Similarity measures\n",
    "\n",
    "#### Let X = (1, 1, 0, 0, 1) and Y = (0, 1, 1, 0, 0), where **1** indicates that the customer purchased the item X during a specific order and **0** indicates otherwise:\n",
    "\n",
    "**Cosine Similarity:**\n",
    "\n",
    "<img src=\"https://drive.google.com/uc?export=download&id=1bgCtGkjQ7buPhsMPi_Xs27aVj2DiSv1U\" alt=\"drawing\" width=\"200\" align=\"left\"/><br/><br/><br/>\n",
    "\n",
    "Close to 1: orders are very similar <br/>\n",
    "Close to 0: orders are dissimilar <br/>\n",
    "Close to -1: orders are completely opposite <br/>\n",
    "\n",
    "**Jaccard Coefficient:**\n",
    "\n",
    "<img src=\"https://drive.google.com/uc?export=download&id=1CXcdCtVfNkeMDUBmVdwnA29co05I4VDZ\" alt=\"drawing\" width=\"200\" align=\"left\"/><br/><br/><br/>\n",
    "\n",
    "Where 𝑛(𝑋 ∩ 𝑌) is the number of units in 𝑋 ∩ 𝑌 and 𝑛(𝑋 ∪ 𝑌) is the number of units in 𝑋 ∪ 𝑌.\n",
    "\n",
    "<br/>\n",
    "\n",
    "**Dice Coefficient:** \n",
    "\n",
    "<img src=\"https://drive.google.com/uc?export=download&id=10y6zhz4N-1d5StmyKhdK2Dhp4CQKHaq_\" alt=\"drawing\" width=\"200\" align=\"left\"/><br/><br/><br/>\n",
    "\n",
    "Where 𝑛(𝑋 ∩ 𝑌) is the number of units in 𝑋 ∩ 𝑌, 𝑛(𝑋) is the number of elements in 𝑋 and 𝑛(𝑌) is the number of elements in 𝑌."
   ]
  },
  {
   "cell_type": "markdown",
   "metadata": {},
   "source": [
    "1) Define a function for each of the similarity measures:"
   ]
  },
  {
   "cell_type": "code",
   "execution_count": 174,
   "metadata": {},
   "outputs": [],
   "source": [
    "def model_dice(mo_train):\n",
    "    \"\"\"\n",
    "    Receives a training set ('mo_train') from a list ('mo_train_list') created by 'split_orders' function.\n",
    "    For the training set returns the dice coefficient for each pair of products (by 'SKU' or 'Description').\n",
    "    \"\"\"\n",
    "    \n",
    "    column_combinations = list(combinations(mo_train.columns,2))\n",
    "    dice_dict = {}\n",
    "    n_column = {}\n",
    "    \n",
    "    for column in mo_train.columns:\n",
    "        n_column[column] = np.sum(mo_train[column].ne(0))\n",
    "    \n",
    "    for cc in column_combinations:\n",
    "        n_xy = np.sum(np.logical_and(mo_train[cc[0]].ne(0), mo_train[cc[1]].ne(0)))\n",
    "        n_x = n_column[cc[0]]\n",
    "        n_y = n_column[cc[1]]\n",
    "        \n",
    "        if ((n_x + n_y) != 0):\n",
    "            dice = 2*n_xy/(n_x + n_y)\n",
    "        else:\n",
    "            dice = 0\n",
    "        \n",
    "        dice_dict[cc] = dice\n",
    "        \n",
    "    return dice_dict"
   ]
  },
  {
   "cell_type": "code",
   "execution_count": 175,
   "metadata": {},
   "outputs": [],
   "source": [
    "def model_jaccard(mo_train):\n",
    "    \"\"\"\n",
    "    Receives a training set ('mo_train') from a list ('mo_train_list') created by 'split_orders' function.\n",
    "    For the training set returns the jaccard coefficient for each pair of products (by 'SKU' or 'Description').\n",
    "    \"\"\"\n",
    "    \n",
    "    column_combinations = list(combinations(mo_train.columns,2))\n",
    "    jacc_dict = {}\n",
    "    \n",
    "    for cc in column_combinations:\n",
    "        n_xy = np.sum(np.logical_and(mo_train[cc[0]].ne(0), mo_train[cc[1]].ne(0)))\n",
    "        n_xuy = np.sum(np.logical_or(mo_train[cc[0]].ne(0), mo_train[cc[1]].ne(0)))\n",
    "        \n",
    "        if (n_xuy != 0):\n",
    "            jaccard = n_xy/n_xuy\n",
    "        else:\n",
    "            jaccard = 0\n",
    "        \n",
    "        jacc_dict[cc] = jaccard\n",
    "        \n",
    "    return jacc_dict"
   ]
  },
  {
   "cell_type": "code",
   "execution_count": 176,
   "metadata": {},
   "outputs": [],
   "source": [
    "def model_cosine(mo_train):\n",
    "    \"\"\"\n",
    "    Receives a training set ('mo_train') from a list ('mo_train_list') created by 'split_orders' function.\n",
    "    For the training set returns the cosine similarity for each pair of products (by 'SKU' or 'Description').\n",
    "    \"\"\"\n",
    "    \n",
    "    column_combinations = list(combinations(mo_train.columns,2))\n",
    "    cosine_dict = {}\n",
    "    n_column = {}\n",
    "    \n",
    "    for cc in column_combinations:\n",
    "        dot_xy = mo_train[cc[0]].dot(mo_train[cc[1]])\n",
    "        sum_dot_xy = dot_xy.sum()\n",
    "        \n",
    "        x_2 = mo_train[cc[0]] ** 2\n",
    "        y_2 = mo_train[cc[1]] ** 2\n",
    "        \n",
    "        root_x_2 = np.sqrt(x_2.sum())\n",
    "        root_y_2 = np.sqrt(y_2.sum())\n",
    "        \n",
    "        if (root_x_2 != 0) and (root_y_2 != 0):\n",
    "            cosine = sum_dot_xy / (root_x_2 * root_y_2)\n",
    "        else:\n",
    "            cosine = 0\n",
    "        \n",
    "        cosine_dict[cc] = cosine\n",
    "        \n",
    "    return cosine_dict"
   ]
  },
  {
   "cell_type": "markdown",
   "metadata": {},
   "source": [
    "### \"Did you forget?\" Problem - Testing Strategy"
   ]
  },
  {
   "cell_type": "markdown",
   "metadata": {},
   "source": [
    "1. Considering all the orders from a single customer, split the orders into training and testing sets with, for instance, 75% and 25% of the purchased items using Monte Carlo;\n",
    "2. With the training set, calculate the similarity measure and generate a dictionary with pairwise similarity;\n",
    "3. The model is tested with different numbers of recommendations from 1 to a maximum of 'max_num_recommendations' possibly forgotten items. Also, for each order in the test set we compute the **precision** (percentage of recommended items that were consumed by the user), and the **recall** (percentage of consumed products that have been included in the recommendation list of size t).\n",
    "4. Compute the mean precision and recall. Use them to compute the **F1-score** for the test sample.\n",
    "5. Cross-validate the model (calculate the mean and std deviation of the F1 score).\n",
    "6. Repeat the steps for the different ‘n’ values.\n",
    "7. Repeat the steps for different models.\n",
    "\n",
    "For this problem, **precision** is the percentage of possibly forgotten (recommended) products that were consumed by the user (i.e., included in the hidden basket), and **recall** is the percentage of hidden products that have been included in the recommendation."
   ]
  },
  {
   "cell_type": "markdown",
   "metadata": {},
   "source": [
    "2) Define a function that 'hides' some items from a single order for testing purposes."
   ]
  },
  {
   "cell_type": "code",
   "execution_count": 177,
   "metadata": {},
   "outputs": [],
   "source": [
    "def hold_items(mo_test):\n",
    "    \n",
    "    \"\"\"\n",
    "    Randomly splits a test order (mo_test), holding some items to be used when testing the model.\n",
    "    Returns a new version of mo_test, which includes three new columns:\n",
    "        1) list containing items (subsets of SKUs or Descriptions) that are in the basket;\n",
    "        2) list with 'visible' items;\n",
    "        3) list with 'hidden' items.\n",
    "    \"\"\"\n",
    "    \n",
    "    def nonzero_items(order):\n",
    "        return order.iloc[order.to_numpy().nonzero()].index.tolist()\n",
    "    \n",
    "    def random_hide(basket):\n",
    "        rd.shuffle(basket)\n",
    "        if len(basket) != 1:       \n",
    "            point = rd.randint(1, len(basket)-1)\n",
    "            return basket[:point], basket[point:]\n",
    "        else:\n",
    "            return basket, []\n",
    "    \n",
    "    mo_test['basket'] = mo_test.apply(nonzero_items, axis=1)\n",
    "    \n",
    "    temp = mo_test['basket'].apply(random_hide)\n",
    "    temp = pd.DataFrame(temp)\n",
    "    mo_test['visible'] = temp.apply(lambda x: [y[0] for y in x])\n",
    "    mo_test['hidden'] = temp.apply(lambda x: [y[1] for y in x])\n",
    "    \n",
    "    return mo_test"
   ]
  },
  {
   "cell_type": "markdown",
   "metadata": {},
   "source": [
    "3) Define a function for recommending N products based on the chosen similarity measure (model)."
   ]
  },
  {
   "cell_type": "code",
   "execution_count": 178,
   "metadata": {},
   "outputs": [],
   "source": [
    "def forgotN(visible_basket, sim_dict, sim_minimum, N):\n",
    "    \n",
    "    \"\"\"\n",
    "    Receives a dict (sim_dict) containing products doubles and ther similarities.\n",
    "    Returns the top N recommended products according to the following criteria:\n",
    "    1) The recommended products must not be in the current basket (visible_basket);\n",
    "    2) The recommended procucts must have a minimum similarity with any another product (already in the basket);\n",
    "    3) The number of recommended products must be N or less (depending on the minimum similarity).\n",
    "    \"\"\"\n",
    "    \n",
    "    # Remove all similarities equal to zero (for performance purposes)\n",
    "    sim_dict = {key:val for key, val in sim_dict.items() if val != 0}\n",
    "\n",
    "    basket_sim_dict = {}\n",
    "    \n",
    "    # Maintaining the sim_dict entries which include items in the current basket\n",
    "    # iterating over items in the current basket, maintaining only their similarities with any product in basket_sim_dict\n",
    "    for i in visible_basket:\n",
    "        i_dict = {key:val for key, val in sim_dict.items() if i in key}\n",
    "        basket_sim_dict = {**basket_sim_dict, **i_dict}\n",
    "    \n",
    "    # Removing the entries with similarities below 'sim_minimum'\n",
    "    basket_sim_dict = {key:val for key, val in basket_sim_dict.items() if val >= sim_minimum}  \n",
    "    \n",
    "    # Sorting the similarites (descending order)\n",
    "    basket_sim_dict = {k: v for k, v in sorted(basket_sim_dict.items(), key=lambda item: item[1], reverse=True)}\n",
    "    \n",
    "    # From the remaining entries iteratively test the doubles\n",
    "    did_you_forget_list = []\n",
    "    \n",
    "    for key in basket_sim_dict:\n",
    "        prods_double = list(key)\n",
    "        if (len(did_you_forget_list) == N):\n",
    "            break\n",
    "        elif (prods_double[0] not in visible_basket):\n",
    "            did_you_forget_list.append(prods_double[0])\n",
    "        elif (prods_double[1] not in visible_basket) and (len(did_you_forget_list) < N):\n",
    "            did_you_forget_list.append(prods_double[1])\n",
    "    \n",
    "    return did_you_forget_list"
   ]
  },
  {
   "cell_type": "markdown",
   "metadata": {},
   "source": [
    "4) Define a function to calculate precision and recall for this problem."
   ]
  },
  {
   "cell_type": "code",
   "execution_count": 179,
   "metadata": {},
   "outputs": [],
   "source": [
    "def didyouforget_precision_recall(mo_test, sim_dict, sim_minimum, N):\n",
    "    \n",
    "    \"\"\"\n",
    "    Returns the precision and the recall for a test set of orders.\n",
    "    \n",
    "    Precision: number of elements in the intersection of hidden and recommended items,\n",
    "    divided by number of recommended items.\n",
    "    \n",
    "    Recall: number of elements in the intersection of hidden and recommended items,\n",
    "    divided by number of hidden items.\n",
    "    \"\"\"\n",
    "    \n",
    "    def precision(order):\n",
    "        intersection = list(set(order.hidden).intersection(set(order.forgot)))\n",
    "        intersection_len = len(intersection)\n",
    "        if len(order.forgot) != 0:\n",
    "            return intersection_len/len(order.forgot)\n",
    "        else:\n",
    "            return 0\n",
    "    \n",
    "    def recall(order):\n",
    "        intersection = list(set(order.hidden).intersection(set(order.forgot)))\n",
    "        intersection_len = len(intersection)\n",
    "        if len(order.hidden) != 0:\n",
    "            return intersection_len/len(order.hidden)\n",
    "        else:\n",
    "            return 0\n",
    "    \n",
    "    mo_test['forgot'] = mo_test['visible'].apply(forgotN, args=(sim_dict, sim_minimum, N))\n",
    "    mo_test['precision'] = mo_test.apply(precision, axis=1)\n",
    "    mo_test['recall'] = mo_test.apply(recall, axis=1)\n",
    "    \n",
    "    pre = np.mean(mo_test['precision'])\n",
    "    rec = np.mean(mo_test['recall'])\n",
    "       \n",
    "    return pre, rec"
   ]
  },
  {
   "cell_type": "markdown",
   "metadata": {},
   "source": [
    "5) Define a function that implements the testing strategy."
   ]
  },
  {
   "cell_type": "code",
   "execution_count": 180,
   "metadata": {},
   "outputs": [],
   "source": [
    "def cross_validate_forget(data, model, based_on, m_members = 5, n_splits = 5, sim_minimum = 0.1, member_id = None):\n",
    "     \n",
    "    \"\"\"Randomly selects a number of different customers equal to 'm_members' and cross-validate the model\n",
    "       with these customers using all possible number of recommendations (forgotten items).\n",
    "       \n",
    "       This function also performs cross-validation among different train/test splits.\n",
    "       \n",
    "       The resulting precision, recall and F1-score for the evaluated model are the average of the measures\n",
    "       obtained for each train/test split and then for each customer in the sample.\n",
    "       \n",
    "       Returns precision_curve and recall_curve for the model, which corresponds to the precision and recall obtained\n",
    "       for each number of recommendations (n).\n",
    "       \n",
    "       Precision_curve and recall_curve will later be used to plot the model results in comparison with other models.\n",
    "       \n",
    "       A model corresponds to a single similarity measure implementation.\"\"\"\n",
    "    \n",
    "    print(\"Cross-validating the model (\",\n",
    "          model.__name__ ,\n",
    "          \") with:\",\n",
    "          m_members,\n",
    "          \"member(s) and\",\n",
    "          n_splits,\n",
    "          \"different train/test splits.\")\n",
    "    \n",
    "    if member_id == None:\n",
    "        members_sample = rd.sample(data['Member'].unique().tolist(), m_members)\n",
    "    else:\n",
    "        members_sample = [member_id]\n",
    "        \n",
    "    max_num_recommendations = 5\n",
    "    \n",
    "    precision_curve = []\n",
    "    recall_curve = []\n",
    "    \n",
    "    members_metrics = {}\n",
    "    \n",
    "    for n in range(1, max_num_recommendations+1):\n",
    "        \n",
    "        member_precision_mean = []\n",
    "        member_recall_mean = []\n",
    "        member_f1_mean = []\n",
    "        member_f1_stddev = []\n",
    "        \n",
    "        for member in members_sample:\n",
    "        \n",
    "            df = data.loc[data['Member'] == member]\n",
    "    \n",
    "            mo_train_list, mo_test_list = split_orders(df, n_splits, based_on)\n",
    "    \n",
    "            member_precision_list = []\n",
    "            member_recall_list = []\n",
    "            member_f1_list = []\n",
    "        \n",
    "            for train_order, test_order in zip(mo_train_list, mo_test_list):\n",
    "                \n",
    "                sim_dict = model(train_order)\n",
    "                test_order = hold_items(test_order)\n",
    "                pre, rec = didyouforget_precision_recall(test_order, sim_dict, sim_minimum, n)\n",
    "                member_precision_list.append(pre)\n",
    "                member_recall_list.append(rec)\n",
    "                if (pre == 0 and rec == 0):\n",
    "                    member_f1_list.append(0)\n",
    "                else:\n",
    "                    member_f1_list.append(2 * (pre * rec) / (pre + rec))\n",
    "\n",
    "            members_metrics[member, n] = [round(np.mean(member_precision_list),3),\n",
    "                                          round(np.mean(member_recall_list),3),\n",
    "                                          round(np.mean(member_f1_list),3),\n",
    "                                          round(np.std(member_f1_list),3)]\n",
    "            \n",
    "            member_precision_mean.append(members_metrics[member, n][0])\n",
    "            member_recall_mean.append(members_metrics[member, n][1])\n",
    "            member_f1_mean.append(members_metrics[member, n][2])\n",
    "            member_f1_stddev.append(members_metrics[member, n][3])        \n",
    "        \n",
    "        precision_curve.append(round(np.mean(member_precision_mean),3))\n",
    "        recall_curve.append(round(np.mean(member_recall_mean),3))\n",
    "        \n",
    "        f1_mean_for_n = round(np.mean(member_f1_mean),3)\n",
    "        f1_stddev_for_n = round(np.mean(member_f1_stddev),3)\n",
    "\n",
    "        print(\"Model with\", n, \"recommendations: F1-score mean (\", f1_mean_for_n,\n",
    "              \") and F1-score std dev (\", f1_stddev_for_n,\").\")\n",
    "        \n",
    "    return precision_curve, recall_curve, members_metrics"
   ]
  },
  {
   "cell_type": "markdown",
   "metadata": {},
   "source": [
    "### Testing only for orders with more than 3 items\n",
    "\n",
    "Considering that orders with less than 1 or 2 items can be considered as occasional purchases and situations in which the customer returned after forgetting items."
   ]
  },
  {
   "cell_type": "code",
   "execution_count": 181,
   "metadata": {},
   "outputs": [],
   "source": [
    "x = data.groupby(['Order','Description']).size().unstack(fill_value=0)\n",
    "y = x[x.sum(axis=1) > 3].index.tolist()"
   ]
  },
  {
   "cell_type": "code",
   "execution_count": 182,
   "metadata": {},
   "outputs": [
    {
     "name": "stdout",
     "output_type": "stream",
     "text": [
      "Cross-validating the model ( model_dice ) with: 5 member(s) and 5 different train/test splits.\n",
      "Model with 1 recommendations: F1-score mean ( 0.208 ) and F1-score std dev ( 0.039 ).\n",
      "Model with 2 recommendations: F1-score mean ( 0.291 ) and F1-score std dev ( 0.055 ).\n",
      "Model with 3 recommendations: F1-score mean ( 0.308 ) and F1-score std dev ( 0.067 ).\n",
      "Model with 4 recommendations: F1-score mean ( 0.347 ) and F1-score std dev ( 0.047 ).\n",
      "Model with 5 recommendations: F1-score mean ( 0.33 ) and F1-score std dev ( 0.054 ).\n"
     ]
    }
   ],
   "source": [
    "pr_curve5, re_curve5, members_metrics5 = cross_validate_forget(data[data['Order'].isin(y)], model_dice, 'Description')"
   ]
  },
  {
   "cell_type": "code",
   "execution_count": 183,
   "metadata": {},
   "outputs": [
    {
     "name": "stdout",
     "output_type": "stream",
     "text": [
      "Cross-validating the model ( model_jaccard ) with: 5 member(s) and 5 different train/test splits.\n",
      "Model with 1 recommendations: F1-score mean ( 0.157 ) and F1-score std dev ( 0.041 ).\n",
      "Model with 2 recommendations: F1-score mean ( 0.222 ) and F1-score std dev ( 0.052 ).\n",
      "Model with 3 recommendations: F1-score mean ( 0.248 ) and F1-score std dev ( 0.041 ).\n",
      "Model with 4 recommendations: F1-score mean ( 0.252 ) and F1-score std dev ( 0.04 ).\n",
      "Model with 5 recommendations: F1-score mean ( 0.244 ) and F1-score std dev ( 0.037 ).\n"
     ]
    }
   ],
   "source": [
    "pr_curve6, re_curve6, members_metrics6 = cross_validate_forget(data[data['Order'].isin(y)], model_jaccard, 'Description')"
   ]
  },
  {
   "cell_type": "code",
   "execution_count": 184,
   "metadata": {},
   "outputs": [
    {
     "name": "stdout",
     "output_type": "stream",
     "text": [
      "Cross-validating the model ( model_cosine ) with: 5 member(s) and 5 different train/test splits.\n",
      "Model with 1 recommendations: F1-score mean ( 0.169 ) and F1-score std dev ( 0.046 ).\n",
      "Model with 2 recommendations: F1-score mean ( 0.235 ) and F1-score std dev ( 0.045 ).\n",
      "Model with 3 recommendations: F1-score mean ( 0.262 ) and F1-score std dev ( 0.056 ).\n",
      "Model with 4 recommendations: F1-score mean ( 0.278 ) and F1-score std dev ( 0.038 ).\n",
      "Model with 5 recommendations: F1-score mean ( 0.278 ) and F1-score std dev ( 0.038 ).\n"
     ]
    }
   ],
   "source": [
    "pr_curve7, re_curve7, members_metrics7 = cross_validate_forget(data[data['Order'].isin(y)], model_cosine, 'Description')"
   ]
  },
  {
   "cell_type": "code",
   "execution_count": 185,
   "metadata": {},
   "outputs": [],
   "source": [
    "precision_curves2 = [pr_curve5, pr_curve6, pr_curve7]\n",
    "recall_curves2 = [re_curve5, re_curve6, re_curve7]\n",
    "models2 = ['dice', 'jaccard', 'cosine']"
   ]
  },
  {
   "cell_type": "code",
   "execution_count": 186,
   "metadata": {
    "scrolled": true
   },
   "outputs": [
    {
     "data": {
      "image/png": "[encoded data removed]",
      "text/plain": [
       "<Figure size 720x720 with 1 Axes>"
      ]
     },
     "metadata": {
      "needs_background": "light"
     },
     "output_type": "display_data"
    }
   ],
   "source": [
    "plot_precision_recall(precision_curves2, recall_curves2, models2)"
   ]
  },
  {
   "cell_type": "markdown",
   "metadata": {},
   "source": [
    "### Testing with data limited on the 30 most recent orders (per customer)"
   ]
  },
  {
   "cell_type": "code",
   "execution_count": 187,
   "metadata": {},
   "outputs": [],
   "source": [
    "gb = data.sort_values(by=['Member','Created On'], ascending=False).groupby(['Order'])['Member','Order'].head(1)"
   ]
  },
  {
   "cell_type": "code",
   "execution_count": 188,
   "metadata": {},
   "outputs": [],
   "source": [
    "gb_df = gb.groupby(['Member']).head(30)"
   ]
  },
  {
   "cell_type": "code",
   "execution_count": 189,
   "metadata": {},
   "outputs": [],
   "source": [
    "keys = list(gb_df.columns.values)\n",
    "i1 = data.set_index(keys).index\n",
    "i2 = gb_df.set_index(keys).index\n",
    "data_30 = data[i1.isin(i2)].sort_values(by=['Created On'], ascending=True)"
   ]
  },
  {
   "cell_type": "code",
   "execution_count": 190,
   "metadata": {},
   "outputs": [],
   "source": [
    "# Repeating the strategy of cutting the orders with less than 3 items.\n",
    "\n",
    "x = data_30.groupby(['Order','Description']).size().unstack(fill_value=0)\n",
    "y = x[x.sum(axis=1) > 3].index.tolist()"
   ]
  },
  {
   "cell_type": "code",
   "execution_count": 191,
   "metadata": {},
   "outputs": [
    {
     "name": "stdout",
     "output_type": "stream",
     "text": [
      "Cross-validating the model ( model_dice ) with: 5 member(s) and 5 different train/test splits.\n",
      "Model with 1 recommendations: F1-score mean ( 0.171 ) and F1-score std dev ( 0.074 ).\n",
      "Model with 2 recommendations: F1-score mean ( 0.218 ) and F1-score std dev ( 0.052 ).\n",
      "Model with 3 recommendations: F1-score mean ( 0.23 ) and F1-score std dev ( 0.067 ).\n",
      "Model with 4 recommendations: F1-score mean ( 0.257 ) and F1-score std dev ( 0.059 ).\n",
      "Model with 5 recommendations: F1-score mean ( 0.244 ) and F1-score std dev ( 0.047 ).\n"
     ]
    }
   ],
   "source": [
    "pr_curve8, re_curve8, members_metrics8 = cross_validate_forget(data_30[data_30['Order'].isin(y)], model_dice, 'Description')"
   ]
  },
  {
   "cell_type": "code",
   "execution_count": 192,
   "metadata": {},
   "outputs": [
    {
     "name": "stdout",
     "output_type": "stream",
     "text": [
      "Cross-validating the model ( model_jaccard ) with: 5 member(s) and 5 different train/test splits.\n",
      "Model with 1 recommendations: F1-score mean ( 0.088 ) and F1-score std dev ( 0.042 ).\n",
      "Model with 2 recommendations: F1-score mean ( 0.104 ) and F1-score std dev ( 0.037 ).\n",
      "Model with 3 recommendations: F1-score mean ( 0.112 ) and F1-score std dev ( 0.045 ).\n",
      "Model with 4 recommendations: F1-score mean ( 0.157 ) and F1-score std dev ( 0.043 ).\n",
      "Model with 5 recommendations: F1-score mean ( 0.158 ) and F1-score std dev ( 0.04 ).\n"
     ]
    }
   ],
   "source": [
    "pr_curve9, re_curve9, members_metrics9 = cross_validate_forget(data_30, model_jaccard, 'Description')"
   ]
  },
  {
   "cell_type": "code",
   "execution_count": 193,
   "metadata": {},
   "outputs": [
    {
     "name": "stdout",
     "output_type": "stream",
     "text": [
      "Cross-validating the model ( model_cosine ) with: 5 member(s) and 5 different train/test splits.\n",
      "Model with 1 recommendations: F1-score mean ( 0.121 ) and F1-score std dev ( 0.062 ).\n",
      "Model with 2 recommendations: F1-score mean ( 0.18 ) and F1-score std dev ( 0.059 ).\n",
      "Model with 3 recommendations: F1-score mean ( 0.233 ) and F1-score std dev ( 0.057 ).\n",
      "Model with 4 recommendations: F1-score mean ( 0.255 ) and F1-score std dev ( 0.071 ).\n",
      "Model with 5 recommendations: F1-score mean ( 0.246 ) and F1-score std dev ( 0.063 ).\n"
     ]
    }
   ],
   "source": [
    "pr_curve10, re_curve10, members_metrics10 = cross_validate_forget(data_30, model_cosine, 'Description')"
   ]
  },
  {
   "cell_type": "code",
   "execution_count": 194,
   "metadata": {},
   "outputs": [],
   "source": [
    "precision_curves3 = [pr_curve8, pr_curve9, pr_curve10]\n",
    "recall_curves3 = [re_curve8, re_curve9, re_curve10]"
   ]
  },
  {
   "cell_type": "code",
   "execution_count": 195,
   "metadata": {},
   "outputs": [
    {
     "data": {
      "image/png": "[encoded data removed]",
      "text/plain": [
       "<Figure size 720x720 with 1 Axes>"
      ]
     },
     "metadata": {
      "needs_background": "light"
     },
     "output_type": "display_data"
    }
   ],
   "source": [
    "plot_precision_recall(precision_curves3, recall_curves3, models2)"
   ]
  },
  {
   "cell_type": "markdown",
   "metadata": {},
   "source": [
    "### Validating results with spot-check \n",
    "\n",
    "- Simulating recommender for a single client"
   ]
  },
  {
   "cell_type": "code",
   "execution_count": 196,
   "metadata": {},
   "outputs": [
    {
     "name": "stdout",
     "output_type": "stream",
     "text": [
      "Cross-validating the model ( model_dice ) with: 1 member(s) and 5 different train/test splits.\n",
      "Model with 1 recommendations: F1-score mean ( 0.411 ) and F1-score std dev ( 0.066 ).\n",
      "Model with 2 recommendations: F1-score mean ( 0.499 ) and F1-score std dev ( 0.05 ).\n",
      "Model with 3 recommendations: F1-score mean ( 0.535 ) and F1-score std dev ( 0.03 ).\n",
      "Model with 4 recommendations: F1-score mean ( 0.52 ) and F1-score std dev ( 0.051 ).\n",
      "Model with 5 recommendations: F1-score mean ( 0.493 ) and F1-score std dev ( 0.037 ).\n"
     ]
    }
   ],
   "source": [
    "# Member: M99030\n",
    "# an example of sub-group low\n",
    "\n",
    "m99030_pr, m99030_re, m99030_metrics = cross_validate_forget(data, model_dice, 'Description', m_members = 1, member_id = 'M99030')"
   ]
  },
  {
   "cell_type": "code",
   "execution_count": 197,
   "metadata": {},
   "outputs": [
    {
     "name": "stdout",
     "output_type": "stream",
     "text": [
      "Member --- #Recommendations --- Precision --- Recall --- F1-score --- F1 Std Dev\n",
      "M99030           1               0.717         0.29       0.411       0.066\n",
      "M99030           2               0.607         0.426       0.499       0.05\n",
      "M99030           3               0.526         0.548       0.535       0.03\n",
      "M99030           4               0.458         0.605       0.52       0.051\n",
      "M99030           5               0.387         0.679       0.493       0.037\n"
     ]
    }
   ],
   "source": [
    "print('Member --- #Recommendations --- Precision --- Recall --- F1-score --- F1 Std Dev')\n",
    "for (key1, key2), value in m99030_metrics.items():\n",
    "    print(key1,'         ',\n",
    "          key2,'             ',\n",
    "          value[0],'       ',\n",
    "          value[1],'     ',\n",
    "          value[2],'     ',\n",
    "          value[3])"
   ]
  }
 ],
 "metadata": {
  "kernelspec": {
   "display_name": "Python 3",
   "language": "python",
   "name": "python3"
  },
  "language_info": {
   "codemirror_mode": {
    "name": "ipython",
    "version": 3
   },
   "file_extension": ".py",
   "mimetype": "text/x-python",
   "name": "python",
   "nbconvert_exporter": "python",
   "pygments_lexer": "ipython3",
   "version": "3.7.3"
  }
 },
 "nbformat": 4,
 "nbformat_minor": 4
}
