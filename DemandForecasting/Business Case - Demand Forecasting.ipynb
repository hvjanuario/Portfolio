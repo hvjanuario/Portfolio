{
 "cells": [
  {
   "cell_type": "markdown",
   "metadata": {},
   "source": [
    "# Business Case: Services Demand Forecasting model"
   ]
  },
  {
   "cell_type": "markdown",
   "metadata": {},
   "source": [
    "This notebook is related to the **Business Case 4 - Services Demand Forecasting**, in the 'Business Cases with Data Science' course, Nova IMS.\n",
    "\n",
    "April/May - 2020\n",
    "Project duration: **3 weeks**\n",
    "\n",
    "All project deliverables were prepared by a team of 4:\n",
    "\n",
    "* Alexandra Ordina\n",
    "* Bojan Stavrijk\n",
    "* Henrique Januário\n",
    "* Hugo Mentzingen"
   ]
  },
  {
   "cell_type": "markdown",
   "metadata": {},
   "source": [
    "<div class=\"alert alert-block alert-info\">\n",
    "\n",
    "The project follows **CRISP-DM process model** and includes the following stages:\n",
    "\n",
    "* Business understanding\n",
    "* Data understanding\n",
    "* Data preparation\n",
    "* Modeling\n",
    "* Evaluation\n",
    "* Deployment\n",
    "\n",
    "Presentation of the case can be found here: **link to document**\n",
    "</div>"
   ]
  },
  {
   "cell_type": "markdown",
   "metadata": {},
   "source": [
    "# Summary\n",
    "\n",
    "**Client is a private transfer company operating in south of Portugal**\n",
    "\n",
    "**Business goal:**\n",
    "Using past booking data develop demand forecast model to predict number of expected services 8 weeks in advance, in order to give the company enough time to hire the drivers. Predictions should be done in 4 weeks batches, with 8 weeks in\n",
    "advance and should have a maximum deviation of true demand of 10%.\n",
    "\n",
    "**Data Mining goals and criteria:**\n",
    " - Predictive model\n",
    " - Performance metrics: **MAPE (Mean absolute percentage error) of model predictions of maximum 10%**\n",
    " \n",
    "**Dataset:**\n",
    "1. *YFT_Manifesto.csv: main dataset, contains the services contracted in each booking.*\n",
    "2. *YFT_Customers.csv: dataset with customers details.*\n",
    "3. *YFT_Luggage.csv: dataset with bookings' luggage details.*\n",
    "\n",
    "<div class=\"alert alert-block alert-info\">\n",
    "\n",
    "**Solution:**\n",
    "Predictive model: **MLP Regressor**\n",
    "Modelling dataset and input features: we prepared new dataset with aggregated features based on week and year number and created several aggregated features from original raw dataset\n",
    "</div>\n",
    "\n",
    "**Dataset description:**\n",
    "\n",
    "**YFT_Manifesto.csv:**\n",
    "\n",
    "* bookingID: booking ID\n",
    "* operatorID: who made the booking (1:YFT, other values:YFT partners)\n",
    "* whichway: type of service (arrival or departure)\n",
    "* flightNr: customer's flight number\n",
    "* paymentType: how customer is going to pay for the service\n",
    "* customerID: customer ID\n",
    "* typeOfService: code for type of service. Could be \"GOF\" for \"golf round trip\" or 3 letters that mean:\n",
    "    * 1st letter: type of service purchase (O:One way, R:Return)\n",
    "    * 2nd letter: Origin (A:Airport, L:Location)\n",
    "    * 3rd letter: Destination 17 (A:Airport, L:Location)\n",
    "* serviceDate: date to execute the service\n",
    "* serviceTime: time to pickup the customer\n",
    "* pickupLocal: pickup local/region (where the service starts)\n",
    "* pickupPlaceID: pickup location specific ID\n",
    "* pickupGPSCoordinates: pickup GPS coordinates\n",
    "* dropoffLocal: dropoff local/region (where the service ends)\n",
    "* dropoffPlaceID: dropoff location specific ID\n",
    "* dropoffGPSCoordinates: dropoff GPS coordinates\n",
    "* adults: number of adults (13 or more years old)\n",
    "* children: number of children (3 to 12 years old)\n",
    "* babies: number of babies (0 to 2 years old)\n",
    "* vehicleID: ID of the vehicle who did the service (if 0 service not executed or unknown)\n",
    "* driverID: ID of the driver who did the service (if 0 service not executed or unkown)\n",
    "* supplierID: ID of the supplier who did the service (0:YFT itself, other values: other partners)\n",
    "* bookingStatus: current status of the booking\n",
    "* serviceStatus: current status of the service (a service can be, for example, canceled, but other services in the same booking may continue active)\n",
    "* bookingDate: date and time when the booking was created.\n",
    "\n",
    "**YFT_Customers.csv:**\n",
    "\n",
    "* customerID: customer ID\n",
    "* countryID: country ID in the format of the international phone dialing code\n",
    "* subscribeNewsletter: indication if customer subscribed to YFT newsletter (0:No, 1:Yes)\n",
    "* loyaltyCard: points accumulated on loyalty card\n",
    "* services: total services provided to the customer so far\n",
    "* active: indication if customer is still active (0:No, 1:Yes)\n",
    "\n",
    "**YFT_Luggage.csv:**\n",
    "\n",
    "* bookingID: booking ID\n",
    "* whichway: type of service (arrival or departure)\n",
    "* cargo: type of luggage (checked_luggage, cabin_luggage, others)\n",
    "* quantity: quantity of this type of cargo\n",
    "* timer: date and time when YFT become aware of this luggage information\n"
   ]
  },
  {
   "cell_type": "markdown",
   "metadata": {},
   "source": [
    "## Libraries and functions"
   ]
  },
  {
   "cell_type": "code",
   "execution_count": 1,
   "metadata": {},
   "outputs": [],
   "source": [
    "import numpy as np\n",
    "import pandas as pd\n",
    "import math\n",
    "import matplotlib.pyplot as plt\n",
    "import seaborn as sb\n",
    "import scipy\n",
    "import googlemaps\n",
    "import warnings\n",
    "import time\n",
    "from datetime import timedelta\n",
    "from tqdm import tqdm_notebook as tqdm\n",
    "from IPython.display import Audio, display\n",
    "from IPython.display import display_html\n",
    "from sklearn.preprocessing import RobustScaler, StandardScaler, LabelEncoder, MinMaxScaler, OneHotEncoder\n",
    "from sklearn.decomposition import PCA\n",
    "from sklearn.model_selection import KFold, GridSearchCV\n",
    "warnings.simplefilter('ignore')"
   ]
  },
  {
   "cell_type": "code",
   "execution_count": 2,
   "metadata": {
    "code_folding": [
     1
    ]
   },
   "outputs": [],
   "source": [
    "#function to play sound after running all iterations of testing\n",
    "def allDone():\n",
    "  display(Audio(url='https://sound.peal.io/ps/audios/000/000/537/original/woo_vu_luvub_dub_dub.wav', autoplay=True))"
   ]
  },
  {
   "cell_type": "code",
   "execution_count": 3,
   "metadata": {
    "code_folding": [
     1
    ]
   },
   "outputs": [],
   "source": [
    "# Function to display side-by-side different dataframe extractions\n",
    "def display_side_by_side(args_list):\n",
    "    html_str=''\n",
    "    for df in args_list:\n",
    "        html_str+=df.to_html()\n",
    "    display_html(html_str.replace('table','table style=\"display:inline\"'),raw=True)"
   ]
  },
  {
   "cell_type": "code",
   "execution_count": 4,
   "metadata": {
    "code_folding": [
     1
    ]
   },
   "outputs": [],
   "source": [
    "# Function to convert 'ServiceDate' and 'ServiceTime' variables to a single value in the struct_time format\n",
    "def service_datetime(service_date, service_time):\n",
    "    serviceDateTime = service_date + '-' + service_time\n",
    "    return time.strptime(serviceDateTime, \"%Y-%m-%d-%H:%M:%S\")"
   ]
  },
  {
   "cell_type": "code",
   "execution_count": 5,
   "metadata": {
    "code_folding": [
     2
    ]
   },
   "outputs": [],
   "source": [
    "# Function to strip 'pickupGPSCoordinates' and 'dropoffGPSCoordinates' into latitude and longitude.\n",
    "# Returns latitude, longitude\n",
    "def strip_gps(GPSCoordinates):\n",
    "    \n",
    "    for index, value in GPSCoordinates.iteritems():\n",
    "        \n",
    "        if ',' in value:\n",
    "            \n",
    "            #remove all spaces\n",
    "            x = value.replace(' ', '').replace('(','').replace(')','')\n",
    "            \n",
    "            #split using the comma as divider\n",
    "            x = x.split(',')\n",
    "    \n",
    "            #convert to float and round in 3 decimal places\n",
    "            try:\n",
    "                GPSCoordinates.at[index] = [round(float(i),3) for i in x]\n",
    "            except:\n",
    "                GPSCoordinates.at[index] = [0,0]\n",
    "        \n",
    "        else:\n",
    "       \n",
    "            GPSCoordinates.at[index] = [0,0]\n",
    "    \n",
    "    return GPSCoordinates"
   ]
  },
  {
   "cell_type": "code",
   "execution_count": 6,
   "metadata": {
    "code_folding": [
     1
    ]
   },
   "outputs": [],
   "source": [
    "# Function to calculate the linear distance between two points given their latitudes and longitudes\n",
    "def calc_dist(vector):\n",
    "    \n",
    "    la1 = vector[0] \n",
    "    lo1 = vector[1]\n",
    "    la2 = vector[2]\n",
    "    lo2 = vector[3]\n",
    "    \n",
    "    #radius of the Earth\n",
    "    R = 6373.0\n",
    "    #coordinates\n",
    "    lat1 = math.radians(la1)\n",
    "    lon1 = math.radians(lo1)\n",
    "    lat2 = math.radians(la2)\n",
    "    lon2 = math.radians(lo2)\n",
    "    #change in coordinates\n",
    "    dlon = lon2 - lon1\n",
    "    dlat = lat2 - lat1\n",
    "    #Haversine formula\n",
    "    a = math.sin(dlat / 2)**2 + math.cos(lat1) * math.cos(lat2) * math.sin(dlon / 2)**2\n",
    "    c = 2 * math.atan2(math.sqrt(a), math.sqrt(1 - a))\n",
    "\n",
    "    distance = R * c\n",
    "\n",
    "    return distance"
   ]
  },
  {
   "cell_type": "code",
   "execution_count": 7,
   "metadata": {
    "code_folding": [
     1
    ]
   },
   "outputs": [],
   "source": [
    "# Function to calculate the difference between BookingDate and ServiceDate\n",
    "def calc_time(df):\n",
    "    from datetime import datetime,timedelta\n",
    "    dt=['serviceTime', 'serviceDate', 'bookingDate']\n",
    "    t=manifesto[df]\n",
    "    t['serviceDate']=t['serviceDate']+' '+t['serviceTime']\n",
    "    t.drop('serviceTime',inplace=True,axis=1)\n",
    "    t['serviceDate'] =  pd.to_datetime(t['serviceDate'], format='%Y-%m-%d %H:%M:%S')\n",
    "    t['bookingDate'] =  pd.to_datetime(t['bookingDate'], format='%Y-%m-%d %H:%M:%S')\n",
    "    t['diference']= t['serviceDate']-t['bookingDate']\n",
    "    indexes = t[t['diference'].dt.days>56].index\n",
    "    return indexes"
   ]
  },
  {
   "cell_type": "code",
   "execution_count": 8,
   "metadata": {
    "code_folding": [
     1
    ]
   },
   "outputs": [],
   "source": [
    "# Function to count the number of nulls in each dataset\n",
    "def count_nulls(df_list):\n",
    "    nulls_df_list = []\n",
    "    \n",
    "    for df in df_list:\n",
    "        nulls_df_list.append(pd.DataFrame(df.isnull().sum()))\n",
    "    \n",
    "    return display_side_by_side(nulls_df_list)    "
   ]
  },
  {
   "cell_type": "code",
   "execution_count": 9,
   "metadata": {},
   "outputs": [],
   "source": [
    "# Function to plot correlation heatmap\n",
    "def cor_heatmap(df, method):\n",
    "    fig, ax = plt.subplots(figsize=(30,30))\n",
    "    sb.set(font_scale=1.2)\n",
    "    heat_map = sb.heatmap(df.corr(method = method).round(decimals=2), annot=True, ax=ax, cmap = 'coolwarm')\n",
    "    plt.show()"
   ]
  },
  {
   "cell_type": "code",
   "execution_count": 10,
   "metadata": {},
   "outputs": [],
   "source": [
    "# Function to create boxplots\n",
    "def plt_box(data):\n",
    "    n_col = 3\n",
    "    n_row = math.ceil(data[numerical].shape[1]/n_col)\n",
    "    fig, ax = plt.subplots(n_row, n_col, figsize=(20, 60))\n",
    "    for var, subplot in zip(data[numerical], ax.flatten()):\n",
    "        sb.boxplot(data[var], ax=subplot)"
   ]
  },
  {
   "cell_type": "code",
   "execution_count": 11,
   "metadata": {},
   "outputs": [],
   "source": [
    "#function to remove outliers based on the IQR\n",
    "def removeOutliers(df, cutoff1, features):\n",
    "    \n",
    "    outliers_to_remove = []\n",
    "    for feature in features:\n",
    "        if feature in df:\n",
    "            #calculate interquartile range\n",
    "            q25, q75 = np.nanpercentile(df[feature], 25), np.nanpercentile(df[feature], 75)\n",
    "            iqr = q75 - q25\n",
    "            print(feature)\n",
    "            print('Percentiles: 25th=%.3f, 75th=%.3f, IQR=%.3f' % (q25, q75, iqr))\n",
    "        \n",
    "            #calculate the outlier cutoff\n",
    "            cut_off = iqr * cutoff1\n",
    "            lower, upper = q25 - cut_off, q75 + cut_off\n",
    "        \n",
    "            #identify outliers\n",
    "            outliers = [index for index, value in df[feature].iteritems() if value < lower or value > upper]\n",
    "            print('Identified outliers: %d' % len(outliers))\n",
    "            outliers_to_remove += outliers\n",
    "    outliers_to_remove = set(outliers_to_remove)\n",
    "    outliers_to_remove = sorted(outliers_to_remove)\n",
    "    return outliers_to_remove"
   ]
  },
  {
   "cell_type": "code",
   "execution_count": 12,
   "metadata": {},
   "outputs": [],
   "source": [
    "# Function to calculate MAPE performance metric\n",
    "def mean_absolute_percentage_error(y_true, y_pred): \n",
    "    y_true, y_pred = np.array(y_true), np.array(y_pred)\n",
    "    return np.mean(np.abs((y_true - y_pred) / y_true)) * 100"
   ]
  },
  {
   "cell_type": "code",
   "execution_count": 13,
   "metadata": {},
   "outputs": [],
   "source": [
    "# Function to create dataframe with metrics\n",
    "def performanceMetricsDF(metricsObj, yTrain, yPredTrain, yTest, yPredTest,set1='Train', set2='Test'):\n",
    "  measures_list = ['MAE','RMSE', 'R^2','MAPE (%)','MAX Error']\n",
    "  train_results = [metricsObj.mean_absolute_error(yTrain, yPredTrain),\n",
    "                np.sqrt(metricsObj.mean_squared_error(yTrain, yPredTrain)),\n",
    "                metricsObj.r2_score(yTrain, yPredTrain),\n",
    "                mean_absolute_percentage_error(yTrain, yPredTrain),\n",
    "                metricsObj.max_error(yTrain, yPredTrain)]\n",
    "  test_results = [metricsObj.mean_absolute_error(yTest, yPredTest),\n",
    "                np.sqrt(metricsObj.mean_squared_error(yTest, yPredTest)),\n",
    "                metricsObj.r2_score(yTest, yPredTest),\n",
    "                  mean_absolute_percentage_error(yTest, yPredTest),\n",
    "                metricsObj.max_error(yTest, yPredTest)]\n",
    "  resultsDF = pd.DataFrame({'Measure': measures_list, set1: train_results, set2:test_results})\n",
    "  return(resultsDF)"
   ]
  },
  {
   "cell_type": "markdown",
   "metadata": {},
   "source": [
    "## 1. Data Loading and Data exploration"
   ]
  },
  {
   "cell_type": "markdown",
   "metadata": {},
   "source": [
    "**Manifesto** is the main dataset. It contains the services contracted in every booking, including their outcome. One booking can have multiple services associated to it. All other datasets are dimensions that explain the facts of the measures in this dataset. Some of the other datasets contain measures that complement the main dataset and will be used later in feature engineering stage."
   ]
  },
  {
   "cell_type": "code",
   "execution_count": 14,
   "metadata": {},
   "outputs": [
    {
     "name": "stderr",
     "output_type": "stream",
     "text": [
      "b'Skipping line 48541: expected 24 fields, saw 25\\nSkipping line 51419: expected 24 fields, saw 25\\nSkipping line 55106: expected 24 fields, saw 25\\nSkipping line 63666: expected 24 fields, saw 25\\n'\n",
      "b'Skipping line 72779: expected 24 fields, saw 25\\n'\n",
      "b'Skipping line 135977: expected 24 fields, saw 25\\nSkipping line 141150: expected 24 fields, saw 25\\nSkipping line 142906: expected 24 fields, saw 25\\nSkipping line 144394: expected 24 fields, saw 25\\nSkipping line 144396: expected 24 fields, saw 25\\nSkipping line 152122: expected 24 fields, saw 25\\n'\n",
      "b'Skipping line 166696: expected 24 fields, saw 25\\n'\n"
     ]
    }
   ],
   "source": [
    "# Loading the datasets\n",
    "# Skipping bad lines 48541,72779,135977,166696\n",
    "manifesto=pd.read_csv('YFT_Manifesto.csv',sep=';',error_bad_lines=False)\n",
    "luggage=pd.read_csv('YFT_Luggage.csv',sep=';',error_bad_lines=False)\n",
    "drivers=pd.read_csv('YFT_Drivers.csv',sep=';',error_bad_lines=False)\n",
    "customers=pd.read_csv('YFT_Customers.csv',sep=';',error_bad_lines=False)"
   ]
  },
  {
   "cell_type": "code",
   "execution_count": 15,
   "metadata": {},
   "outputs": [],
   "source": [
    "# Setting the Pandas option to see all columns\n",
    "pd.set_option('display.max_columns', None)"
   ]
  },
  {
   "cell_type": "code",
   "execution_count": 16,
   "metadata": {},
   "outputs": [
    {
     "data": {
      "text/plain": [
       "(370264, 24)"
      ]
     },
     "execution_count": 16,
     "metadata": {},
     "output_type": "execute_result"
    }
   ],
   "source": [
    "# Shape of the main dataset\n",
    "manifesto.shape"
   ]
  },
  {
   "cell_type": "code",
   "execution_count": 17,
   "metadata": {},
   "outputs": [
    {
     "data": {
      "text/html": [
       "<div>\n",
       "<style scoped>\n",
       "    .dataframe tbody tr th:only-of-type {\n",
       "        vertical-align: middle;\n",
       "    }\n",
       "\n",
       "    .dataframe tbody tr th {\n",
       "        vertical-align: top;\n",
       "    }\n",
       "\n",
       "    .dataframe thead th {\n",
       "        text-align: right;\n",
       "    }\n",
       "</style>\n",
       "<table border=\"1\" class=\"dataframe\">\n",
       "  <thead>\n",
       "    <tr style=\"text-align: right;\">\n",
       "      <th></th>\n",
       "      <th>bookingID</th>\n",
       "      <th>operatorID</th>\n",
       "      <th>whichway</th>\n",
       "      <th>flightNr</th>\n",
       "      <th>paymentType</th>\n",
       "      <th>customerID</th>\n",
       "      <th>typeOfService</th>\n",
       "      <th>serviceDate</th>\n",
       "      <th>serviceTime</th>\n",
       "      <th>pickupLocal</th>\n",
       "      <th>pickupPlaceID</th>\n",
       "      <th>pickupGPSCoordinates</th>\n",
       "      <th>dropoffLocal</th>\n",
       "      <th>dropoffPlaceID</th>\n",
       "      <th>dropoffGPSCoordinates</th>\n",
       "      <th>adults</th>\n",
       "      <th>children</th>\n",
       "      <th>babies</th>\n",
       "      <th>vehicleID</th>\n",
       "      <th>driverID</th>\n",
       "      <th>supplierID</th>\n",
       "      <th>bookingStatus</th>\n",
       "      <th>serviceStatus</th>\n",
       "      <th>bookingDate</th>\n",
       "    </tr>\n",
       "  </thead>\n",
       "  <tbody>\n",
       "    <tr>\n",
       "      <th>0</th>\n",
       "      <td>74968</td>\n",
       "      <td>1</td>\n",
       "      <td>departure</td>\n",
       "      <td>ZB1243</td>\n",
       "      <td>Cash</td>\n",
       "      <td>56823</td>\n",
       "      <td>RAL</td>\n",
       "      <td>2016-01-07</td>\n",
       "      <td>08:15:00</td>\n",
       "      <td>ALBUFEIRA</td>\n",
       "      <td>1</td>\n",
       "      <td>37.09138973782737, -8.240325450897217</td>\n",
       "      <td>FARO AIRPORT</td>\n",
       "      <td>3</td>\n",
       "      <td>37.017596,-7.96972</td>\n",
       "      <td>2</td>\n",
       "      <td>0</td>\n",
       "      <td>0</td>\n",
       "      <td>30</td>\n",
       "      <td>29</td>\n",
       "      <td>0</td>\n",
       "      <td>Done</td>\n",
       "      <td>Done</td>\n",
       "      <td>2015-04-07 18:46:08</td>\n",
       "    </tr>\n",
       "    <tr>\n",
       "      <th>1</th>\n",
       "      <td>77524</td>\n",
       "      <td>1</td>\n",
       "      <td>departure</td>\n",
       "      <td>FR7033</td>\n",
       "      <td>Cash</td>\n",
       "      <td>24133</td>\n",
       "      <td>RAL</td>\n",
       "      <td>2016-01-12</td>\n",
       "      <td>07:30:00</td>\n",
       "      <td>ALBUFEIRA</td>\n",
       "      <td>1</td>\n",
       "      <td>37.0884666,-8.22149849</td>\n",
       "      <td>FARO AIRPORT</td>\n",
       "      <td>3</td>\n",
       "      <td>37.017596,-7.96972</td>\n",
       "      <td>2</td>\n",
       "      <td>0</td>\n",
       "      <td>0</td>\n",
       "      <td>85</td>\n",
       "      <td>163</td>\n",
       "      <td>0</td>\n",
       "      <td>Done</td>\n",
       "      <td>Done</td>\n",
       "      <td>2015-04-29 17:05:44</td>\n",
       "    </tr>\n",
       "    <tr>\n",
       "      <th>2</th>\n",
       "      <td>78623</td>\n",
       "      <td>1</td>\n",
       "      <td>departure</td>\n",
       "      <td>EY8918</td>\n",
       "      <td>B.Transfer</td>\n",
       "      <td>25798</td>\n",
       "      <td>RAL</td>\n",
       "      <td>2016-01-02</td>\n",
       "      <td>06:40:00</td>\n",
       "      <td>LAGOS</td>\n",
       "      <td>23</td>\n",
       "      <td>37.1030579,-8.69011</td>\n",
       "      <td>FARO AIRPORT</td>\n",
       "      <td>3</td>\n",
       "      <td>37.017596,-7.96972</td>\n",
       "      <td>2</td>\n",
       "      <td>2</td>\n",
       "      <td>0</td>\n",
       "      <td>30</td>\n",
       "      <td>29</td>\n",
       "      <td>0</td>\n",
       "      <td>Done</td>\n",
       "      <td>Done</td>\n",
       "      <td>2015-05-08 12:07:17</td>\n",
       "    </tr>\n",
       "  </tbody>\n",
       "</table>\n",
       "</div>"
      ],
      "text/plain": [
       "   bookingID  operatorID   whichway flightNr paymentType  customerID  \\\n",
       "0      74968           1  departure   ZB1243        Cash       56823   \n",
       "1      77524           1  departure   FR7033        Cash       24133   \n",
       "2      78623           1  departure   EY8918  B.Transfer       25798   \n",
       "\n",
       "  typeOfService serviceDate serviceTime pickupLocal  pickupPlaceID  \\\n",
       "0           RAL  2016-01-07    08:15:00   ALBUFEIRA              1   \n",
       "1           RAL  2016-01-12    07:30:00   ALBUFEIRA              1   \n",
       "2           RAL  2016-01-02    06:40:00       LAGOS             23   \n",
       "\n",
       "                    pickupGPSCoordinates  dropoffLocal  dropoffPlaceID  \\\n",
       "0  37.09138973782737, -8.240325450897217  FARO AIRPORT               3   \n",
       "1                 37.0884666,-8.22149849  FARO AIRPORT               3   \n",
       "2                    37.1030579,-8.69011  FARO AIRPORT               3   \n",
       "\n",
       "  dropoffGPSCoordinates  adults  children  babies  vehicleID  driverID  \\\n",
       "0    37.017596,-7.96972       2         0       0         30        29   \n",
       "1    37.017596,-7.96972       2         0       0         85       163   \n",
       "2    37.017596,-7.96972       2         2       0         30        29   \n",
       "\n",
       "   supplierID bookingStatus serviceStatus          bookingDate  \n",
       "0           0          Done          Done  2015-04-07 18:46:08  \n",
       "1           0          Done          Done  2015-04-29 17:05:44  \n",
       "2           0          Done          Done  2015-05-08 12:07:17  "
      ]
     },
     "execution_count": 17,
     "metadata": {},
     "output_type": "execute_result"
    }
   ],
   "source": [
    "manifesto.head(3)"
   ]
  },
  {
   "cell_type": "code",
   "execution_count": 18,
   "metadata": {},
   "outputs": [
    {
     "data": {
      "text/html": [
       "<table style=\"display:inline\" border=\"1\" class=\"dataframe\">\n",
       "  <thead>\n",
       "    <tr style=\"text-align: right;\">\n",
       "      <th></th>\n",
       "      <th>0</th>\n",
       "    </tr>\n",
       "  </thead>\n",
       "  <tbody>\n",
       "    <tr>\n",
       "      <th>bookingID</th>\n",
       "      <td>0</td>\n",
       "    </tr>\n",
       "    <tr>\n",
       "      <th>operatorID</th>\n",
       "      <td>0</td>\n",
       "    </tr>\n",
       "    <tr>\n",
       "      <th>whichway</th>\n",
       "      <td>0</td>\n",
       "    </tr>\n",
       "    <tr>\n",
       "      <th>flightNr</th>\n",
       "      <td>20289</td>\n",
       "    </tr>\n",
       "    <tr>\n",
       "      <th>paymentType</th>\n",
       "      <td>0</td>\n",
       "    </tr>\n",
       "    <tr>\n",
       "      <th>customerID</th>\n",
       "      <td>0</td>\n",
       "    </tr>\n",
       "    <tr>\n",
       "      <th>typeOfService</th>\n",
       "      <td>11</td>\n",
       "    </tr>\n",
       "    <tr>\n",
       "      <th>serviceDate</th>\n",
       "      <td>0</td>\n",
       "    </tr>\n",
       "    <tr>\n",
       "      <th>serviceTime</th>\n",
       "      <td>0</td>\n",
       "    </tr>\n",
       "    <tr>\n",
       "      <th>pickupLocal</th>\n",
       "      <td>2</td>\n",
       "    </tr>\n",
       "    <tr>\n",
       "      <th>pickupPlaceID</th>\n",
       "      <td>0</td>\n",
       "    </tr>\n",
       "    <tr>\n",
       "      <th>pickupGPSCoordinates</th>\n",
       "      <td>237</td>\n",
       "    </tr>\n",
       "    <tr>\n",
       "      <th>dropoffLocal</th>\n",
       "      <td>3</td>\n",
       "    </tr>\n",
       "    <tr>\n",
       "      <th>dropoffPlaceID</th>\n",
       "      <td>0</td>\n",
       "    </tr>\n",
       "    <tr>\n",
       "      <th>dropoffGPSCoordinates</th>\n",
       "      <td>1972</td>\n",
       "    </tr>\n",
       "    <tr>\n",
       "      <th>adults</th>\n",
       "      <td>0</td>\n",
       "    </tr>\n",
       "    <tr>\n",
       "      <th>children</th>\n",
       "      <td>0</td>\n",
       "    </tr>\n",
       "    <tr>\n",
       "      <th>babies</th>\n",
       "      <td>0</td>\n",
       "    </tr>\n",
       "    <tr>\n",
       "      <th>vehicleID</th>\n",
       "      <td>0</td>\n",
       "    </tr>\n",
       "    <tr>\n",
       "      <th>driverID</th>\n",
       "      <td>0</td>\n",
       "    </tr>\n",
       "    <tr>\n",
       "      <th>supplierID</th>\n",
       "      <td>0</td>\n",
       "    </tr>\n",
       "    <tr>\n",
       "      <th>bookingStatus</th>\n",
       "      <td>0</td>\n",
       "    </tr>\n",
       "    <tr>\n",
       "      <th>serviceStatus</th>\n",
       "      <td>0</td>\n",
       "    </tr>\n",
       "    <tr>\n",
       "      <th>bookingDate</th>\n",
       "      <td>0</td>\n",
       "    </tr>\n",
       "  </tbody>\n",
       "</table style=\"display:inline\"><table style=\"display:inline\" border=\"1\" class=\"dataframe\">\n",
       "  <thead>\n",
       "    <tr style=\"text-align: right;\">\n",
       "      <th></th>\n",
       "      <th>0</th>\n",
       "    </tr>\n",
       "  </thead>\n",
       "  <tbody>\n",
       "    <tr>\n",
       "      <th>book_id</th>\n",
       "      <td>0</td>\n",
       "    </tr>\n",
       "    <tr>\n",
       "      <th>whichway</th>\n",
       "      <td>0</td>\n",
       "    </tr>\n",
       "    <tr>\n",
       "      <th>cargo</th>\n",
       "      <td>0</td>\n",
       "    </tr>\n",
       "    <tr>\n",
       "      <th>qtd</th>\n",
       "      <td>0</td>\n",
       "    </tr>\n",
       "    <tr>\n",
       "      <th>timer</th>\n",
       "      <td>0</td>\n",
       "    </tr>\n",
       "  </tbody>\n",
       "</table style=\"display:inline\"><table style=\"display:inline\" border=\"1\" class=\"dataframe\">\n",
       "  <thead>\n",
       "    <tr style=\"text-align: right;\">\n",
       "      <th></th>\n",
       "      <th>0</th>\n",
       "    </tr>\n",
       "  </thead>\n",
       "  <tbody>\n",
       "    <tr>\n",
       "      <th>driverID</th>\n",
       "      <td>0</td>\n",
       "    </tr>\n",
       "    <tr>\n",
       "      <th>birthday</th>\n",
       "      <td>0</td>\n",
       "    </tr>\n",
       "    <tr>\n",
       "      <th>localID</th>\n",
       "      <td>0</td>\n",
       "    </tr>\n",
       "  </tbody>\n",
       "</table style=\"display:inline\"><table style=\"display:inline\" border=\"1\" class=\"dataframe\">\n",
       "  <thead>\n",
       "    <tr style=\"text-align: right;\">\n",
       "      <th></th>\n",
       "      <th>0</th>\n",
       "    </tr>\n",
       "  </thead>\n",
       "  <tbody>\n",
       "    <tr>\n",
       "      <th>customerID</th>\n",
       "      <td>0</td>\n",
       "    </tr>\n",
       "    <tr>\n",
       "      <th>countryID</th>\n",
       "      <td>0</td>\n",
       "    </tr>\n",
       "    <tr>\n",
       "      <th>subscribeNewsletter</th>\n",
       "      <td>0</td>\n",
       "    </tr>\n",
       "    <tr>\n",
       "      <th>loyaltyCard</th>\n",
       "      <td>0</td>\n",
       "    </tr>\n",
       "    <tr>\n",
       "      <th>services</th>\n",
       "      <td>0</td>\n",
       "    </tr>\n",
       "    <tr>\n",
       "      <th>active</th>\n",
       "      <td>0</td>\n",
       "    </tr>\n",
       "  </tbody>\n",
       "</table style=\"display:inline\">"
      ]
     },
     "metadata": {},
     "output_type": "display_data"
    }
   ],
   "source": [
    "# Counting the number of nulls per variable and dataset\n",
    "count_nulls([manifesto, luggage, drivers, customers])"
   ]
  },
  {
   "cell_type": "code",
   "execution_count": 19,
   "metadata": {},
   "outputs": [
    {
     "data": {
      "text/plain": [
       "bookingID                222814\n",
       "operatorID                  169\n",
       "whichway                      2\n",
       "flightNr                   8573\n",
       "paymentType                   8\n",
       "customerID               112669\n",
       "typeOfService                 7\n",
       "serviceDate                1432\n",
       "serviceTime                 863\n",
       "pickupLocal                 154\n",
       "pickupPlaceID               151\n",
       "pickupGPSCoordinates      77413\n",
       "dropoffLocal                156\n",
       "dropoffPlaceID              153\n",
       "dropoffGPSCoordinates     77796\n",
       "adults                       54\n",
       "children                     11\n",
       "babies                        7\n",
       "vehicleID                   198\n",
       "driverID                    361\n",
       "supplierID                   56\n",
       "bookingStatus                 3\n",
       "serviceStatus                 3\n",
       "bookingDate              221590\n",
       "dtype: int64"
      ]
     },
     "execution_count": 19,
     "metadata": {},
     "output_type": "execute_result"
    }
   ],
   "source": [
    "#checking unique values per column\n",
    "#222814 bookings (means that 147450 duplications exist, in other words bookings contain multiple services)\n",
    "manifesto.nunique()"
   ]
  },
  {
   "cell_type": "markdown",
   "metadata": {},
   "source": [
    "## 1.1. Main dataset assessment and preprocessing\n",
    "\n",
    "In this step we deal with several data issues of our main dataset, such as removing records with null values, cleaning duplicate services, removing impossible values (such as negative count) as data errors. There are some **data quality issues** and at the end of this section there is a summary list of findings and decisions taken based on data exploratory analysis."
   ]
  },
  {
   "cell_type": "markdown",
   "metadata": {},
   "source": [
    "### Null values"
   ]
  },
  {
   "cell_type": "code",
   "execution_count": 20,
   "metadata": {},
   "outputs": [],
   "source": [
    "# Dropping the rows with NaNs, excepting NaNs on 'flightNr'\n",
    "\n",
    "nulls = manifesto.columns[manifesto.isnull().any()]\n",
    "nulls = nulls.drop('flightNr')\n",
    "manifesto.dropna(subset=nulls, inplace=True)\n",
    "manifesto.reset_index(inplace=True,drop=True)"
   ]
  },
  {
   "cell_type": "markdown",
   "metadata": {},
   "source": [
    "### Extracting service-level details\n",
    "\n",
    "Each row in the dataset represents a service. Each service is identified by a bookingID, but a bookingID can have multiple services attached to it; meaning that the dataset doesn’t carry an individual service identifier. Therefore the team created a new feature named serviceID, which uniquely identifies each service in the dataset. This is important because the target variable for prediction is the number of services and not number of bookings."
   ]
  },
  {
   "cell_type": "code",
   "execution_count": 21,
   "metadata": {},
   "outputs": [],
   "source": [
    "manifesto['temp_cumcount'] = manifesto.groupby('bookingID').cumcount()\n",
    "manifesto['serviceID'] = manifesto['bookingID'].astype(str) + manifesto['temp_cumcount'].astype(str)\n",
    "manifesto['serviceID'] = manifesto['serviceID'].astype(int)\n",
    "manifesto.drop('temp_cumcount', axis=1, inplace=True)"
   ]
  },
  {
   "cell_type": "markdown",
   "metadata": {},
   "source": [
    "We have 370264 service lines however some of these might be duplicates and we need to cross-check other fields such as service time, service type, customer id, locations and booking time and make sure they are unique."
   ]
  },
  {
   "cell_type": "code",
   "execution_count": 22,
   "metadata": {},
   "outputs": [
    {
     "data": {
      "text/plain": [
       "368115"
      ]
     },
     "execution_count": 22,
     "metadata": {},
     "output_type": "execute_result"
    }
   ],
   "source": [
    "manifesto['serviceID'].nunique()"
   ]
  },
  {
   "cell_type": "code",
   "execution_count": 23,
   "metadata": {},
   "outputs": [
    {
     "data": {
      "text/html": [
       "<div>\n",
       "<style scoped>\n",
       "    .dataframe tbody tr th:only-of-type {\n",
       "        vertical-align: middle;\n",
       "    }\n",
       "\n",
       "    .dataframe tbody tr th {\n",
       "        vertical-align: top;\n",
       "    }\n",
       "\n",
       "    .dataframe thead th {\n",
       "        text-align: right;\n",
       "    }\n",
       "</style>\n",
       "<table border=\"1\" class=\"dataframe\">\n",
       "  <thead>\n",
       "    <tr style=\"text-align: right;\">\n",
       "      <th></th>\n",
       "      <th>bookingID</th>\n",
       "      <th>operatorID</th>\n",
       "      <th>whichway</th>\n",
       "      <th>flightNr</th>\n",
       "      <th>paymentType</th>\n",
       "      <th>customerID</th>\n",
       "      <th>typeOfService</th>\n",
       "      <th>serviceDate</th>\n",
       "      <th>serviceTime</th>\n",
       "      <th>pickupLocal</th>\n",
       "      <th>pickupPlaceID</th>\n",
       "      <th>pickupGPSCoordinates</th>\n",
       "      <th>dropoffLocal</th>\n",
       "      <th>dropoffPlaceID</th>\n",
       "      <th>dropoffGPSCoordinates</th>\n",
       "      <th>adults</th>\n",
       "      <th>children</th>\n",
       "      <th>babies</th>\n",
       "      <th>vehicleID</th>\n",
       "      <th>driverID</th>\n",
       "      <th>supplierID</th>\n",
       "      <th>bookingStatus</th>\n",
       "      <th>serviceStatus</th>\n",
       "      <th>bookingDate</th>\n",
       "      <th>serviceID</th>\n",
       "    </tr>\n",
       "  </thead>\n",
       "  <tbody>\n",
       "    <tr>\n",
       "      <th>91914</th>\n",
       "      <td>157386</td>\n",
       "      <td>1</td>\n",
       "      <td>arrival</td>\n",
       "      <td>BA2692</td>\n",
       "      <td>Cash</td>\n",
       "      <td>139197</td>\n",
       "      <td>RAL</td>\n",
       "      <td>2017-02-28</td>\n",
       "      <td>16:10:00</td>\n",
       "      <td>FARO AIRPORT</td>\n",
       "      <td>3</td>\n",
       "      <td>37.017596,-7.96972</td>\n",
       "      <td>VILAMOURA</td>\n",
       "      <td>2</td>\n",
       "      <td>37.0910339,-8.093705</td>\n",
       "      <td>2</td>\n",
       "      <td>0</td>\n",
       "      <td>0</td>\n",
       "      <td>149</td>\n",
       "      <td>163</td>\n",
       "      <td>0</td>\n",
       "      <td>Done</td>\n",
       "      <td>Done</td>\n",
       "      <td>2017-02-28 14:33:44</td>\n",
       "      <td>1573860</td>\n",
       "    </tr>\n",
       "    <tr>\n",
       "      <th>91915</th>\n",
       "      <td>157386</td>\n",
       "      <td>1</td>\n",
       "      <td>departure</td>\n",
       "      <td>NaN</td>\n",
       "      <td>Cash</td>\n",
       "      <td>139197</td>\n",
       "      <td>RAL</td>\n",
       "      <td>2017-02-28</td>\n",
       "      <td>15:20:00</td>\n",
       "      <td>VILAMOURA</td>\n",
       "      <td>2</td>\n",
       "      <td>37.0910339,-8.093705</td>\n",
       "      <td>FARO AIRPORT</td>\n",
       "      <td>3</td>\n",
       "      <td>37.017596,-7.96972</td>\n",
       "      <td>2</td>\n",
       "      <td>0</td>\n",
       "      <td>0</td>\n",
       "      <td>149</td>\n",
       "      <td>163</td>\n",
       "      <td>0</td>\n",
       "      <td>Done</td>\n",
       "      <td>Done</td>\n",
       "      <td>2017-02-28 14:33:44</td>\n",
       "      <td>1573861</td>\n",
       "    </tr>\n",
       "  </tbody>\n",
       "</table>\n",
       "</div>"
      ],
      "text/plain": [
       "       bookingID  operatorID   whichway flightNr paymentType  customerID  \\\n",
       "91914     157386           1    arrival   BA2692        Cash      139197   \n",
       "91915     157386           1  departure      NaN        Cash      139197   \n",
       "\n",
       "      typeOfService serviceDate serviceTime   pickupLocal  pickupPlaceID  \\\n",
       "91914           RAL  2017-02-28    16:10:00  FARO AIRPORT              3   \n",
       "91915           RAL  2017-02-28    15:20:00     VILAMOURA              2   \n",
       "\n",
       "       pickupGPSCoordinates  dropoffLocal  dropoffPlaceID  \\\n",
       "91914    37.017596,-7.96972     VILAMOURA               2   \n",
       "91915  37.0910339,-8.093705  FARO AIRPORT               3   \n",
       "\n",
       "      dropoffGPSCoordinates  adults  children  babies  vehicleID  driverID  \\\n",
       "91914  37.0910339,-8.093705       2         0       0        149       163   \n",
       "91915    37.017596,-7.96972       2         0       0        149       163   \n",
       "\n",
       "       supplierID bookingStatus serviceStatus          bookingDate  serviceID  \n",
       "91914           0          Done          Done  2017-02-28 14:33:44    1573860  \n",
       "91915           0          Done          Done  2017-02-28 14:33:44    1573861  "
      ]
     },
     "execution_count": 23,
     "metadata": {},
     "output_type": "execute_result"
    }
   ],
   "source": [
    "# A sample of a suspicious entry\n",
    "manifesto[manifesto['bookingID']==157386]"
   ]
  },
  {
   "cell_type": "markdown",
   "metadata": {},
   "source": [
    "### Checking the validity of fields\n",
    "\n",
    "Due to various errors in the dataset, several rules had to be developed to check validity of the data and clean it. We have cross-checked booking/service status, booking/service date/time and GPS coordinates:\n",
    "\n",
    " - inconsistency between status of booking and status of service as shown in below table\n",
    " - GPS coordinates outside of area of operation\n",
    " - inconsistencies between booking and service date and time"
   ]
  },
  {
   "cell_type": "code",
   "execution_count": 24,
   "metadata": {},
   "outputs": [
    {
     "data": {
      "text/html": [
       "<div>\n",
       "<style scoped>\n",
       "    .dataframe tbody tr th:only-of-type {\n",
       "        vertical-align: middle;\n",
       "    }\n",
       "\n",
       "    .dataframe tbody tr th {\n",
       "        vertical-align: top;\n",
       "    }\n",
       "\n",
       "    .dataframe thead th {\n",
       "        text-align: right;\n",
       "    }\n",
       "</style>\n",
       "<table border=\"1\" class=\"dataframe\">\n",
       "  <thead>\n",
       "    <tr style=\"text-align: right;\">\n",
       "      <th>serviceStatus</th>\n",
       "      <th>Canceled</th>\n",
       "      <th>Done</th>\n",
       "      <th>No-show</th>\n",
       "    </tr>\n",
       "    <tr>\n",
       "      <th>bookingStatus</th>\n",
       "      <th></th>\n",
       "      <th></th>\n",
       "      <th></th>\n",
       "    </tr>\n",
       "  </thead>\n",
       "  <tbody>\n",
       "    <tr>\n",
       "      <th>Canceled</th>\n",
       "      <td>636</td>\n",
       "      <td>46584</td>\n",
       "      <td>45</td>\n",
       "    </tr>\n",
       "    <tr>\n",
       "      <th>Done</th>\n",
       "      <td>1082</td>\n",
       "      <td>317026</td>\n",
       "      <td>1031</td>\n",
       "    </tr>\n",
       "    <tr>\n",
       "      <th>No-show</th>\n",
       "      <td>9</td>\n",
       "      <td>1668</td>\n",
       "      <td>34</td>\n",
       "    </tr>\n",
       "  </tbody>\n",
       "</table>\n",
       "</div>"
      ],
      "text/plain": [
       "serviceStatus  Canceled    Done  No-show\n",
       "bookingStatus                           \n",
       "Canceled            636   46584       45\n",
       "Done               1082  317026     1031\n",
       "No-show               9    1668       34"
      ]
     },
     "execution_count": 24,
     "metadata": {},
     "output_type": "execute_result"
    }
   ],
   "source": [
    "pd.crosstab(index=manifesto['bookingStatus'], columns=manifesto['serviceStatus'])"
   ]
  },
  {
   "cell_type": "markdown",
   "metadata": {},
   "source": [
    "### Booking and Service status"
   ]
  },
  {
   "cell_type": "markdown",
   "metadata": {},
   "source": [
    "##### Rule 1 - Bookings with status Done and all serviceStatus equal to Canceled or No-show"
   ]
  },
  {
   "cell_type": "code",
   "execution_count": 25,
   "metadata": {},
   "outputs": [
    {
     "name": "stdout",
     "output_type": "stream",
     "text": [
      "Bookings with status Done and all serviceStatus equal to Canceled or No-show: 819\n"
     ]
    }
   ],
   "source": [
    "# First we separate only the bookingID with status Done and at least one canceled or no-show service\n",
    "rule1 = manifesto[(manifesto['bookingStatus']=='Done') & (manifesto['serviceStatus'].isin(['Canceled','No-show']))]['bookingID'].unique()\n",
    "\n",
    "# Then we test for the existence of at least one 'Done' service.\n",
    "# If not, the bookingID is included in the badStatus1 list\n",
    "\n",
    "badStatus1 = []\n",
    "for i in rule1:\n",
    "    if 'Done' in manifesto[manifesto['bookingID']==i]['serviceStatus'].unique():\n",
    "        continue\n",
    "    else:\n",
    "        badStatus1.append(i)\n",
    "\n",
    "print('Bookings with status Done and all serviceStatus equal to Canceled or No-show:', len(badStatus1))"
   ]
  },
  {
   "cell_type": "code",
   "execution_count": 26,
   "metadata": {},
   "outputs": [],
   "source": [
    "# Change all these bookings and services to Canceled\n",
    "manifesto.loc[badStatus1, ['bookingStatus','serviceStatus']] = 'Canceled'"
   ]
  },
  {
   "cell_type": "markdown",
   "metadata": {},
   "source": [
    "##### Rule 2 - Bookings with status No-show and at least one service with status Done"
   ]
  },
  {
   "cell_type": "code",
   "execution_count": 27,
   "metadata": {},
   "outputs": [
    {
     "name": "stdout",
     "output_type": "stream",
     "text": [
      "Bookings with status No-show and at least one service with status Done: 991\n"
     ]
    }
   ],
   "source": [
    "rule2 = manifesto[(manifesto['bookingStatus']=='No-show') & (manifesto['serviceStatus']=='Done')]['bookingID'].unique()\n",
    "print('Bookings with status No-show and at least one service with status Done:',len(rule2))"
   ]
  },
  {
   "cell_type": "code",
   "execution_count": 28,
   "metadata": {},
   "outputs": [],
   "source": [
    "# Change all these bookings and services to No-show\n",
    "manifesto.loc[rule2, ['bookingStatus','serviceStatus']] = 'No-show'"
   ]
  },
  {
   "cell_type": "markdown",
   "metadata": {},
   "source": [
    "##### Rule 3 - Bookings with status No-show and all services with status Canceled"
   ]
  },
  {
   "cell_type": "code",
   "execution_count": 29,
   "metadata": {},
   "outputs": [
    {
     "name": "stdout",
     "output_type": "stream",
     "text": [
      "Bookings with status No-show and all services with status Canceled: 0\n"
     ]
    }
   ],
   "source": [
    "# First we separate only the bookingID with status No-show and at least one canceled service\n",
    "\n",
    "rule3 = manifesto[(manifesto['bookingStatus']=='No-show') & (manifesto['serviceStatus']=='Canceled')]['bookingID'].unique()\n",
    "\n",
    "# Then we test for the existence of at least one 'Done' or 'No-show' service\n",
    "# If not, the bookingID is included in the badStatus3 list\n",
    "\n",
    "badStatus3 = []\n",
    "for i in rule3:\n",
    "    if 'Done' in manifesto[manifesto['bookingID']==i]['serviceStatus'].unique():\n",
    "        continue\n",
    "    elif 'No-show' in manifesto[manifesto['bookingID']==i]['serviceStatus'].unique():\n",
    "        continue\n",
    "    else:\n",
    "        badStatus3.append(i)\n",
    "\n",
    "print('Bookings with status No-show and all services with status Canceled:', len(badStatus3))"
   ]
  },
  {
   "cell_type": "code",
   "execution_count": 30,
   "metadata": {},
   "outputs": [],
   "source": [
    "# Change all these bookings and services to No-show\n",
    "manifesto.loc[badStatus3, ['bookingStatus','serviceStatus']] = 'No-show'"
   ]
  },
  {
   "cell_type": "markdown",
   "metadata": {},
   "source": [
    "##### Rule 4 - Bookings with status Canceled but with at least one service No-show"
   ]
  },
  {
   "cell_type": "code",
   "execution_count": 31,
   "metadata": {},
   "outputs": [
    {
     "name": "stdout",
     "output_type": "stream",
     "text": [
      "Bookings with status Canceled but with at least one service No-show: 42\n"
     ]
    }
   ],
   "source": [
    "rule4 = manifesto[(manifesto['bookingStatus']=='Canceled') & (manifesto['serviceStatus']=='No-show')]['bookingID'].unique()\n",
    "print('Bookings with status Canceled but with at least one service No-show:', len(rule4))"
   ]
  },
  {
   "cell_type": "code",
   "execution_count": 32,
   "metadata": {},
   "outputs": [],
   "source": [
    "# Change all these bookings and services to Canceled\n",
    "manifesto.loc[rule4, ['bookingStatus','serviceStatus']] = 'Canceled'"
   ]
  },
  {
   "cell_type": "markdown",
   "metadata": {},
   "source": [
    "##### Rule 5 - Bookings with status Canceled but with at least one service Done"
   ]
  },
  {
   "cell_type": "code",
   "execution_count": 33,
   "metadata": {},
   "outputs": [
    {
     "name": "stdout",
     "output_type": "stream",
     "text": [
      "Bookings with status Canceled but with at least one service Done: 28152\n"
     ]
    }
   ],
   "source": [
    "rule5 = manifesto[(manifesto['bookingStatus']=='Canceled') & (manifesto['serviceStatus']=='Done')]['bookingID'].unique()\n",
    "print('Bookings with status Canceled but with at least one service Done:', len(rule5))"
   ]
  },
  {
   "cell_type": "code",
   "execution_count": 34,
   "metadata": {},
   "outputs": [],
   "source": [
    "# Change all these bookings and services to Canceled\n",
    "manifesto.loc[rule5, ['bookingStatus','serviceStatus']] = 'Canceled'"
   ]
  },
  {
   "cell_type": "markdown",
   "metadata": {},
   "source": [
    "### Booking and Service timings"
   ]
  },
  {
   "cell_type": "code",
   "execution_count": 35,
   "metadata": {},
   "outputs": [],
   "source": [
    "# Merging ServiceDate and ServiceTime and converting time variables to datetime\n",
    "# First, we convert 'bookingDate' to the datetime format\n",
    "manifesto['bookingDate'] = pd.to_datetime(manifesto['bookingDate'])\n",
    "\n",
    "# Then, we combine 'ServiceDate' and 'ServiceTime' and do the same\n",
    "manifesto['serviceDate'] = manifesto['serviceDate'] + ' ' + manifesto['serviceTime']\n",
    "manifesto['serviceDate'] = pd.to_datetime(manifesto['serviceDate'])\n",
    "manifesto.drop(columns='serviceTime',inplace=True)"
   ]
  },
  {
   "cell_type": "code",
   "execution_count": 36,
   "metadata": {},
   "outputs": [],
   "source": [
    "# Checking whether the booking occurs after the service has been performed\n",
    "# exclude these rows\n",
    "\n",
    "manifesto.reset_index(inplace=True, drop=True)\n",
    "manifesto = manifesto[~(manifesto['serviceDate']<manifesto['bookingDate'])]"
   ]
  },
  {
   "cell_type": "markdown",
   "metadata": {},
   "source": [
    "### GPS coordinates\n",
    "\n",
    "GPS coordinates have been validated based on whether they are inside Portugal/Spain and pickup/dropoff coordinates are more distant than 500 meters"
   ]
  },
  {
   "cell_type": "code",
   "execution_count": 37,
   "metadata": {},
   "outputs": [],
   "source": [
    "# Create four variables to represent the pickup and dropoff GPS coordinates (separately)\n",
    "manifesto.reset_index(inplace=True, drop=True)\n",
    "\n",
    "# Clean the coordinates, split the values from a string to a list with two numeric values\n",
    "temp_GPS = strip_gps(manifesto['pickupGPSCoordinates'])\n",
    "\n",
    "# creating the variables\n",
    "manifesto['pickupLat'] = pd.DataFrame(temp_GPS.values.tolist())[0]\n",
    "manifesto['pickupLon'] = pd.DataFrame(temp_GPS.values.tolist())[1]\n",
    "\n",
    "# cleaning the rows that had strings other than coordinates (eg. 'Infante Sagres, 117, Quarteira, Algarve')\n",
    "# these strings were transformed to [0,0] coordinates, now we need to remove these rows\n",
    "manifesto = manifesto[~((manifesto['pickupLat']==0) | (manifesto['pickupLon']==0))]\n",
    "manifesto.reset_index(inplace=True, drop=True)\n",
    "\n",
    "# Clean the coordinates, split the values from a string to a list with two numeric values\n",
    "temp_GPS = strip_gps(manifesto['dropoffGPSCoordinates'])\n",
    "\n",
    "# creating the variables\n",
    "manifesto['dropoffLat'] = pd.DataFrame(temp_GPS.values.tolist())[0]\n",
    "manifesto['dropoffLon'] = pd.DataFrame(temp_GPS.values.tolist())[1]\n",
    "\n",
    "# cleaning the rows that had strings other than coordinates (eg. 'Infante Sagres, 117, Quarteira, Algarve')\n",
    "# these strings were transformed to [0,0] coordinates, now we need to remove these rows\n",
    "manifesto = manifesto[~((manifesto['dropoffLat']==0) | (manifesto['dropoffLon']==0))]\n",
    "manifesto.reset_index(inplace=True, drop=True)\n",
    "\n",
    "# Dropping the remaining NaNs\n",
    "manifesto.dropna(subset=['pickupLat','pickupLon','dropoffLat','dropoffLon'], inplace=True)"
   ]
  },
  {
   "cell_type": "code",
   "execution_count": 38,
   "metadata": {},
   "outputs": [],
   "source": [
    "# Checking if the GPS coordinates are located inside Portugal + Spain borders\n",
    "spain_north_lat = 43.72413\n",
    "spain_east_lon = 3.27487\n",
    "spain_south_lat = 36.06695\n",
    "portugal_west_lon = -9.55716\n",
    "\n",
    "manifesto = manifesto[((manifesto['pickupLat']>=spain_south_lat) &\n",
    "                       (manifesto['pickupLat']<=spain_north_lat) &\n",
    "                       (manifesto['dropoffLat']>=spain_south_lat) &\n",
    "                       (manifesto['dropoffLat']<=spain_north_lat) &\n",
    "                       (manifesto['pickupLon']>=portugal_west_lon) &\n",
    "                       (manifesto['pickupLon']<=spain_east_lon) &\n",
    "                       (manifesto['dropoffLon']>=portugal_west_lon) &\n",
    "                       (manifesto['dropoffLon']<=spain_east_lon))]\n",
    "\n",
    "manifesto.reset_index(inplace=True, drop=True)"
   ]
  },
  {
   "cell_type": "markdown",
   "metadata": {},
   "source": [
    "### Cleaning data errors\n",
    "Dropping services with negative count of babies and children and services without adults (services cannot be booked by a child)"
   ]
  },
  {
   "cell_type": "code",
   "execution_count": 39,
   "metadata": {},
   "outputs": [
    {
     "data": {
      "text/plain": [
       "children    3\n",
       "babies      2\n",
       "dtype: int64"
      ]
     },
     "execution_count": 39,
     "metadata": {},
     "output_type": "execute_result"
    }
   ],
   "source": [
    "#5 records with negative count of kids\n",
    "neg=['children', 'babies']\n",
    "manifesto[neg].where(manifesto[neg] < 0).count()"
   ]
  },
  {
   "cell_type": "code",
   "execution_count": 40,
   "metadata": {},
   "outputs": [
    {
     "data": {
      "text/plain": [
       "19"
      ]
     },
     "execution_count": 40,
     "metadata": {},
     "output_type": "execute_result"
    }
   ],
   "source": [
    "#19 records with no adult in service line\n",
    "manifesto['adults'].where(manifesto['adults'] < 1).count()"
   ]
  },
  {
   "cell_type": "code",
   "execution_count": 41,
   "metadata": {},
   "outputs": [],
   "source": [
    "#dropping those \n",
    "manifesto = manifesto[((manifesto['adults']>=1) &\n",
    "                       (manifesto['children']>=0) &\n",
    "                       (manifesto['babies']>=0)\n",
    "                      )]\n",
    "\n",
    "manifesto.reset_index(inplace=True, drop=True)"
   ]
  },
  {
   "cell_type": "markdown",
   "metadata": {},
   "source": [
    "### Dropping duplicated services\n",
    "\n",
    "Criteria: checking if two services are performed in the same day, with the same 'bookingID', same transfer type and driver but service time being different for at most 1h. In this case, we consider that the second service is just a booking change drop the second service."
   ]
  },
  {
   "cell_type": "code",
   "execution_count": 42,
   "metadata": {},
   "outputs": [
    {
     "name": "stdout",
     "output_type": "stream",
     "text": [
      "# of rows that satisfy this condition: 2668\n",
      "# of rows in the manifesto dataset BEFORE dropping the duplicates: 358032\n",
      "# of rows in the manifesto dataset AFTER dropping the duplicates: 357480\n"
     ]
    }
   ],
   "source": [
    "delta = timedelta(hours=1)\n",
    "manifesto.sort_values(by='serviceDate', ascending=True, inplace=True)\n",
    "\n",
    "# Checking how many rows satisfy this condition\n",
    "# diff function is used to compare each row with it's antecedent\n",
    "print('# of rows that satisfy this condition:',\n",
    "      manifesto[((manifesto['serviceDate'].diff()<delta) & (manifesto['bookingID'].diff()==0))].shape[0])\n",
    "\n",
    "# Dropping the rows by this condition\n",
    "manifesto = manifesto[~((manifesto['serviceDate'].diff()<delta) & (manifesto['bookingID'].diff()==0))]\n",
    "manifesto.reset_index(inplace=True, drop=True)\n",
    "\n",
    "# Dropping the rows which represent duplicates taking into consideration 'bookingID', 'whichway' and 'driverID'\n",
    "print('# of rows in the manifesto dataset BEFORE dropping the duplicates:',\n",
    "      manifesto.shape[0])\n",
    "manifesto.drop_duplicates(subset=['bookingID','whichway','driverID'],inplace=True)\n",
    "\n",
    "print('# of rows in the manifesto dataset AFTER dropping the duplicates:',\n",
    "      manifesto.shape[0])"
   ]
  },
  {
   "cell_type": "markdown",
   "metadata": {},
   "source": [
    "<div class=\"alert alert-block alert-info\">\n",
    "\n",
    "\n",
    "### Data exploration and pre-procesing summary insights and conclusions\n",
    "\n",
    "* We are in data-rich situation so are dropping records with null values in all columns except FlightN (22K is around 6%).\n",
    "        \n",
    "* Data granularity for the forecasting is number of services, which are not equivalent to number of bookings, so we are creating a new feature \"ServiceID\" and as we will be training model on weekly predictions, create a feature with the week number to be able to perform aggregations on independent features and also on the target \"weekly total number of services\".\n",
    "\n",
    "* After identifying service level details, it appeared that there are bookings with services count equal to zero as there are null values in typeOfService which will be dropped.\n",
    "\n",
    "* Data errors were identified and cleaned: Negative values in count of passengers, services without adult passengers, negative values in leadtime (these errors represent minor percentage of full dataset)\n",
    "\n",
    "* Inconsistencies and anomalies in data are corrected based on discussion with client (e.g. duplicate values, timing difference in services, status of bookings vs status os services within each booking, transfers below minimal threshold of transfer length)\n",
    "\n",
    "</div>\n"
   ]
  },
  {
   "cell_type": "markdown",
   "metadata": {},
   "source": [
    "# 2. Feature engineering\n",
    "\n",
    "The features that we deem important which reflect some patterns of clients' booking behaviour:\n",
    "    * Lead time (in days and weeks)\n",
    "    * Distance travelled while performing the service\n",
    "    * Airline (low-cost or regular)\n",
    "    * 8 weeks lead (Y/N)"
   ]
  },
  {
   "cell_type": "code",
   "execution_count": 43,
   "metadata": {},
   "outputs": [],
   "source": [
    "# We calculate the time interval between these two datetime values\n",
    "manifesto['leadtimeDays'] = (manifesto['serviceDate'] - manifesto['bookingDate']).dt.days\n",
    "manifesto['leadtimeWeeks'] = round(manifesto['leadtimeDays']/7,2)"
   ]
  },
  {
   "cell_type": "code",
   "execution_count": 44,
   "metadata": {},
   "outputs": [
    {
     "data": {
      "text/plain": [
       "leadtimeWeeks    0\n",
       "leadtimeDays     0\n",
       "dtype: int64"
      ]
     },
     "execution_count": 44,
     "metadata": {},
     "output_type": "execute_result"
    }
   ],
   "source": [
    "# checking for negative values that might be problematic\n",
    "neg = ['leadtimeWeeks','leadtimeDays']\n",
    "manifesto[neg].where(manifesto[neg] < 0).count()"
   ]
  },
  {
   "cell_type": "code",
   "execution_count": 45,
   "metadata": {},
   "outputs": [],
   "source": [
    "# Create a variable to represent the distance traveled in each service based on GPS coordinates\n",
    "manifesto['serviceDistance'] = manifesto[['pickupLat','pickupLon','dropoffLat','dropoffLon']].apply(calc_dist, axis=1)"
   ]
  },
  {
   "cell_type": "code",
   "execution_count": 46,
   "metadata": {},
   "outputs": [
    {
     "data": {
      "text/plain": [
       "flightNr    18855\n",
       "dtype: int64"
      ]
     },
     "execution_count": 46,
     "metadata": {},
     "output_type": "execute_result"
    }
   ],
   "source": [
    "# Again, we check for nulls in all variables\n",
    "nulls = manifesto.columns[manifesto.isnull().any()]\n",
    "manifesto[nulls].isnull().sum()"
   ]
  },
  {
   "cell_type": "code",
   "execution_count": 47,
   "metadata": {},
   "outputs": [
    {
     "data": {
      "text/plain": [
       "(1610, 31)"
      ]
     },
     "execution_count": 47,
     "metadata": {},
     "output_type": "execute_result"
    }
   ],
   "source": [
    "#sorting by descending distance\n",
    "manifesto.sort_values(by='serviceDistance', ascending=False,inplace=True)\n",
    "\n",
    "# Services where the distance is lower than 500m, may represent wrong entries in the GPS Coordinates\n",
    "manifesto[manifesto['serviceDistance']<0.5].shape"
   ]
  },
  {
   "cell_type": "code",
   "execution_count": 48,
   "metadata": {},
   "outputs": [],
   "source": [
    "# We'll drop these rows\n",
    "manifesto = manifesto[~(manifesto['serviceDistance']<0.5)]\n",
    "manifesto.reset_index(inplace=True, drop=True)"
   ]
  },
  {
   "cell_type": "markdown",
   "metadata": {},
   "source": [
    "#### Extracting airline information from flightNr variable"
   ]
  },
  {
   "cell_type": "code",
   "execution_count": 49,
   "metadata": {},
   "outputs": [
    {
     "data": {
      "text/html": [
       "<div>\n",
       "<style scoped>\n",
       "    .dataframe tbody tr th:only-of-type {\n",
       "        vertical-align: middle;\n",
       "    }\n",
       "\n",
       "    .dataframe tbody tr th {\n",
       "        vertical-align: top;\n",
       "    }\n",
       "\n",
       "    .dataframe thead th {\n",
       "        text-align: right;\n",
       "    }\n",
       "</style>\n",
       "<table border=\"1\" class=\"dataframe\">\n",
       "  <thead>\n",
       "    <tr style=\"text-align: right;\">\n",
       "      <th></th>\n",
       "      <th>bookingID</th>\n",
       "    </tr>\n",
       "    <tr>\n",
       "      <th>airline</th>\n",
       "      <th></th>\n",
       "    </tr>\n",
       "  </thead>\n",
       "  <tbody>\n",
       "    <tr>\n",
       "      <th>fr</th>\n",
       "      <td>123888</td>\n",
       "    </tr>\n",
       "    <tr>\n",
       "      <th>ezy</th>\n",
       "      <td>73858</td>\n",
       "    </tr>\n",
       "    <tr>\n",
       "      <th>ei</th>\n",
       "      <td>47079</td>\n",
       "    </tr>\n",
       "    <tr>\n",
       "      <th>other</th>\n",
       "      <td>42015</td>\n",
       "    </tr>\n",
       "    <tr>\n",
       "      <th>ls</th>\n",
       "      <td>31904</td>\n",
       "    </tr>\n",
       "    <tr>\n",
       "      <th>zb</th>\n",
       "      <td>12773</td>\n",
       "    </tr>\n",
       "    <tr>\n",
       "      <th>ba</th>\n",
       "      <td>9452</td>\n",
       "    </tr>\n",
       "    <tr>\n",
       "      <th>tp</th>\n",
       "      <td>4442</td>\n",
       "    </tr>\n",
       "    <tr>\n",
       "      <th>be</th>\n",
       "      <td>4313</td>\n",
       "    </tr>\n",
       "    <tr>\n",
       "      <th>hv</th>\n",
       "      <td>4069</td>\n",
       "    </tr>\n",
       "    <tr>\n",
       "      <th>tom</th>\n",
       "      <td>2077</td>\n",
       "    </tr>\n",
       "  </tbody>\n",
       "</table>\n",
       "</div>"
      ],
      "text/plain": [
       "         bookingID\n",
       "airline           \n",
       "fr          123888\n",
       "ezy          73858\n",
       "ei           47079\n",
       "other        42015\n",
       "ls           31904\n",
       "zb           12773\n",
       "ba            9452\n",
       "tp            4442\n",
       "be            4313\n",
       "hv            4069\n",
       "tom           2077"
      ]
     },
     "execution_count": 49,
     "metadata": {},
     "output_type": "execute_result"
    }
   ],
   "source": [
    "# Creating a variable 'airline' which represents the airline associated with each booking\n",
    "manifesto['airline'] = manifesto['flightNr'].str.replace(r'\\d+', '').str.lower()\n",
    "manifesto['airline'] = manifesto['airline'].fillna('other')\n",
    "manifesto['airline'] = manifesto['airline'].apply(lambda x: 'other' if x.strip()=='' else x)  \n",
    "manifesto['airline'] = manifesto['airline'].str.strip(\" \")\n",
    "\n",
    "# Manually dealing with the most frequent cases\n",
    "manifesto['airline'] = manifesto['airline'].str.replace('frfr','fr')\n",
    "manifesto['airline'] = manifesto['airline'].str.replace('ezyezy','ezy')\n",
    "manifesto['airline'] = manifesto['airline'].str.replace('eiei','ei')\n",
    "manifesto['airline'] = manifesto['airline'].str.replace('lsls','ls')\n",
    "airlineCounts = manifesto['airline'].value_counts()\n",
    "\n",
    "# Dealing with the very sparse occurrences of airlines and mistypings\n",
    "# Setting the airline to 'other' when the number of ocurrences for that airline is lower than 2.000\n",
    "\n",
    "manifesto['airline'] = manifesto['airline'].apply(lambda x: 'other' if airlineCounts[x]<2000 else x)\n",
    "manifesto[['airline','bookingID']].groupby('airline').count().sort_values(by='bookingID',ascending=False)"
   ]
  },
  {
   "cell_type": "code",
   "execution_count": 50,
   "metadata": {},
   "outputs": [],
   "source": [
    "# Creating a variable to set wheter the airline is low cost\n",
    "lowCostDict = {'fr': 1, #RyanAir\n",
    "               'ezy': 1, #Easyjet\n",
    "               'ei': 1, #AerLingus\n",
    "               'other': 0,\n",
    "               'ls': 1, #Jet2\n",
    "               'zb': 0, #AirAlbania\n",
    "               'ba': 0, #BritishAirways\n",
    "               'tp': 0, #TAP\n",
    "               'be': 1, #Flybe\n",
    "               'hv': 1, #Transavia\n",
    "               'tom': 1, #TUI\n",
    "}\n",
    "\n",
    "manifesto['lowCostAir'] = manifesto['airline'].apply(lambda x: lowCostDict[x])"
   ]
  },
  {
   "cell_type": "code",
   "execution_count": 51,
   "metadata": {},
   "outputs": [],
   "source": [
    "# Creating a variable '8WeeksLead' to set wheter the service was booked 8 weeks before (binary 1 = 8 weeks or earlier, 0 = later)\n",
    "delta = timedelta(weeks=8)\n",
    "manifesto['8WeeksLead'] = manifesto.apply(lambda x: 1 if (x.serviceDate - x.bookingDate >= delta) else 0, axis=1)"
   ]
  },
  {
   "cell_type": "markdown",
   "metadata": {},
   "source": [
    "# 3. Creating Modeling dataset with Aggregated Features\n",
    "\n",
    "Due to the specific constraint given by the client, the team needed to perform clever aggregation of the data. \n",
    "The following steps were done in order to achieve this:\n",
    "1.\tServices with **'serviceStatus' Done** were selected\n",
    "2.\tA table with **total number of services** by year and week number was generated taking only services booked with minimum 8 week lead time\n",
    "3.\t**Aggregated features** were computed and added to this table\n",
    "\n",
    "<div class=\"alert alert-block alert-info\">\n",
    "\n",
    "At the end of this step we had our modelling dataset **'modelling_df'** to be used for training and testing the model, showing data based on year and week number\n",
    "</div>\n"
   ]
  },
  {
   "cell_type": "markdown",
   "metadata": {},
   "source": [
    "### 3.1. Creating modeling dataset"
   ]
  },
  {
   "cell_type": "code",
   "execution_count": 52,
   "metadata": {},
   "outputs": [],
   "source": [
    "#Create a copy of main dataframe which will be transformed to modeling dataset. Add columns for week number and year.\n",
    "aggregate_df= manifesto.copy(deep=True)\n",
    "aggregate_df['year'] = aggregate_df['serviceDate'].dt.year.map(str)\n",
    "aggregate_df['week'] = aggregate_df['serviceDate'].dt.week.map(str)"
   ]
  },
  {
   "cell_type": "code",
   "execution_count": 53,
   "metadata": {},
   "outputs": [
    {
     "data": {
      "text/plain": [
       "Index(['bookingID', 'operatorID', 'whichway', 'flightNr', 'paymentType',\n",
       "       'customerID', 'typeOfService', 'serviceDate', 'pickupLocal',\n",
       "       'pickupPlaceID', 'pickupGPSCoordinates', 'dropoffLocal',\n",
       "       'dropoffPlaceID', 'dropoffGPSCoordinates', 'adults', 'children',\n",
       "       'babies', 'vehicleID', 'driverID', 'supplierID', 'bookingStatus',\n",
       "       'serviceStatus', 'bookingDate', 'serviceID', 'pickupLat', 'pickupLon',\n",
       "       'dropoffLat', 'dropoffLon', 'leadtimeDays', 'leadtimeWeeks',\n",
       "       'serviceDistance', 'airline', 'lowCostAir', '8WeeksLead', 'year',\n",
       "       'week'],\n",
       "      dtype='object')"
      ]
     },
     "execution_count": 53,
     "metadata": {},
     "output_type": "execute_result"
    }
   ],
   "source": [
    "aggregate_df.columns"
   ]
  },
  {
   "cell_type": "code",
   "execution_count": 54,
   "metadata": {},
   "outputs": [],
   "source": [
    "# Reordering the dataframe and dropping the unnecessary columns\n",
    "cols = ['year', 'week', 'whichway', 'customerID', 'paymentType',\n",
    "       'typeOfService', 'serviceDate', 'adults', 'children',\n",
    "       'babies', 'vehicleID', 'driverID', 'bookingStatus',\n",
    "       'serviceStatus', 'bookingDate', 'leadtimeDays', 'serviceDistance',\n",
    "       'airline','lowCostAir','8WeeksLead']\n",
    "aggregate_df = aggregate_df[cols]"
   ]
  },
  {
   "cell_type": "markdown",
   "metadata": {},
   "source": [
    "<div class=\"alert alert-block alert-info\">\n",
    "\n",
    "The **aggregate_df_done** is a slice of main dataset filtered by service status 'Done'. It contains only the data for the real demand.\n",
    "</div>"
   ]
  },
  {
   "cell_type": "code",
   "execution_count": 55,
   "metadata": {},
   "outputs": [
    {
     "name": "stdout",
     "output_type": "stream",
     "text": [
      "# of rows BEFORE filtering bookings and services: 355870\n",
      "# of rows AFTER filtering bookings and services: 282193\n"
     ]
    }
   ],
   "source": [
    "# Create a dataframe only with bookings/services not canceled or no-show (real demand)\n",
    "aggregate_df_done = aggregate_df[(aggregate_df['bookingStatus']=='Done') & (aggregate_df['serviceStatus']=='Done')]\n",
    "print ('# of rows BEFORE filtering bookings and services:', aggregate_df.shape[0])\n",
    "print ('# of rows AFTER filtering bookings and services:', aggregate_df_done.shape[0])"
   ]
  },
  {
   "cell_type": "markdown",
   "metadata": {},
   "source": [
    "<div class=\"alert alert-block alert-info\">\n",
    "    \n",
    "The **modelling_df** is aggregate_df_done dataframe aggregated by year and week and filtered to include only services booked 8 or more weeks in advance. This is crucial as in production environment to make predictions 8 weeks in advance we can only use the data available at the moment when prediction is made or earlier.\n",
    "\n",
    "</div>"
   ]
  },
  {
   "cell_type": "code",
   "execution_count": 56,
   "metadata": {},
   "outputs": [],
   "source": [
    "# Create a dataframe with totals services per week (target) - Only with bookings/services not canceled or no-show\n",
    "modeling_df = aggregate_df_done.groupby(by=['year','week']).size().reset_index(name='services')"
   ]
  },
  {
   "cell_type": "code",
   "execution_count": 57,
   "metadata": {},
   "outputs": [],
   "source": [
    "n_rows = aggregate_df_done.shape[0]\n",
    "aggregate_df_done = aggregate_df_done[aggregate_df_done['8WeeksLead']==1]\n",
    "aggregate_df_done.reset_index(inplace=True,drop=True)"
   ]
  },
  {
   "cell_type": "markdown",
   "metadata": {},
   "source": [
    "### 3.2. Computing aggregated features\n",
    "\n",
    "#### Columns transformed into ratios:\n",
    "*  whichway\n",
    "\n",
    "#### Columns transformed to sum:\n",
    "* 'adults'\n",
    "* 'children'\n",
    "* 'babies'\n",
    "* 'leadtimeDays'\n",
    "* 'serviceDistance'\n",
    "* '8WeeksLead'\n",
    "*  'PaymentType'\n",
    "*  'TypeOfService'\n",
    "\n",
    "#### Columns transformed to count unique:\n",
    "* 'driverID' - number of unique drivers per week\n",
    "* 'vehicleID' - number of unique vehicles per week\n",
    "* 'customerID' - number of unique customers per week#### Columns transformed into ratios:\n",
    "*  whichway\n"
   ]
  },
  {
   "cell_type": "markdown",
   "metadata": {},
   "source": [
    "#### Features from main dataset:"
   ]
  },
  {
   "cell_type": "code",
   "execution_count": 58,
   "metadata": {},
   "outputs": [],
   "source": [
    "# Get the sum of adults per week for arrivals/departures\n",
    "paxPerWeek = aggregate_df_done.pivot_table(values='adults' ,index=['year','week'], columns='whichway', aggfunc=np.sum).fillna(0)\n",
    "paxPerWeek.reset_index(inplace=True)\n",
    "paxPerWeek = paxPerWeek.rename(columns={'arrival':'AdultsArr','departure':'AdultsDep'})\n",
    "\n",
    "# Merge these values with the modelling dataset\n",
    "modeling_df = modeling_df.merge(right=paxPerWeek, how='left', on=['year','week'])\n",
    "\n",
    "# Get the sum of children per week for arrivals/departures\n",
    "paxPerWeek = aggregate_df_done.pivot_table(values='children' ,index=['year','week'], columns='whichway', aggfunc=np.sum).fillna(0)\n",
    "paxPerWeek.reset_index(inplace=True)\n",
    "paxPerWeek = paxPerWeek.rename(columns={'arrival':'ChildrenArr','departure':'ChildrenDep'})\n",
    "\n",
    "# Merge these values with the modelling dataset\n",
    "modeling_df = modeling_df.merge(right=paxPerWeek, how='left', on=['year','week'])\n",
    "\n",
    "# Get the sum of babies per week arrivals/departures\n",
    "paxPerWeek = aggregate_df_done.pivot_table(values='babies' ,index=['year','week'], columns='whichway', aggfunc=np.sum).fillna(0)\n",
    "paxPerWeek.reset_index(inplace=True)\n",
    "paxPerWeek = paxPerWeek.rename(columns={'arrival':'BabiesArr','departure':'BabiesDep'})\n",
    "\n",
    "# Merge these values with the modelling dataset\n",
    "modeling_df = modeling_df.merge(right=paxPerWeek, how='left', on=['year','week'])\n",
    "\n",
    "\n",
    "# Get the sum of serviceDistance per week for arrivals/departures\n",
    "distancePerWeek = aggregate_df_done.pivot_table(values='serviceDistance' ,index=['year','week'], columns='whichway', aggfunc=np.sum).fillna(0)\n",
    "distancePerWeek.reset_index(inplace=True)\n",
    "distancePerWeek = distancePerWeek.rename(columns={'arrival':'DistArr','departure':'DistDep'})\n",
    "\n",
    "# Merge these values with the modelling dataset\n",
    "modeling_df = modeling_df.merge(right=distancePerWeek, how='left', on=['year','week'])\n",
    "\n",
    "# Get the sum of 8WeeksLead per week and for arrivals/departures\n",
    "WeeksLeadPerWeek = aggregate_df_done.pivot_table(values='8WeeksLead' ,index=['year','week'], columns='whichway', aggfunc=np.sum).fillna(0)\n",
    "WeeksLeadPerWeek.reset_index(inplace=True)\n",
    "WeeksLeadPerWeek = WeeksLeadPerWeek.rename(columns={'arrival':'WeeksLeadArr','departure':'WeeksLeadDep'})\n",
    "\n",
    "# Merge these values with the modelling dataset\n",
    "modeling_df = modeling_df.merge(right=WeeksLeadPerWeek, how='left', on=['year','week'])\n",
    "\n",
    "# Get the sum of lowCostAir per week for arrivals/departures\n",
    "lowCostAirPerWeek = aggregate_df_done.pivot_table(values='lowCostAir' ,index=['year','week'], columns='whichway', aggfunc=np.sum).fillna(0)\n",
    "lowCostAirPerWeek.reset_index(inplace=True)\n",
    "lowCostAirPerWeek = lowCostAirPerWeek.rename(columns={'arrival':'lowCostAirArr','departure':'lowCostAirDep'})\n",
    "\n",
    "# Merge these values with the modelling dataset\n",
    "modeling_df = modeling_df.merge(right=lowCostAirPerWeek, how='left', on=['year','week'])\n",
    "\n",
    "# Get the average leadTimeDays per week for arrivals/departures\n",
    "leadtimePerWeek = aggregate_df_done.pivot_table(values='leadtimeDays' ,index=['year','week'], columns='whichway', aggfunc=np.mean).fillna(0)\n",
    "leadtimePerWeek.reset_index(inplace=True)\n",
    "leadtimePerWeek = leadtimePerWeek.rename(columns={'arrival':'avgLeadArr','departure':'avgLeadDep'})\n",
    "\n",
    "# Merge these values with the modelling dataset\n",
    "modeling_df = modeling_df.merge(right=leadtimePerWeek, how='left', on=['year','week'])\n",
    "\n",
    "# Get the number of unique Drivers per week\n",
    "uniqueDriversPerWeek = aggregate_df_done.pivot_table(values='driverID' ,index=['year','week'], aggfunc=pd.Series.nunique).fillna(0)\n",
    "uniqueDriversPerWeek.reset_index(inplace=True)\n",
    "uniqueDriversPerWeek = uniqueDriversPerWeek.rename(columns={'driverID':'drivers'})\n",
    "\n",
    "# Merge these values with the modelling dataset\n",
    "modeling_df = modeling_df.merge(right=uniqueDriversPerWeek, how='left', on=['year','week'])\n",
    "\n",
    "# Get the number of unique Vehicles per week\n",
    "uniqueVehiclesPerWeek = aggregate_df_done.pivot_table(values='vehicleID' ,index=['year','week'], aggfunc=pd.Series.nunique).fillna(0)\n",
    "uniqueVehiclesPerWeek.reset_index(inplace=True)\n",
    "uniqueVehiclesPerWeek = uniqueVehiclesPerWeek.rename(columns={'vehicleID':'vehicles'})\n",
    "\n",
    "# Merge these values with the modelling dataset\n",
    "modeling_df = modeling_df.merge(right=uniqueVehiclesPerWeek, how='left', on=['year','week'])\n",
    "\n",
    "# Get the number of unique Customers per week\n",
    "uniqueCustomersPerWeek = aggregate_df_done.pivot_table(values='customerID' ,index=['year','week'], aggfunc=pd.Series.nunique).fillna(0)\n",
    "uniqueCustomersPerWeek.reset_index(inplace=True)\n",
    "uniqueCustomersPerWeek = uniqueCustomersPerWeek.rename(columns={'customerID':'customers'})\n",
    "\n",
    "# Merge these values with the modelling dataset\n",
    "modeling_df = modeling_df.merge(right=uniqueCustomersPerWeek, how='left', on=['year','week'])\n",
    "\n",
    "# Get the whichway/services sum per week\n",
    "whichwaySumPerWeek = aggregate_df_done.groupby(by=['year','week','whichway']).size().reset_index(name='services')\n",
    "whichwaySumPerWeek = whichwaySumPerWeek.pivot_table(values='services', columns='whichway',index=['year','week'], aggfunc=np.sum).fillna(0)\n",
    "whichwaySumPerWeek.reset_index(inplace=True)\n",
    "whichwaySumPerWeek = whichwaySumPerWeek.rename(columns={'arrival':'arrivalsSum', 'departure':'departuresSum'})\n",
    "\n",
    "# Merge these values with the modelling dataset\n",
    "modeling_df = modeling_df.merge(right=whichwaySumPerWeek, how='left', on=['year','week'])\n",
    "\n",
    "#Get the paymentType/services sum per week and paymentType\n",
    "paymentTypeSumPerWeek = aggregate_df_done.groupby(by=['year','week','paymentType']).size().reset_index(name='services')\n",
    "paymentTypeSumPerWeek = paymentTypeSumPerWeek.pivot_table(values='services', columns='paymentType',index=['year','week'], aggfunc=np.sum).fillna(0)\n",
    "paymentTypeSumPerWeek.reset_index(inplace=True)\n",
    "paymentTypeSumPerWeek = paymentTypeSumPerWeek.rename(columns={'Cash':'cashSum',\n",
    "                                                                  'C.Card':'cCardSum',\n",
    "                                                                  'B.Transfer':'bTransferSum',\n",
    "                                                                  'Op.Collected':'opCollSum',\n",
    "                                                                  'PayPal':'paypalSum',\n",
    "                                                                  'B.Transfer+Cash':'transfer+cashSum',\n",
    "                                                                  'C.Card+Cash':'card+cashSum',\n",
    "                                                                  'Other':'otherPaySum'\n",
    "                                                                 })\n",
    "\n",
    "# Merge these values with the modelling dataset\n",
    "modeling_df = modeling_df.merge(right=paymentTypeSumPerWeek, how='left', on=['year','week'])\n",
    "\n",
    "# Checking the unique types of service\n",
    "aggregate_df_done['typeOfService'].unique()\n",
    "\n",
    "# Get the typeOfService/services sum per week and service type\n",
    "typeOfServiceSumPerWeek = aggregate_df_done.groupby(by=['year','week','typeOfService']).size().reset_index(name='services')\n",
    "typeOfServiceSumPerWeek = typeOfServiceSumPerWeek.pivot_table(values='services', columns='typeOfService',index=['year','week'], aggfunc=np.sum).fillna(0)\n",
    "typeOfServiceSumPerWeek.reset_index(inplace=True)\n",
    "typeOfServiceSumPerWeek = typeOfServiceSumPerWeek.rename(columns={'RAL':'ralSum',\n",
    "                                                                  'OLA':'olaSum',\n",
    "                                                                  'OAL':'oalSum',\n",
    "                                                                  'OLL':'ollSum',\n",
    "                                                                  'RLL':'rllSum',\n",
    "                                                                  'GOF':'gofSum',\n",
    "                                                                  'RLA':'rlaSum'\n",
    "                                                                 })\n",
    "\n",
    "# Merge these values with the modelling dataset\n",
    "modeling_df = modeling_df.merge(right=typeOfServiceSumPerWeek, how='left', on=['year','week'])"
   ]
  },
  {
   "cell_type": "markdown",
   "metadata": {},
   "source": [
    "#### Bringing features from clients dataset:"
   ]
  },
  {
   "cell_type": "code",
   "execution_count": 59,
   "metadata": {},
   "outputs": [],
   "source": [
    "#Get frequent customers from customers file and create a binary column in aggregate_df_done\n",
    "frequent = customers[customers['services']>=10]['customerID']\n",
    "aggregate_df_done['frequent'] = aggregate_df_done['customerID'].isin(frequent)\n",
    "\n",
    "# Get the sum of services per week booked by frequent clients\n",
    "frequentSumPerWeek = aggregate_df_done.groupby(by=['year','week','frequent']).size().reset_index(name='freq')\n",
    "frequentSumPerWeek = frequentSumPerWeek.pivot_table(values='freq', columns='frequent',index=['year','week'], aggfunc=np.sum).fillna(0)\n",
    "frequentSumPerWeek.reset_index(inplace=True)\n",
    "frequentSumPerWeek = frequentSumPerWeek.rename(columns={False:'FreqFalseSum', True:'FreqTrueSum'})\n",
    "frequentSumPerWeek.drop('FreqFalseSum',inplace=True,axis=1)\n",
    "\n",
    "# Merge these values with the modelling dataset\n",
    "modeling_df = modeling_df.merge(right=frequentSumPerWeek, how='left', on=['year','week'])"
   ]
  },
  {
   "cell_type": "markdown",
   "metadata": {},
   "source": [
    "<div class=\"alert alert-block alert-info\">\n",
    "    \n",
    "**The following code until the end of this section is dedicated to exploring unusual time patterns to be aware of in order to get accurate forecasting:**\n",
    "\n",
    "</div>"
   ]
  },
  {
   "cell_type": "code",
   "execution_count": 61,
   "metadata": {},
   "outputs": [],
   "source": [
    "#calculate yearly variances per week to explore the services trend over time and find weeks off pattern\n",
    "modeling_df['week'] = modeling_df['week'].astype(int)\n",
    "variance = modeling_df.pivot(index='week', columns='year', values='services')\n",
    "variance.columns = ['2016','2017','2018','2019']\n",
    "variance.index.name = None\n",
    "variance[' variance 2017-16'] = variance['2017']-variance['2016']\n",
    "variance[' variance 2018-17'] = variance['2018']-variance['2017']\n",
    "variance[' variance 2019-18'] = variance['2019']-variance['2018']\n",
    "#variance.to_csv('variance.csv',index=True)"
   ]
  },
  {
   "cell_type": "code",
   "execution_count": 62,
   "metadata": {},
   "outputs": [
    {
     "data": {
      "text/html": [
       "<div>\n",
       "<style scoped>\n",
       "    .dataframe tbody tr th:only-of-type {\n",
       "        vertical-align: middle;\n",
       "    }\n",
       "\n",
       "    .dataframe tbody tr th {\n",
       "        vertical-align: top;\n",
       "    }\n",
       "\n",
       "    .dataframe thead th {\n",
       "        text-align: right;\n",
       "    }\n",
       "</style>\n",
       "<table border=\"1\" class=\"dataframe\">\n",
       "  <thead>\n",
       "    <tr style=\"text-align: right;\">\n",
       "      <th></th>\n",
       "      <th>2016</th>\n",
       "      <th>2017</th>\n",
       "      <th>2018</th>\n",
       "      <th>2019</th>\n",
       "      <th>variance 2017-16</th>\n",
       "      <th>variance 2018-17</th>\n",
       "      <th>variance 2019-18</th>\n",
       "    </tr>\n",
       "  </thead>\n",
       "  <tbody>\n",
       "    <tr>\n",
       "      <th>count</th>\n",
       "      <td>53.000000</td>\n",
       "      <td>52.000000</td>\n",
       "      <td>52.000000</td>\n",
       "      <td>49.000000</td>\n",
       "      <td>52.000000</td>\n",
       "      <td>52.000000</td>\n",
       "      <td>49.000000</td>\n",
       "    </tr>\n",
       "    <tr>\n",
       "      <th>mean</th>\n",
       "      <td>1281.283019</td>\n",
       "      <td>1339.288462</td>\n",
       "      <td>1313.192308</td>\n",
       "      <td>1558.285714</td>\n",
       "      <td>35.769231</td>\n",
       "      <td>-26.096154</td>\n",
       "      <td>186.122449</td>\n",
       "    </tr>\n",
       "    <tr>\n",
       "      <th>std</th>\n",
       "      <td>882.942771</td>\n",
       "      <td>873.869002</td>\n",
       "      <td>883.357766</td>\n",
       "      <td>1038.205784</td>\n",
       "      <td>183.252062</td>\n",
       "      <td>249.968881</td>\n",
       "      <td>525.862967</td>\n",
       "    </tr>\n",
       "    <tr>\n",
       "      <th>min</th>\n",
       "      <td>125.000000</td>\n",
       "      <td>176.000000</td>\n",
       "      <td>199.000000</td>\n",
       "      <td>30.000000</td>\n",
       "      <td>-313.000000</td>\n",
       "      <td>-485.000000</td>\n",
       "      <td>-1415.000000</td>\n",
       "    </tr>\n",
       "    <tr>\n",
       "      <th>25%</th>\n",
       "      <td>362.000000</td>\n",
       "      <td>409.250000</td>\n",
       "      <td>355.000000</td>\n",
       "      <td>552.000000</td>\n",
       "      <td>-114.000000</td>\n",
       "      <td>-183.250000</td>\n",
       "      <td>1.000000</td>\n",
       "    </tr>\n",
       "    <tr>\n",
       "      <th>50%</th>\n",
       "      <td>1199.000000</td>\n",
       "      <td>1521.500000</td>\n",
       "      <td>1342.500000</td>\n",
       "      <td>1537.000000</td>\n",
       "      <td>33.000000</td>\n",
       "      <td>-69.500000</td>\n",
       "      <td>213.000000</td>\n",
       "    </tr>\n",
       "    <tr>\n",
       "      <th>75%</th>\n",
       "      <td>2218.000000</td>\n",
       "      <td>2242.500000</td>\n",
       "      <td>2184.750000</td>\n",
       "      <td>2748.000000</td>\n",
       "      <td>165.500000</td>\n",
       "      <td>134.250000</td>\n",
       "      <td>478.000000</td>\n",
       "    </tr>\n",
       "    <tr>\n",
       "      <th>max</th>\n",
       "      <td>2446.000000</td>\n",
       "      <td>2399.000000</td>\n",
       "      <td>2692.000000</td>\n",
       "      <td>2996.000000</td>\n",
       "      <td>528.000000</td>\n",
       "      <td>502.000000</td>\n",
       "      <td>1178.000000</td>\n",
       "    </tr>\n",
       "  </tbody>\n",
       "</table>\n",
       "</div>"
      ],
      "text/plain": [
       "              2016         2017         2018         2019   variance 2017-16  \\\n",
       "count    53.000000    52.000000    52.000000    49.000000          52.000000   \n",
       "mean   1281.283019  1339.288462  1313.192308  1558.285714          35.769231   \n",
       "std     882.942771   873.869002   883.357766  1038.205784         183.252062   \n",
       "min     125.000000   176.000000   199.000000    30.000000        -313.000000   \n",
       "25%     362.000000   409.250000   355.000000   552.000000        -114.000000   \n",
       "50%    1199.000000  1521.500000  1342.500000  1537.000000          33.000000   \n",
       "75%    2218.000000  2242.500000  2184.750000  2748.000000         165.500000   \n",
       "max    2446.000000  2399.000000  2692.000000  2996.000000         528.000000   \n",
       "\n",
       "        variance 2018-17   variance 2019-18  \n",
       "count          52.000000          49.000000  \n",
       "mean          -26.096154         186.122449  \n",
       "std           249.968881         525.862967  \n",
       "min          -485.000000       -1415.000000  \n",
       "25%          -183.250000           1.000000  \n",
       "50%           -69.500000         213.000000  \n",
       "75%           134.250000         478.000000  \n",
       "max           502.000000        1178.000000  "
      ]
     },
     "execution_count": 62,
     "metadata": {},
     "output_type": "execute_result"
    }
   ],
   "source": [
    "#2019 year shows very large variance, with a large drop in services and large increase\n",
    "variance.describe()"
   ]
  },
  {
   "cell_type": "code",
   "execution_count": 63,
   "metadata": {},
   "outputs": [
    {
     "data": {
      "text/plain": [
       "<matplotlib.legend.Legend at 0x1d18f79b198>"
      ]
     },
     "execution_count": 63,
     "metadata": {},
     "output_type": "execute_result"
    },
    {
     "data": {
      "image/png": "[encoded data removed]",
      "text/plain": [
       "<Figure size 1440x504 with 1 Axes>"
      ]
     },
     "metadata": {
      "needs_background": "light"
     },
     "output_type": "display_data"
    }
   ],
   "source": [
    "# Plot count of services time series\n",
    "plt.figure(figsize=(20,7))\n",
    "plt.plot( variance['2016'], marker='', color='skyblue', linewidth=2,label='2016')\n",
    "plt.plot( variance['2017'], marker='', color='olive', linewidth=2,label='2017')\n",
    "plt.plot( variance['2018'], marker='', color='orange', linewidth=2,label='2018')\n",
    "plt.plot( variance['2019'], marker='', color='red', linewidth=2,label='2019')\n",
    "plt.grid(which='both')\n",
    "plt.legend()"
   ]
  },
  {
   "cell_type": "code",
   "execution_count": 65,
   "metadata": {},
   "outputs": [],
   "source": [
    "# Creating two variables to mark Brexit and Thomas Cook bankruptcy periods\n",
    "# Brexit : 'brexit' : weeks 19-22, 2019\n",
    "# Thomas Cook : 'thomasCook' : weeks 37-40, 2019\n",
    "modeling_df['brexit'] = modeling_df.apply(lambda x: 1 if ((19 <= x.week <= 22) & (x.year=='2019')) else 0, axis=1)\n",
    "modeling_df['thomasCook'] = modeling_df.apply(lambda x: 1 if ((37 <= x.week <= 40) & (x.year=='2019')) else 0, axis=1)"
   ]
  },
  {
   "cell_type": "markdown",
   "metadata": {},
   "source": [
    "# 4. Feature selection"
   ]
  },
  {
   "cell_type": "code",
   "execution_count": 68,
   "metadata": {},
   "outputs": [
    {
     "data": {
      "text/plain": [
       "(206, 40)"
      ]
     },
     "execution_count": 68,
     "metadata": {},
     "output_type": "execute_result"
    }
   ],
   "source": [
    "# Current shape of modelling_df\n",
    "modeling_df.shape"
   ]
  },
  {
   "cell_type": "code",
   "execution_count": 69,
   "metadata": {},
   "outputs": [
    {
     "data": {
      "image/png": "[encoded data removed]",
      "text/plain": [
       "<Figure size 1440x4320 with 39 Axes>"
      ]
     },
     "metadata": {
      "needs_background": "light"
     },
     "output_type": "display_data"
    }
   ],
   "source": [
    "# Checking for outliers\n",
    "# Boxplots on all numeric variables\n",
    "numerical=modeling_df.select_dtypes(include=[np.number])\n",
    "numerical = [col for col in numerical.columns]\n",
    "\n",
    "plt_box(modeling_df[numerical])"
   ]
  },
  {
   "cell_type": "code",
   "execution_count": 71,
   "metadata": {},
   "outputs": [
    {
     "data": {
      "text/plain": [
       "Index(['year', 'week', 'services', 'AdultsArr', 'AdultsDep', 'ChildrenArr',\n",
       "       'ChildrenDep', 'BabiesArr', 'BabiesDep', 'DistArr', 'DistDep',\n",
       "       'WeeksLeadArr', 'WeeksLeadDep', 'lowCostAirArr', 'lowCostAirDep',\n",
       "       'avgLeadArr', 'avgLeadDep', 'drivers', 'vehicles', 'customers',\n",
       "       'arrivalsSum', 'departuresSum', 'bTransferSum', 'transfer+cashSum',\n",
       "       'cCardSum', 'card+cashSum', 'cashSum', 'opCollSum', 'otherPaySum',\n",
       "       'paypalSum', 'gofSum', 'oalSum', 'olaSum', 'ollSum', 'ralSum', 'rlaSum',\n",
       "       'rllSum', 'FreqTrueSum', 'brexit', 'thomasCook'],\n",
       "      dtype='object')"
      ]
     },
     "execution_count": 71,
     "metadata": {},
     "output_type": "execute_result"
    }
   ],
   "source": [
    "# Checking the current columns\n",
    "modeling_df.columns"
   ]
  },
  {
   "cell_type": "markdown",
   "metadata": {},
   "source": [
    "#### Finding outliers to remove\n",
    "\n",
    "Due to the skewed distributions we are excluding variables related to the paymentType and serviceType from the IQR based outlier removal. Using the IQR, in these cases, leads to cutting a huge amount of data. Their variances (probably low) will whether they will be used or not in the model. If needed, manual outlier removal will be performed.\n",
    "\n",
    "Also the binary variables should not be included in the outlier removal. Again, their variance will be later evaluated."
   ]
  },
  {
   "cell_type": "code",
   "execution_count": 74,
   "metadata": {},
   "outputs": [
    {
     "name": "stdout",
     "output_type": "stream",
     "text": [
      "services\n",
      "Percentiles: 25th=406.500, 75th=2268.750, IQR=1862.250\n",
      "Identified outliers: 0\n",
      "AdultsArr\n",
      "Percentiles: 25th=39.000, 75th=601.750, IQR=562.750\n",
      "Identified outliers: 0\n",
      "AdultsDep\n",
      "Percentiles: 25th=52.750, 75th=634.250, IQR=581.500\n",
      "Identified outliers: 0\n",
      "ChildrenArr\n",
      "Percentiles: 25th=1.250, 75th=57.750, IQR=56.500\n",
      "Identified outliers: 1\n",
      "ChildrenDep\n",
      "Percentiles: 25th=1.250, 75th=64.250, IQR=63.000\n",
      "Identified outliers: 0\n",
      "BabiesArr\n",
      "Percentiles: 25th=0.000, 75th=21.000, IQR=21.000\n",
      "Identified outliers: 0\n",
      "BabiesDep\n",
      "Percentiles: 25th=0.000, 75th=23.750, IQR=23.750\n",
      "Identified outliers: 0\n",
      "DistArr\n",
      "Percentiles: 25th=461.391, 75th=5700.789, IQR=5239.398\n",
      "Identified outliers: 0\n",
      "DistDep\n",
      "Percentiles: 25th=621.584, 75th=6210.507, IQR=5588.923\n",
      "Identified outliers: 0\n",
      "WeeksLeadArr\n",
      "Percentiles: 25th=15.000, 75th=161.750, IQR=146.750\n",
      "Identified outliers: 0\n",
      "WeeksLeadDep\n",
      "Percentiles: 25th=20.000, 75th=180.000, IQR=160.000\n",
      "Identified outliers: 0\n",
      "avgLeadArr\n",
      "Percentiles: 25th=97.629, 75th=128.196, IQR=30.567\n",
      "Identified outliers: 6\n",
      "avgLeadDep\n",
      "Percentiles: 25th=96.251, 75th=123.255, IQR=27.004\n",
      "Identified outliers: 7\n",
      "drivers\n",
      "Percentiles: 25th=16.250, 75th=72.000, IQR=55.750\n",
      "Identified outliers: 0\n",
      "vehicles\n",
      "Percentiles: 25th=16.250, 75th=66.000, IQR=49.750\n",
      "Identified outliers: 0\n",
      "customers\n",
      "Percentiles: 25th=31.250, 75th=301.750, IQR=270.500\n",
      "Identified outliers: 0\n",
      "arrivalsSum\n",
      "Percentiles: 25th=15.000, 75th=161.750, IQR=146.750\n",
      "Identified outliers: 0\n",
      "departuresSum\n",
      "Percentiles: 25th=20.000, 75th=180.000, IQR=160.000\n",
      "Identified outliers: 0\n",
      "FreqTrueSum\n",
      "Percentiles: 25th=1.000, 75th=7.000, IQR=6.000\n",
      "Identified outliers: 0\n"
     ]
    }
   ],
   "source": [
    "# Features to check for outliers\n",
    "features = ['services', 'AdultsArr', 'AdultsDep', 'ChildrenArr', 'ChildrenDep', 'BabiesArr',\n",
    "            'BabiesDep', 'DistArr', 'DistDep', 'WeeksLeadArr', 'WeeksLeadDep', 'avgLeadArr',\n",
    "            'avgLeadDep', 'drivers', 'vehicles', 'customers', 'arrivalsSum', 'departuresSum',\n",
    "            'FreqTrueSum']\n",
    "\n",
    "# Selecting 3 IQR to remove the most extreme outliers\n",
    "outliers_index = removeOutliers(modeling_df, 3, features)"
   ]
  },
  {
   "cell_type": "code",
   "execution_count": 73,
   "metadata": {},
   "outputs": [
    {
     "data": {
      "text/html": [
       "<div>\n",
       "<style scoped>\n",
       "    .dataframe tbody tr th:only-of-type {\n",
       "        vertical-align: middle;\n",
       "    }\n",
       "\n",
       "    .dataframe tbody tr th {\n",
       "        vertical-align: top;\n",
       "    }\n",
       "\n",
       "    .dataframe thead th {\n",
       "        text-align: right;\n",
       "    }\n",
       "</style>\n",
       "<table border=\"1\" class=\"dataframe\">\n",
       "  <thead>\n",
       "    <tr style=\"text-align: right;\">\n",
       "      <th></th>\n",
       "      <th>year</th>\n",
       "      <th>week</th>\n",
       "      <th>services</th>\n",
       "      <th>AdultsArr</th>\n",
       "      <th>AdultsDep</th>\n",
       "      <th>ChildrenArr</th>\n",
       "      <th>ChildrenDep</th>\n",
       "      <th>BabiesArr</th>\n",
       "      <th>BabiesDep</th>\n",
       "      <th>DistArr</th>\n",
       "      <th>DistDep</th>\n",
       "      <th>WeeksLeadArr</th>\n",
       "      <th>WeeksLeadDep</th>\n",
       "      <th>lowCostAirArr</th>\n",
       "      <th>lowCostAirDep</th>\n",
       "      <th>avgLeadArr</th>\n",
       "      <th>avgLeadDep</th>\n",
       "      <th>drivers</th>\n",
       "      <th>vehicles</th>\n",
       "      <th>customers</th>\n",
       "      <th>arrivalsSum</th>\n",
       "      <th>departuresSum</th>\n",
       "      <th>bTransferSum</th>\n",
       "      <th>transfer+cashSum</th>\n",
       "      <th>cCardSum</th>\n",
       "      <th>card+cashSum</th>\n",
       "      <th>cashSum</th>\n",
       "      <th>opCollSum</th>\n",
       "      <th>otherPaySum</th>\n",
       "      <th>paypalSum</th>\n",
       "      <th>gofSum</th>\n",
       "      <th>oalSum</th>\n",
       "      <th>olaSum</th>\n",
       "      <th>ollSum</th>\n",
       "      <th>ralSum</th>\n",
       "      <th>rlaSum</th>\n",
       "      <th>rllSum</th>\n",
       "      <th>FreqTrueSum</th>\n",
       "      <th>brexit</th>\n",
       "      <th>thomasCook</th>\n",
       "    </tr>\n",
       "  </thead>\n",
       "  <tbody>\n",
       "    <tr>\n",
       "      <th>0</th>\n",
       "      <td>2016</td>\n",
       "      <td>1</td>\n",
       "      <td>225</td>\n",
       "      <td>26.0</td>\n",
       "      <td>50.0</td>\n",
       "      <td>2.0</td>\n",
       "      <td>6.0</td>\n",
       "      <td>0.0</td>\n",
       "      <td>0.0</td>\n",
       "      <td>255.980103</td>\n",
       "      <td>422.959417</td>\n",
       "      <td>8.0</td>\n",
       "      <td>17.0</td>\n",
       "      <td>7.0</td>\n",
       "      <td>10.0</td>\n",
       "      <td>73.625000</td>\n",
       "      <td>100.176471</td>\n",
       "      <td>14</td>\n",
       "      <td>15</td>\n",
       "      <td>25</td>\n",
       "      <td>8.0</td>\n",
       "      <td>17.0</td>\n",
       "      <td>3.0</td>\n",
       "      <td>0.0</td>\n",
       "      <td>1.0</td>\n",
       "      <td>0.0</td>\n",
       "      <td>21.0</td>\n",
       "      <td>0.0</td>\n",
       "      <td>0.0</td>\n",
       "      <td>0.0</td>\n",
       "      <td>0.0</td>\n",
       "      <td>1.0</td>\n",
       "      <td>0.0</td>\n",
       "      <td>0.0</td>\n",
       "      <td>24.0</td>\n",
       "      <td>0.0</td>\n",
       "      <td>0.0</td>\n",
       "      <td>1.0</td>\n",
       "      <td>0</td>\n",
       "      <td>0</td>\n",
       "    </tr>\n",
       "    <tr>\n",
       "      <th>1</th>\n",
       "      <td>2016</td>\n",
       "      <td>10</td>\n",
       "      <td>304</td>\n",
       "      <td>32.0</td>\n",
       "      <td>79.0</td>\n",
       "      <td>0.0</td>\n",
       "      <td>0.0</td>\n",
       "      <td>0.0</td>\n",
       "      <td>0.0</td>\n",
       "      <td>341.352929</td>\n",
       "      <td>884.757699</td>\n",
       "      <td>12.0</td>\n",
       "      <td>32.0</td>\n",
       "      <td>8.0</td>\n",
       "      <td>25.0</td>\n",
       "      <td>88.583333</td>\n",
       "      <td>96.250000</td>\n",
       "      <td>19</td>\n",
       "      <td>23</td>\n",
       "      <td>41</td>\n",
       "      <td>12.0</td>\n",
       "      <td>32.0</td>\n",
       "      <td>4.0</td>\n",
       "      <td>0.0</td>\n",
       "      <td>1.0</td>\n",
       "      <td>0.0</td>\n",
       "      <td>34.0</td>\n",
       "      <td>2.0</td>\n",
       "      <td>0.0</td>\n",
       "      <td>3.0</td>\n",
       "      <td>0.0</td>\n",
       "      <td>1.0</td>\n",
       "      <td>1.0</td>\n",
       "      <td>0.0</td>\n",
       "      <td>42.0</td>\n",
       "      <td>0.0</td>\n",
       "      <td>0.0</td>\n",
       "      <td>0.0</td>\n",
       "      <td>0</td>\n",
       "      <td>0</td>\n",
       "    </tr>\n",
       "    <tr>\n",
       "      <th>2</th>\n",
       "      <td>2016</td>\n",
       "      <td>11</td>\n",
       "      <td>430</td>\n",
       "      <td>96.0</td>\n",
       "      <td>77.0</td>\n",
       "      <td>0.0</td>\n",
       "      <td>1.0</td>\n",
       "      <td>2.0</td>\n",
       "      <td>0.0</td>\n",
       "      <td>930.388217</td>\n",
       "      <td>904.653558</td>\n",
       "      <td>30.0</td>\n",
       "      <td>31.0</td>\n",
       "      <td>23.0</td>\n",
       "      <td>23.0</td>\n",
       "      <td>76.600000</td>\n",
       "      <td>78.838710</td>\n",
       "      <td>22</td>\n",
       "      <td>23</td>\n",
       "      <td>53</td>\n",
       "      <td>30.0</td>\n",
       "      <td>31.0</td>\n",
       "      <td>7.0</td>\n",
       "      <td>0.0</td>\n",
       "      <td>1.0</td>\n",
       "      <td>0.0</td>\n",
       "      <td>44.0</td>\n",
       "      <td>5.0</td>\n",
       "      <td>0.0</td>\n",
       "      <td>4.0</td>\n",
       "      <td>0.0</td>\n",
       "      <td>3.0</td>\n",
       "      <td>0.0</td>\n",
       "      <td>0.0</td>\n",
       "      <td>56.0</td>\n",
       "      <td>0.0</td>\n",
       "      <td>2.0</td>\n",
       "      <td>0.0</td>\n",
       "      <td>0</td>\n",
       "      <td>0</td>\n",
       "    </tr>\n",
       "    <tr>\n",
       "      <th>3</th>\n",
       "      <td>2016</td>\n",
       "      <td>12</td>\n",
       "      <td>754</td>\n",
       "      <td>131.0</td>\n",
       "      <td>95.0</td>\n",
       "      <td>22.0</td>\n",
       "      <td>0.0</td>\n",
       "      <td>6.0</td>\n",
       "      <td>2.0</td>\n",
       "      <td>1108.723988</td>\n",
       "      <td>1069.422297</td>\n",
       "      <td>42.0</td>\n",
       "      <td>38.0</td>\n",
       "      <td>35.0</td>\n",
       "      <td>28.0</td>\n",
       "      <td>84.809524</td>\n",
       "      <td>85.552632</td>\n",
       "      <td>25</td>\n",
       "      <td>26</td>\n",
       "      <td>70</td>\n",
       "      <td>42.0</td>\n",
       "      <td>38.0</td>\n",
       "      <td>9.0</td>\n",
       "      <td>0.0</td>\n",
       "      <td>3.0</td>\n",
       "      <td>0.0</td>\n",
       "      <td>54.0</td>\n",
       "      <td>9.0</td>\n",
       "      <td>0.0</td>\n",
       "      <td>5.0</td>\n",
       "      <td>0.0</td>\n",
       "      <td>1.0</td>\n",
       "      <td>1.0</td>\n",
       "      <td>0.0</td>\n",
       "      <td>78.0</td>\n",
       "      <td>0.0</td>\n",
       "      <td>0.0</td>\n",
       "      <td>3.0</td>\n",
       "      <td>0</td>\n",
       "      <td>0</td>\n",
       "    </tr>\n",
       "    <tr>\n",
       "      <th>4</th>\n",
       "      <td>2016</td>\n",
       "      <td>13</td>\n",
       "      <td>1072</td>\n",
       "      <td>189.0</td>\n",
       "      <td>234.0</td>\n",
       "      <td>40.0</td>\n",
       "      <td>27.0</td>\n",
       "      <td>8.0</td>\n",
       "      <td>7.0</td>\n",
       "      <td>1435.034400</td>\n",
       "      <td>1941.094078</td>\n",
       "      <td>53.0</td>\n",
       "      <td>73.0</td>\n",
       "      <td>39.0</td>\n",
       "      <td>56.0</td>\n",
       "      <td>99.622642</td>\n",
       "      <td>88.191781</td>\n",
       "      <td>35</td>\n",
       "      <td>34</td>\n",
       "      <td>102</td>\n",
       "      <td>53.0</td>\n",
       "      <td>73.0</td>\n",
       "      <td>12.0</td>\n",
       "      <td>0.0</td>\n",
       "      <td>9.0</td>\n",
       "      <td>0.0</td>\n",
       "      <td>81.0</td>\n",
       "      <td>16.0</td>\n",
       "      <td>0.0</td>\n",
       "      <td>8.0</td>\n",
       "      <td>0.0</td>\n",
       "      <td>3.0</td>\n",
       "      <td>1.0</td>\n",
       "      <td>0.0</td>\n",
       "      <td>118.0</td>\n",
       "      <td>0.0</td>\n",
       "      <td>4.0</td>\n",
       "      <td>2.0</td>\n",
       "      <td>0</td>\n",
       "      <td>0</td>\n",
       "    </tr>\n",
       "  </tbody>\n",
       "</table>\n",
       "</div>"
      ],
      "text/plain": [
       "   year  week  services  AdultsArr  AdultsDep  ChildrenArr  ChildrenDep  \\\n",
       "0  2016     1       225       26.0       50.0          2.0          6.0   \n",
       "1  2016    10       304       32.0       79.0          0.0          0.0   \n",
       "2  2016    11       430       96.0       77.0          0.0          1.0   \n",
       "3  2016    12       754      131.0       95.0         22.0          0.0   \n",
       "4  2016    13      1072      189.0      234.0         40.0         27.0   \n",
       "\n",
       "   BabiesArr  BabiesDep      DistArr      DistDep  WeeksLeadArr  WeeksLeadDep  \\\n",
       "0        0.0        0.0   255.980103   422.959417           8.0          17.0   \n",
       "1        0.0        0.0   341.352929   884.757699          12.0          32.0   \n",
       "2        2.0        0.0   930.388217   904.653558          30.0          31.0   \n",
       "3        6.0        2.0  1108.723988  1069.422297          42.0          38.0   \n",
       "4        8.0        7.0  1435.034400  1941.094078          53.0          73.0   \n",
       "\n",
       "   lowCostAirArr  lowCostAirDep  avgLeadArr  avgLeadDep  drivers  vehicles  \\\n",
       "0            7.0           10.0   73.625000  100.176471       14        15   \n",
       "1            8.0           25.0   88.583333   96.250000       19        23   \n",
       "2           23.0           23.0   76.600000   78.838710       22        23   \n",
       "3           35.0           28.0   84.809524   85.552632       25        26   \n",
       "4           39.0           56.0   99.622642   88.191781       35        34   \n",
       "\n",
       "   customers  arrivalsSum  departuresSum  bTransferSum  transfer+cashSum  \\\n",
       "0         25          8.0           17.0           3.0               0.0   \n",
       "1         41         12.0           32.0           4.0               0.0   \n",
       "2         53         30.0           31.0           7.0               0.0   \n",
       "3         70         42.0           38.0           9.0               0.0   \n",
       "4        102         53.0           73.0          12.0               0.0   \n",
       "\n",
       "   cCardSum  card+cashSum  cashSum  opCollSum  otherPaySum  paypalSum  gofSum  \\\n",
       "0       1.0           0.0     21.0        0.0          0.0        0.0     0.0   \n",
       "1       1.0           0.0     34.0        2.0          0.0        3.0     0.0   \n",
       "2       1.0           0.0     44.0        5.0          0.0        4.0     0.0   \n",
       "3       3.0           0.0     54.0        9.0          0.0        5.0     0.0   \n",
       "4       9.0           0.0     81.0       16.0          0.0        8.0     0.0   \n",
       "\n",
       "   oalSum  olaSum  ollSum  ralSum  rlaSum  rllSum  FreqTrueSum  brexit  \\\n",
       "0     1.0     0.0     0.0    24.0     0.0     0.0          1.0       0   \n",
       "1     1.0     1.0     0.0    42.0     0.0     0.0          0.0       0   \n",
       "2     3.0     0.0     0.0    56.0     0.0     2.0          0.0       0   \n",
       "3     1.0     1.0     0.0    78.0     0.0     0.0          3.0       0   \n",
       "4     3.0     1.0     0.0   118.0     0.0     4.0          2.0       0   \n",
       "\n",
       "   thomasCook  \n",
       "0           0  \n",
       "1           0  \n",
       "2           0  \n",
       "3           0  \n",
       "4           0  "
      ]
     },
     "execution_count": 73,
     "metadata": {},
     "output_type": "execute_result"
    }
   ],
   "source": [
    "modeling_df.head()"
   ]
  },
  {
   "cell_type": "code",
   "execution_count": 75,
   "metadata": {},
   "outputs": [],
   "source": [
    "# Variable to store the outlier's week and year\n",
    "outlier_year_and_week = modeling_df.iloc[outliers_index].loc[:,['year','week']]"
   ]
  },
  {
   "cell_type": "markdown",
   "metadata": {},
   "source": [
    "### Dropping features based on correlation"
   ]
  },
  {
   "cell_type": "code",
   "execution_count": 77,
   "metadata": {},
   "outputs": [
    {
     "data": {
      "text/plain": [
       "(206, 16)"
      ]
     },
     "execution_count": 77,
     "metadata": {},
     "output_type": "execute_result"
    }
   ],
   "source": [
    "# Choosing the correlation thresold (among independent variables) to be 0.80 in order to avoid multicollinearity.\n",
    "# In pairs with correlation higher than 0.80, we choose to maintain those with higher variance.\n",
    "variables_ = list(modeling_df.columns)\n",
    "indep_variables_ = list(modeling_df[variables_].columns)\n",
    "indep_variables_.remove('services')\n",
    "variances_ = modeling_df[indep_variables_].var().round(2).sort_values(ascending=False)\n",
    "\n",
    "# Get the columns ordered by variance (to ensure that we remove the variable with less variance in each pair)\n",
    "var_order = variances_.index.tolist()\n",
    "\n",
    "# Temporary dataframe with re-ordered independent variables\n",
    "df_ = modeling_df[var_order]\n",
    "\n",
    "# Create correlation matrix\n",
    "corr_matrix = df_.corr().abs()\n",
    "\n",
    "# Select upper triangle of correlation matrix\n",
    "upper = corr_matrix.where(np.triu(np.ones(corr_matrix.shape), k=1).astype(np.bool))\n",
    "\n",
    "# Find features with correlation greater than 0.80\n",
    "to_drop = [column for column in upper.columns if any(upper[column] > 0.80)]\n",
    "to_drop\n",
    "\n",
    "# Drop these features\n",
    "modeling_df.drop(to_drop, axis=1, inplace=True)\n",
    "modeling_df.shape"
   ]
  },
  {
   "cell_type": "markdown",
   "metadata": {},
   "source": [
    "### Dropping features based on variance"
   ]
  },
  {
   "cell_type": "code",
   "execution_count": 78,
   "metadata": {},
   "outputs": [
    {
     "data": {
      "text/plain": [
       "<matplotlib.axes._subplots.AxesSubplot at 0x1d196706be0>"
      ]
     },
     "execution_count": 78,
     "metadata": {},
     "output_type": "execute_result"
    },
    {
     "data": {
      "image/png": "[encoded data removed]",
      "text/plain": [
       "<Figure size 2520x360 with 1 Axes>"
      ]
     },
     "metadata": {
      "needs_background": "light"
     },
     "output_type": "display_data"
    }
   ],
   "source": [
    "# Separating the variables\n",
    "variables = list(modeling_df.columns)\n",
    "indep_variables = list(modeling_df[variables].columns)\n",
    "indep_variables.remove('services')\n",
    "indep_variables.remove('week')\n",
    "indep_variables.remove('year')\n",
    "\n",
    "# Normalize all independent variables to check variance\n",
    "X_array = modeling_df[indep_variables].values # returns a numpy array\n",
    "min_max_scaler = MinMaxScaler()\n",
    "X_scaled = min_max_scaler.fit_transform(X_array)\n",
    "modeling_df[indep_variables] = pd.DataFrame(X_scaled, columns=indep_variables)\n",
    "\n",
    "# Checking the amount of variation of these features\n",
    "variances = modeling_df[indep_variables].var().round(2)\n",
    "\n",
    "# Features with (very) low variance should be dropped, we are setting threshold to 0.02\n",
    "drop_var = variances[variances < 0.02].index.tolist()\n",
    "\n",
    "#dropping these features\n",
    "modeling_df.drop(columns=drop_var, inplace=True)\n",
    "\n",
    "# Visualizing the last 5 feautures with lowest amount of variance per feature\n",
    "variances.sort_values().tail(5).plot.bar(figsize=(35,5))"
   ]
  },
  {
   "cell_type": "code",
   "execution_count": 79,
   "metadata": {},
   "outputs": [],
   "source": [
    "# Make the target variable be the last column\n",
    "modeling_df = modeling_df[[c for c in modeling_df if c not in ['services']]+ ['services']]"
   ]
  },
  {
   "cell_type": "code",
   "execution_count": 80,
   "metadata": {},
   "outputs": [],
   "source": [
    "# Again, separate the dependent and independent variables\n",
    "variables = list(modeling_df.columns)\n",
    "indep_variables = list(modeling_df[variables].columns)\n",
    "indep_variables.remove('services')"
   ]
  },
  {
   "cell_type": "markdown",
   "metadata": {},
   "source": [
    "<div class=\"alert alert-block alert-info\">\n",
    "\n",
    "These is the **final feature set** of modeling dataframe:\n",
    "\n",
    "</div>"
   ]
  },
  {
   "cell_type": "code",
   "execution_count": 81,
   "metadata": {},
   "outputs": [
    {
     "data": {
      "text/plain": [
       "Index(['year', 'week', 'DistArr', 'avgLeadArr', 'bTransferSum',\n",
       "       'transfer+cashSum', 'card+cashSum', 'paypalSum', 'ollSum', 'rlaSum',\n",
       "       'rllSum', 'brexit', 'thomasCook', 'services'],\n",
       "      dtype='object')"
      ]
     },
     "execution_count": 81,
     "metadata": {},
     "output_type": "execute_result"
    }
   ],
   "source": [
    "#final feature set\n",
    "modeling_df.columns"
   ]
  },
  {
   "cell_type": "markdown",
   "metadata": {},
   "source": [
    "# 5. Building the model"
   ]
  },
  {
   "cell_type": "markdown",
   "metadata": {},
   "source": [
    "## 5.1. Splitting the data in training and test sets"
   ]
  },
  {
   "cell_type": "markdown",
   "metadata": {},
   "source": [
    "X contains independent variables and y contains the target variable before scaling. We use as test set the weeks 20 and following of 2019. The train set will include weeks until 12 of 2019."
   ]
  },
  {
   "cell_type": "code",
   "execution_count": 82,
   "metadata": {},
   "outputs": [],
   "source": [
    "modeling_df['week'] = modeling_df['week'].astype(int)\n",
    "modeling_df['year'] = modeling_df['year'].astype(int)\n",
    "modeling_df.sort_values(by=['year','week'],inplace=True)\n",
    "modeling_df.reset_index(drop=True,inplace=True)\n",
    "X = modeling_df.drop(['services'], axis=1)\n",
    "y = modeling_df['services']"
   ]
  },
  {
   "cell_type": "code",
   "execution_count": 85,
   "metadata": {
    "scrolled": true
   },
   "outputs": [
    {
     "data": {
      "text/html": [
       "<div>\n",
       "<style scoped>\n",
       "    .dataframe tbody tr th:only-of-type {\n",
       "        vertical-align: middle;\n",
       "    }\n",
       "\n",
       "    .dataframe tbody tr th {\n",
       "        vertical-align: top;\n",
       "    }\n",
       "\n",
       "    .dataframe thead th {\n",
       "        text-align: right;\n",
       "    }\n",
       "</style>\n",
       "<table border=\"1\" class=\"dataframe\">\n",
       "  <thead>\n",
       "    <tr style=\"text-align: right;\">\n",
       "      <th></th>\n",
       "      <th>year</th>\n",
       "      <th>week</th>\n",
       "      <th>DistArr</th>\n",
       "      <th>avgLeadArr</th>\n",
       "      <th>bTransferSum</th>\n",
       "      <th>transfer+cashSum</th>\n",
       "      <th>card+cashSum</th>\n",
       "      <th>paypalSum</th>\n",
       "      <th>ollSum</th>\n",
       "      <th>rlaSum</th>\n",
       "      <th>rllSum</th>\n",
       "      <th>brexit</th>\n",
       "      <th>thomasCook</th>\n",
       "    </tr>\n",
       "  </thead>\n",
       "  <tbody>\n",
       "    <tr>\n",
       "      <th>203</th>\n",
       "      <td>2019</td>\n",
       "      <td>47</td>\n",
       "      <td>0.008573</td>\n",
       "      <td>0.258953</td>\n",
       "      <td>0.0</td>\n",
       "      <td>0.0</td>\n",
       "      <td>0.0</td>\n",
       "      <td>0.0</td>\n",
       "      <td>0.0</td>\n",
       "      <td>0.0</td>\n",
       "      <td>0.0</td>\n",
       "      <td>0.0</td>\n",
       "      <td>0.0</td>\n",
       "    </tr>\n",
       "    <tr>\n",
       "      <th>204</th>\n",
       "      <td>2019</td>\n",
       "      <td>48</td>\n",
       "      <td>0.009900</td>\n",
       "      <td>0.266529</td>\n",
       "      <td>0.0</td>\n",
       "      <td>0.0</td>\n",
       "      <td>0.0</td>\n",
       "      <td>0.0</td>\n",
       "      <td>0.0</td>\n",
       "      <td>0.0</td>\n",
       "      <td>0.0</td>\n",
       "      <td>0.0</td>\n",
       "      <td>0.0</td>\n",
       "    </tr>\n",
       "    <tr>\n",
       "      <th>205</th>\n",
       "      <td>2019</td>\n",
       "      <td>49</td>\n",
       "      <td>0.000000</td>\n",
       "      <td>0.000000</td>\n",
       "      <td>0.0</td>\n",
       "      <td>0.0</td>\n",
       "      <td>0.0</td>\n",
       "      <td>0.0</td>\n",
       "      <td>0.0</td>\n",
       "      <td>0.0</td>\n",
       "      <td>0.0</td>\n",
       "      <td>0.0</td>\n",
       "      <td>0.0</td>\n",
       "    </tr>\n",
       "  </tbody>\n",
       "</table>\n",
       "</div>"
      ],
      "text/plain": [
       "     year  week   DistArr  avgLeadArr  bTransferSum  transfer+cashSum  \\\n",
       "203  2019    47  0.008573    0.258953           0.0               0.0   \n",
       "204  2019    48  0.009900    0.266529           0.0               0.0   \n",
       "205  2019    49  0.000000    0.000000           0.0               0.0   \n",
       "\n",
       "     card+cashSum  paypalSum  ollSum  rlaSum  rllSum  brexit  thomasCook  \n",
       "203           0.0        0.0     0.0     0.0     0.0     0.0         0.0  \n",
       "204           0.0        0.0     0.0     0.0     0.0     0.0         0.0  \n",
       "205           0.0        0.0     0.0     0.0     0.0     0.0         0.0  "
      ]
     },
     "execution_count": 85,
     "metadata": {},
     "output_type": "execute_result"
    }
   ],
   "source": [
    "X.tail(3)"
   ]
  },
  {
   "cell_type": "code",
   "execution_count": 84,
   "metadata": {},
   "outputs": [],
   "source": [
    "#last 29 lines are weeks 20 to 49 of 2019\n",
    "X_test = X[-30:]\n",
    "y_test = y[-30:]\n",
    "\n",
    "# Here we separate the training dataset to finish in week 12, i.e., to be cut 8 weeks before \n",
    "X_train = X[:-37]\n",
    "y_train = y[:-37]"
   ]
  },
  {
   "cell_type": "code",
   "execution_count": 86,
   "metadata": {},
   "outputs": [
    {
     "data": {
      "text/html": [
       "<div>\n",
       "<style scoped>\n",
       "    .dataframe tbody tr th:only-of-type {\n",
       "        vertical-align: middle;\n",
       "    }\n",
       "\n",
       "    .dataframe tbody tr th {\n",
       "        vertical-align: top;\n",
       "    }\n",
       "\n",
       "    .dataframe thead th {\n",
       "        text-align: right;\n",
       "    }\n",
       "</style>\n",
       "<table border=\"1\" class=\"dataframe\">\n",
       "  <thead>\n",
       "    <tr style=\"text-align: right;\">\n",
       "      <th></th>\n",
       "      <th>year</th>\n",
       "      <th>week</th>\n",
       "      <th>DistArr</th>\n",
       "      <th>avgLeadArr</th>\n",
       "      <th>bTransferSum</th>\n",
       "      <th>transfer+cashSum</th>\n",
       "      <th>card+cashSum</th>\n",
       "      <th>paypalSum</th>\n",
       "      <th>ollSum</th>\n",
       "      <th>rlaSum</th>\n",
       "      <th>rllSum</th>\n",
       "      <th>brexit</th>\n",
       "      <th>thomasCook</th>\n",
       "    </tr>\n",
       "  </thead>\n",
       "  <tbody>\n",
       "    <tr>\n",
       "      <th>176</th>\n",
       "      <td>2019</td>\n",
       "      <td>20</td>\n",
       "      <td>0.818094</td>\n",
       "      <td>0.464502</td>\n",
       "      <td>0.296296</td>\n",
       "      <td>0.4</td>\n",
       "      <td>0.0</td>\n",
       "      <td>0.172414</td>\n",
       "      <td>0.0</td>\n",
       "      <td>0.0</td>\n",
       "      <td>0.807692</td>\n",
       "      <td>1.0</td>\n",
       "      <td>0.0</td>\n",
       "    </tr>\n",
       "  </tbody>\n",
       "</table>\n",
       "</div>"
      ],
      "text/plain": [
       "     year  week   DistArr  avgLeadArr  bTransferSum  transfer+cashSum  \\\n",
       "176  2019    20  0.818094    0.464502      0.296296               0.4   \n",
       "\n",
       "     card+cashSum  paypalSum  ollSum  rlaSum    rllSum  brexit  thomasCook  \n",
       "176           0.0   0.172414     0.0     0.0  0.807692     1.0         0.0  "
      ]
     },
     "execution_count": 86,
     "metadata": {},
     "output_type": "execute_result"
    }
   ],
   "source": [
    "# X_test begins on week 20,2019\n",
    "X_test.head(1)"
   ]
  },
  {
   "cell_type": "code",
   "execution_count": 87,
   "metadata": {},
   "outputs": [
    {
     "data": {
      "text/html": [
       "<div>\n",
       "<style scoped>\n",
       "    .dataframe tbody tr th:only-of-type {\n",
       "        vertical-align: middle;\n",
       "    }\n",
       "\n",
       "    .dataframe tbody tr th {\n",
       "        vertical-align: top;\n",
       "    }\n",
       "\n",
       "    .dataframe thead th {\n",
       "        text-align: right;\n",
       "    }\n",
       "</style>\n",
       "<table border=\"1\" class=\"dataframe\">\n",
       "  <thead>\n",
       "    <tr style=\"text-align: right;\">\n",
       "      <th></th>\n",
       "      <th>year</th>\n",
       "      <th>week</th>\n",
       "      <th>DistArr</th>\n",
       "      <th>avgLeadArr</th>\n",
       "      <th>bTransferSum</th>\n",
       "      <th>transfer+cashSum</th>\n",
       "      <th>card+cashSum</th>\n",
       "      <th>paypalSum</th>\n",
       "      <th>ollSum</th>\n",
       "      <th>rlaSum</th>\n",
       "      <th>rllSum</th>\n",
       "      <th>brexit</th>\n",
       "      <th>thomasCook</th>\n",
       "    </tr>\n",
       "  </thead>\n",
       "  <tbody>\n",
       "    <tr>\n",
       "      <th>168</th>\n",
       "      <td>2019</td>\n",
       "      <td>12</td>\n",
       "      <td>0.097712</td>\n",
       "      <td>0.380047</td>\n",
       "      <td>0.0</td>\n",
       "      <td>0.0</td>\n",
       "      <td>0.0</td>\n",
       "      <td>0.0</td>\n",
       "      <td>0.0</td>\n",
       "      <td>0.0</td>\n",
       "      <td>0.0</td>\n",
       "      <td>0.0</td>\n",
       "      <td>0.0</td>\n",
       "    </tr>\n",
       "  </tbody>\n",
       "</table>\n",
       "</div>"
      ],
      "text/plain": [
       "     year  week   DistArr  avgLeadArr  bTransferSum  transfer+cashSum  \\\n",
       "168  2019    12  0.097712    0.380047           0.0               0.0   \n",
       "\n",
       "     card+cashSum  paypalSum  ollSum  rlaSum  rllSum  brexit  thomasCook  \n",
       "168           0.0        0.0     0.0     0.0     0.0     0.0         0.0  "
      ]
     },
     "execution_count": 87,
     "metadata": {},
     "output_type": "execute_result"
    }
   ],
   "source": [
    "# X_train ends on week 12, 2019\n",
    "X_train.tail(1)"
   ]
  },
  {
   "cell_type": "code",
   "execution_count": 88,
   "metadata": {},
   "outputs": [],
   "source": [
    "# Removing outliers (identified before) from the training set\n",
    "for i, row in outlier_year_and_week.iterrows(): \n",
    "    indexNames = X_train[ (X_train['year'] == row[\"year\"]) & (X_train['week'] == row[\"week\"]) ].index\n",
    "    X_train.drop(indexNames, inplace=True)\n",
    "    y_train.drop(indexNames, inplace=True)"
   ]
  },
  {
   "cell_type": "code",
   "execution_count": 90,
   "metadata": {},
   "outputs": [
    {
     "data": {
      "text/html": [
       "<div>\n",
       "<style scoped>\n",
       "    .dataframe tbody tr th:only-of-type {\n",
       "        vertical-align: middle;\n",
       "    }\n",
       "\n",
       "    .dataframe tbody tr th {\n",
       "        vertical-align: top;\n",
       "    }\n",
       "\n",
       "    .dataframe thead th {\n",
       "        text-align: right;\n",
       "    }\n",
       "</style>\n",
       "<table border=\"1\" class=\"dataframe\">\n",
       "  <thead>\n",
       "    <tr style=\"text-align: right;\">\n",
       "      <th></th>\n",
       "      <th>year</th>\n",
       "      <th>week</th>\n",
       "      <th>DistArr</th>\n",
       "      <th>avgLeadArr</th>\n",
       "      <th>bTransferSum</th>\n",
       "      <th>transfer+cashSum</th>\n",
       "      <th>card+cashSum</th>\n",
       "      <th>paypalSum</th>\n",
       "      <th>ollSum</th>\n",
       "      <th>rlaSum</th>\n",
       "      <th>rllSum</th>\n",
       "      <th>brexit</th>\n",
       "      <th>thomasCook</th>\n",
       "    </tr>\n",
       "  </thead>\n",
       "  <tbody>\n",
       "    <tr>\n",
       "      <th>166</th>\n",
       "      <td>2019</td>\n",
       "      <td>10</td>\n",
       "      <td>0.046600</td>\n",
       "      <td>0.411674</td>\n",
       "      <td>0.000000</td>\n",
       "      <td>0.0</td>\n",
       "      <td>0.0</td>\n",
       "      <td>0.068966</td>\n",
       "      <td>0.0</td>\n",
       "      <td>0.0</td>\n",
       "      <td>0.0</td>\n",
       "      <td>0.0</td>\n",
       "      <td>0.0</td>\n",
       "    </tr>\n",
       "    <tr>\n",
       "      <th>167</th>\n",
       "      <td>2019</td>\n",
       "      <td>11</td>\n",
       "      <td>0.072483</td>\n",
       "      <td>0.328168</td>\n",
       "      <td>0.037037</td>\n",
       "      <td>0.0</td>\n",
       "      <td>0.0</td>\n",
       "      <td>0.034483</td>\n",
       "      <td>0.0</td>\n",
       "      <td>0.0</td>\n",
       "      <td>0.0</td>\n",
       "      <td>0.0</td>\n",
       "      <td>0.0</td>\n",
       "    </tr>\n",
       "    <tr>\n",
       "      <th>168</th>\n",
       "      <td>2019</td>\n",
       "      <td>12</td>\n",
       "      <td>0.097712</td>\n",
       "      <td>0.380047</td>\n",
       "      <td>0.000000</td>\n",
       "      <td>0.0</td>\n",
       "      <td>0.0</td>\n",
       "      <td>0.000000</td>\n",
       "      <td>0.0</td>\n",
       "      <td>0.0</td>\n",
       "      <td>0.0</td>\n",
       "      <td>0.0</td>\n",
       "      <td>0.0</td>\n",
       "    </tr>\n",
       "  </tbody>\n",
       "</table>\n",
       "</div>"
      ],
      "text/plain": [
       "     year  week   DistArr  avgLeadArr  bTransferSum  transfer+cashSum  \\\n",
       "166  2019    10  0.046600    0.411674      0.000000               0.0   \n",
       "167  2019    11  0.072483    0.328168      0.037037               0.0   \n",
       "168  2019    12  0.097712    0.380047      0.000000               0.0   \n",
       "\n",
       "     card+cashSum  paypalSum  ollSum  rlaSum  rllSum  brexit  thomasCook  \n",
       "166           0.0   0.068966     0.0     0.0     0.0     0.0         0.0  \n",
       "167           0.0   0.034483     0.0     0.0     0.0     0.0         0.0  \n",
       "168           0.0   0.000000     0.0     0.0     0.0     0.0         0.0  "
      ]
     },
     "execution_count": 90,
     "metadata": {},
     "output_type": "execute_result"
    }
   ],
   "source": [
    "X_train.tail(3)"
   ]
  },
  {
   "cell_type": "code",
   "execution_count": 91,
   "metadata": {},
   "outputs": [],
   "source": [
    "# Normalize all independent variables and create scaler based on train set. X_train = scaled training set\n",
    "X_train_array = X_train.values # returns a numpy array\n",
    "X_test_array = X_test.values\n",
    "\n",
    "min_max_scaler_x = MinMaxScaler()\n",
    "\n",
    "X_train_scaler = min_max_scaler_x.fit(X_train_array)\n",
    "\n",
    "X_train_scaled = X_train_scaler.transform(X_train_array)\n",
    "X_test_scaled = X_train_scaler.transform(X_test_array)\n",
    "\n",
    "X_train_ = pd.DataFrame(X_train_scaled, columns=X.columns)\n",
    "X_test_ = pd.DataFrame(X_test_scaled, columns=X.columns)"
   ]
  },
  {
   "cell_type": "code",
   "execution_count": 92,
   "metadata": {},
   "outputs": [],
   "source": [
    "# Normalize the dependent variable (in order to use it in the GridSearch)\n",
    "y_train_array = y_train.values # returns a numpy array\n",
    "y_test_array = y_test.values\n",
    "\n",
    "min_max_scaler_y = MinMaxScaler()\n",
    "\n",
    "y_train_scaler = min_max_scaler_y.fit(y_train_array.reshape(-1, 1))\n",
    "\n",
    "y_train_scaled = y_train_scaler.transform(y_train_array.reshape(-1, 1))\n",
    "y_test_scaled = y_train_scaler.transform(y_test_array.reshape(-1, 1))\n",
    "\n",
    "y_train_ = pd.Series([float(i) for i in y_train_scaled])\n",
    "y_test_ = pd.Series([float(i) for i in y_test_scaled])"
   ]
  },
  {
   "cell_type": "markdown",
   "metadata": {},
   "source": [
    "## 5.2. Setting the model"
   ]
  },
  {
   "cell_type": "markdown",
   "metadata": {},
   "source": [
    "We are using Neural Networks from SciKitLearn and GridSearch CV for parameter optimization."
   ]
  },
  {
   "cell_type": "code",
   "execution_count": 93,
   "metadata": {},
   "outputs": [],
   "source": [
    "from sklearn.neural_network import MLPRegressor\n",
    "from sklearn import metrics\n",
    "model = MLPRegressor()"
   ]
  },
  {
   "cell_type": "markdown",
   "metadata": {},
   "source": [
    "Setting the parameter space to be tested with the model. Here many different combinations were tested and multiple iterations to find an optimal solution.\n",
    "The combinations below are just a small sample."
   ]
  },
  {
   "cell_type": "code",
   "execution_count": 94,
   "metadata": {},
   "outputs": [],
   "source": [
    "parameter_space = {\n",
    "    'hidden_layer_sizes': [(150,160,150),(150,150,150),(160,160,160)],\n",
    "    'activation': ['relu'],\n",
    "    'solver': ['sgd'],\n",
    "    'learning_rate_init': [0.05,0.08,0.1,0.12,0.15],\n",
    "    'learning_rate': ['adaptive'],\n",
    "    'alpha': [0.0001, 0.0002, 0.0005, 0.001],\n",
    "    'random_state': [150]\n",
    "}"
   ]
  },
  {
   "cell_type": "code",
   "execution_count": 95,
   "metadata": {},
   "outputs": [],
   "source": [
    "clf = GridSearchCV(model, parameter_space)"
   ]
  },
  {
   "cell_type": "code",
   "execution_count": 96,
   "metadata": {
    "scrolled": true
   },
   "outputs": [
    {
     "data": {
      "text/plain": [
       "GridSearchCV(cv=None, error_score=nan,\n",
       "             estimator=MLPRegressor(activation='relu', alpha=0.0001,\n",
       "                                    batch_size='auto', beta_1=0.9, beta_2=0.999,\n",
       "                                    early_stopping=False, epsilon=1e-08,\n",
       "                                    hidden_layer_sizes=(100,),\n",
       "                                    learning_rate='constant',\n",
       "                                    learning_rate_init=0.001, max_fun=15000,\n",
       "                                    max_iter=200, momentum=0.9,\n",
       "                                    n_iter_no_change=10,\n",
       "                                    nesterovs_momentum=True, power_t=0.5,\n",
       "                                    random_sta...\n",
       "             iid='deprecated', n_jobs=None,\n",
       "             param_grid={'activation': ['relu'],\n",
       "                         'alpha': [0.0001, 0.0002, 0.0005, 0.001],\n",
       "                         'hidden_layer_sizes': [(150, 160, 150),\n",
       "                                                (150, 150, 150),\n",
       "                                                (160, 160, 160)],\n",
       "                         'learning_rate': ['adaptive'],\n",
       "                         'learning_rate_init': [0.05, 0.08, 0.1, 0.12, 0.15],\n",
       "                         'random_state': [150], 'solver': ['sgd']},\n",
       "             pre_dispatch='2*n_jobs', refit=True, return_train_score=False,\n",
       "             scoring=None, verbose=0)"
      ]
     },
     "execution_count": 96,
     "metadata": {},
     "output_type": "execute_result"
    }
   ],
   "source": [
    "clf.fit(X_train_, y_train_)"
   ]
  },
  {
   "cell_type": "code",
   "execution_count": 97,
   "metadata": {},
   "outputs": [
    {
     "data": {
      "text/plain": [
       "{'activation': 'relu',\n",
       " 'alpha': 0.0005,\n",
       " 'hidden_layer_sizes': (150, 150, 150),\n",
       " 'learning_rate': 'adaptive',\n",
       " 'learning_rate_init': 0.15,\n",
       " 'random_state': 150,\n",
       " 'solver': 'sgd'}"
      ]
     },
     "execution_count": 97,
     "metadata": {},
     "output_type": "execute_result"
    }
   ],
   "source": [
    "# Best parameter set found by GridSearch\n",
    "clf.best_params_"
   ]
  },
  {
   "cell_type": "code",
   "execution_count": 98,
   "metadata": {},
   "outputs": [],
   "source": [
    "model_best = MLPRegressor(activation = 'relu',\n",
    "                          alpha = 0.0005,\n",
    "                          hidden_layer_sizes = (150, 150, 150),\n",
    "                          learning_rate = 'adaptive',\n",
    "                          learning_rate_init = 0.15,\n",
    "                          random_state = 150,\n",
    "                          solver = 'sgd')"
   ]
  },
  {
   "cell_type": "code",
   "execution_count": 99,
   "metadata": {
    "scrolled": true
   },
   "outputs": [
    {
     "data": {
      "text/plain": [
       "MLPRegressor(activation='relu', alpha=0.0005, batch_size='auto', beta_1=0.9,\n",
       "             beta_2=0.999, early_stopping=False, epsilon=1e-08,\n",
       "             hidden_layer_sizes=(150, 150, 150), learning_rate='adaptive',\n",
       "             learning_rate_init=0.15, max_fun=15000, max_iter=200, momentum=0.9,\n",
       "             n_iter_no_change=10, nesterovs_momentum=True, power_t=0.5,\n",
       "             random_state=150, shuffle=True, solver='sgd', tol=0.0001,\n",
       "             validation_fraction=0.1, verbose=False, warm_start=False)"
      ]
     },
     "execution_count": 99,
     "metadata": {},
     "output_type": "execute_result"
    }
   ],
   "source": [
    "model_best.fit(X_train_, y_train_)"
   ]
  },
  {
   "cell_type": "code",
   "execution_count": 100,
   "metadata": {},
   "outputs": [],
   "source": [
    "# predict y for X_train and X_test\n",
    "y_pred_train = model_best.predict(X_train_) \n",
    "y_pred_test = model_best.predict(X_test_) "
   ]
  },
  {
   "cell_type": "markdown",
   "metadata": {},
   "source": [
    "## 5.3. Model evaluation"
   ]
  },
  {
   "cell_type": "code",
   "execution_count": 101,
   "metadata": {
    "scrolled": false
   },
   "outputs": [
    {
     "data": {
      "text/html": [
       "<div>\n",
       "<style scoped>\n",
       "    .dataframe tbody tr th:only-of-type {\n",
       "        vertical-align: middle;\n",
       "    }\n",
       "\n",
       "    .dataframe tbody tr th {\n",
       "        vertical-align: top;\n",
       "    }\n",
       "\n",
       "    .dataframe thead th {\n",
       "        text-align: right;\n",
       "    }\n",
       "</style>\n",
       "<table border=\"1\" class=\"dataframe\">\n",
       "  <thead>\n",
       "    <tr style=\"text-align: right;\">\n",
       "      <th></th>\n",
       "      <th>Measure</th>\n",
       "      <th>Train</th>\n",
       "      <th>Test</th>\n",
       "    </tr>\n",
       "  </thead>\n",
       "  <tbody>\n",
       "    <tr>\n",
       "      <th>0</th>\n",
       "      <td>MAE</td>\n",
       "      <td>0.043680</td>\n",
       "      <td>0.095232</td>\n",
       "    </tr>\n",
       "    <tr>\n",
       "      <th>1</th>\n",
       "      <td>RMSE</td>\n",
       "      <td>0.055102</td>\n",
       "      <td>0.115896</td>\n",
       "    </tr>\n",
       "    <tr>\n",
       "      <th>2</th>\n",
       "      <td>R^2</td>\n",
       "      <td>0.973460</td>\n",
       "      <td>0.908709</td>\n",
       "    </tr>\n",
       "    <tr>\n",
       "      <th>3</th>\n",
       "      <td>MAPE (%)</td>\n",
       "      <td>inf</td>\n",
       "      <td>25.482222</td>\n",
       "    </tr>\n",
       "    <tr>\n",
       "      <th>4</th>\n",
       "      <td>MAX Error</td>\n",
       "      <td>0.145234</td>\n",
       "      <td>0.330327</td>\n",
       "    </tr>\n",
       "  </tbody>\n",
       "</table>\n",
       "</div>"
      ],
      "text/plain": [
       "     Measure     Train       Test\n",
       "0        MAE  0.043680   0.095232\n",
       "1       RMSE  0.055102   0.115896\n",
       "2        R^2  0.973460   0.908709\n",
       "3   MAPE (%)       inf  25.482222\n",
       "4  MAX Error  0.145234   0.330327"
      ]
     },
     "execution_count": 101,
     "metadata": {},
     "output_type": "execute_result"
    }
   ],
   "source": [
    "# Show performance results\n",
    "resultsDF = performanceMetricsDF(metrics, y_train_, y_pred_train, y_test_, y_pred_test)\n",
    "resultsDF"
   ]
  },
  {
   "cell_type": "code",
   "execution_count": 102,
   "metadata": {},
   "outputs": [],
   "source": [
    "# Visualize predictions vs close values \n",
    "y_test_ = y_test_.values\n",
    "y_test_ = y_train_scaler.inverse_transform(y_test_.reshape(-1, 1))\n",
    "\n",
    "temp = pd.Series([float(i) for i in y_test_]).to_frame()\n",
    "\n",
    "temp['year'] = pd.Series([float(i) for i in X_test.year]).to_frame()\n",
    "temp['week'] = pd.Series([float(i) for i in X_test.week]).to_frame()\n",
    "temp['Predictions'] = y_train_scaler.inverse_transform(y_pred_test.reshape(-1, 1))\n",
    "temp['Difference'] = [float(i) for i in y_test_] - temp.Predictions\n",
    "temp['%Diff'] = ([float(i) for i in y_test_] - temp.Predictions)*100/[float(i) for i in y_test_]"
   ]
  },
  {
   "cell_type": "code",
   "execution_count": 103,
   "metadata": {},
   "outputs": [
    {
     "data": {
      "text/html": [
       "<div>\n",
       "<style scoped>\n",
       "    .dataframe tbody tr th:only-of-type {\n",
       "        vertical-align: middle;\n",
       "    }\n",
       "\n",
       "    .dataframe tbody tr th {\n",
       "        vertical-align: top;\n",
       "    }\n",
       "\n",
       "    .dataframe thead th {\n",
       "        text-align: right;\n",
       "    }\n",
       "</style>\n",
       "<table border=\"1\" class=\"dataframe\">\n",
       "  <thead>\n",
       "    <tr style=\"text-align: right;\">\n",
       "      <th></th>\n",
       "      <th>0</th>\n",
       "      <th>year</th>\n",
       "      <th>week</th>\n",
       "      <th>Predictions</th>\n",
       "      <th>Difference</th>\n",
       "      <th>%Diff</th>\n",
       "    </tr>\n",
       "  </thead>\n",
       "  <tbody>\n",
       "    <tr>\n",
       "      <th>0</th>\n",
       "      <td>2893.0</td>\n",
       "      <td>2019.0</td>\n",
       "      <td>20.0</td>\n",
       "      <td>2953.784511</td>\n",
       "      <td>-60.784511</td>\n",
       "      <td>-2.101089</td>\n",
       "    </tr>\n",
       "    <tr>\n",
       "      <th>1</th>\n",
       "      <td>2825.0</td>\n",
       "      <td>2019.0</td>\n",
       "      <td>21.0</td>\n",
       "      <td>2655.003577</td>\n",
       "      <td>169.996423</td>\n",
       "      <td>6.017572</td>\n",
       "    </tr>\n",
       "    <tr>\n",
       "      <th>2</th>\n",
       "      <td>2996.0</td>\n",
       "      <td>2019.0</td>\n",
       "      <td>22.0</td>\n",
       "      <td>2689.825489</td>\n",
       "      <td>306.174511</td>\n",
       "      <td>10.219443</td>\n",
       "    </tr>\n",
       "    <tr>\n",
       "      <th>3</th>\n",
       "      <td>2904.0</td>\n",
       "      <td>2019.0</td>\n",
       "      <td>23.0</td>\n",
       "      <td>2620.532469</td>\n",
       "      <td>283.467531</td>\n",
       "      <td>9.761279</td>\n",
       "    </tr>\n",
       "    <tr>\n",
       "      <th>4</th>\n",
       "      <td>2842.0</td>\n",
       "      <td>2019.0</td>\n",
       "      <td>24.0</td>\n",
       "      <td>3143.338474</td>\n",
       "      <td>-301.338474</td>\n",
       "      <td>-10.603043</td>\n",
       "    </tr>\n",
       "    <tr>\n",
       "      <th>5</th>\n",
       "      <td>2801.0</td>\n",
       "      <td>2019.0</td>\n",
       "      <td>25.0</td>\n",
       "      <td>3178.993533</td>\n",
       "      <td>-377.993533</td>\n",
       "      <td>-13.494949</td>\n",
       "    </tr>\n",
       "    <tr>\n",
       "      <th>6</th>\n",
       "      <td>2746.0</td>\n",
       "      <td>2019.0</td>\n",
       "      <td>26.0</td>\n",
       "      <td>2952.268796</td>\n",
       "      <td>-206.268796</td>\n",
       "      <td>-7.511609</td>\n",
       "    </tr>\n",
       "    <tr>\n",
       "      <th>7</th>\n",
       "      <td>2805.0</td>\n",
       "      <td>2019.0</td>\n",
       "      <td>27.0</td>\n",
       "      <td>3255.847114</td>\n",
       "      <td>-450.847114</td>\n",
       "      <td>-16.072981</td>\n",
       "    </tr>\n",
       "  </tbody>\n",
       "</table>\n",
       "</div>"
      ],
      "text/plain": [
       "        0    year  week  Predictions  Difference      %Diff\n",
       "0  2893.0  2019.0  20.0  2953.784511  -60.784511  -2.101089\n",
       "1  2825.0  2019.0  21.0  2655.003577  169.996423   6.017572\n",
       "2  2996.0  2019.0  22.0  2689.825489  306.174511  10.219443\n",
       "3  2904.0  2019.0  23.0  2620.532469  283.467531   9.761279\n",
       "4  2842.0  2019.0  24.0  3143.338474 -301.338474 -10.603043\n",
       "5  2801.0  2019.0  25.0  3178.993533 -377.993533 -13.494949\n",
       "6  2746.0  2019.0  26.0  2952.268796 -206.268796  -7.511609\n",
       "7  2805.0  2019.0  27.0  3255.847114 -450.847114 -16.072981"
      ]
     },
     "execution_count": 103,
     "metadata": {},
     "output_type": "execute_result"
    }
   ],
   "source": [
    "temp[:8]"
   ]
  },
  {
   "cell_type": "code",
   "execution_count": 104,
   "metadata": {},
   "outputs": [
    {
     "data": {
      "image/png": "[encoded data removed]",
      "text/plain": [
       "<Figure size 720x360 with 1 Axes>"
      ]
     },
     "metadata": {
      "needs_background": "light"
     },
     "output_type": "display_data"
    }
   ],
   "source": [
    "x = temp['week'][:8]\n",
    "predictions = temp['Predictions'][:8]\n",
    "real_values = temp[0][:8]\n",
    "diff = temp['%Diff'][:8]\n",
    "error = abs(temp['Difference'][:8])/2\n",
    "\n",
    "plt.figure(figsize=(10,5))\n",
    "plt.plot(x, predictions, 'k', linewidth=2, linestyle='dashdot', color='#3F7F4C', label = 'Predictions')\n",
    "plt.plot(x, real_values, 'k', linewidth=2, color='#1B2ACC', label = 'Real values')\n",
    "plt.fill_between(x, real_values*0.9, real_values*1.1,\n",
    "    alpha=0.5, edgecolor='#1B2ACC', facecolor='#089FFF',\n",
    "    linewidth=2, antialiased=True, label = '10% range')\n",
    "\n",
    "plt.xlim(xmin=20,xmax=27)\n",
    "plt.ylim(ymin=0)\n",
    "plt.title(\"Predicted x Real Values\")\n",
    "plt.xlabel(\"Week number (2019)\")\n",
    "plt.ylabel(\"Count of services\")\n",
    "plt.legend(loc=\"lower right\")\n",
    "\n",
    "plt.show()"
   ]
  },
  {
   "cell_type": "code",
   "execution_count": 105,
   "metadata": {},
   "outputs": [
    {
     "name": "stdout",
     "output_type": "stream",
     "text": [
      "Mean absolute %Diff for the 4 predicted weeks:  7.02  %\n"
     ]
    }
   ],
   "source": [
    "print('Mean absolute %Diff for the 4 predicted weeks: ', round(np.mean(abs(temp[:4]['%Diff'])),2), ' %')"
   ]
  },
  {
   "cell_type": "markdown",
   "metadata": {},
   "source": [
    "<div class=\"alert alert-block alert-info\">\n",
    "\n",
    "As we can see, our predictions for the first four predicted weeks are within a 10% range from our real values\n",
    "as requested from our client (**7%**). And as would be expected, the further away in time the preditions are made, the more inaccurate they are.\n",
    "\n",
    "We can also confirm that the model will not be completely unrealistic, even when we go past the expected predictions of four weeks.\n",
    "\n",
    "Following we will show that if we take a bigger training set, to predict even further in the future, this model will still be able to preform accurate predictions.\n",
    "\n",
    "</div>"
   ]
  },
  {
   "cell_type": "markdown",
   "metadata": {},
   "source": [
    "## 5.4. Model evaluation (Extra - starting on week 28)\n",
    "\n",
    "We also used the same model fitting pattern with another 4 training data slices (weeks until 20 to 23) to predict services in weeks 28 to 31."
   ]
  },
  {
   "cell_type": "code",
   "execution_count": 115,
   "metadata": {},
   "outputs": [
    {
     "data": {
      "text/html": [
       "<div>\n",
       "<style scoped>\n",
       "    .dataframe tbody tr th:only-of-type {\n",
       "        vertical-align: middle;\n",
       "    }\n",
       "\n",
       "    .dataframe tbody tr th {\n",
       "        vertical-align: top;\n",
       "    }\n",
       "\n",
       "    .dataframe thead th {\n",
       "        text-align: right;\n",
       "    }\n",
       "</style>\n",
       "<table border=\"1\" class=\"dataframe\">\n",
       "  <thead>\n",
       "    <tr style=\"text-align: right;\">\n",
       "      <th></th>\n",
       "      <th>year</th>\n",
       "      <th>week</th>\n",
       "      <th>DistArr</th>\n",
       "      <th>avgLeadArr</th>\n",
       "      <th>bTransferSum</th>\n",
       "      <th>transfer+cashSum</th>\n",
       "      <th>card+cashSum</th>\n",
       "      <th>paypalSum</th>\n",
       "      <th>ollSum</th>\n",
       "      <th>rlaSum</th>\n",
       "      <th>rllSum</th>\n",
       "      <th>brexit</th>\n",
       "      <th>thomasCook</th>\n",
       "    </tr>\n",
       "  </thead>\n",
       "  <tbody>\n",
       "    <tr>\n",
       "      <th>203</th>\n",
       "      <td>2019</td>\n",
       "      <td>47</td>\n",
       "      <td>0.008573</td>\n",
       "      <td>0.258953</td>\n",
       "      <td>0.0</td>\n",
       "      <td>0.0</td>\n",
       "      <td>0.0</td>\n",
       "      <td>0.0</td>\n",
       "      <td>0.0</td>\n",
       "      <td>0.0</td>\n",
       "      <td>0.0</td>\n",
       "      <td>0.0</td>\n",
       "      <td>0.0</td>\n",
       "    </tr>\n",
       "    <tr>\n",
       "      <th>204</th>\n",
       "      <td>2019</td>\n",
       "      <td>48</td>\n",
       "      <td>0.009900</td>\n",
       "      <td>0.266529</td>\n",
       "      <td>0.0</td>\n",
       "      <td>0.0</td>\n",
       "      <td>0.0</td>\n",
       "      <td>0.0</td>\n",
       "      <td>0.0</td>\n",
       "      <td>0.0</td>\n",
       "      <td>0.0</td>\n",
       "      <td>0.0</td>\n",
       "      <td>0.0</td>\n",
       "    </tr>\n",
       "    <tr>\n",
       "      <th>205</th>\n",
       "      <td>2019</td>\n",
       "      <td>49</td>\n",
       "      <td>0.000000</td>\n",
       "      <td>0.000000</td>\n",
       "      <td>0.0</td>\n",
       "      <td>0.0</td>\n",
       "      <td>0.0</td>\n",
       "      <td>0.0</td>\n",
       "      <td>0.0</td>\n",
       "      <td>0.0</td>\n",
       "      <td>0.0</td>\n",
       "      <td>0.0</td>\n",
       "      <td>0.0</td>\n",
       "    </tr>\n",
       "  </tbody>\n",
       "</table>\n",
       "</div>"
      ],
      "text/plain": [
       "     year  week   DistArr  avgLeadArr  bTransferSum  transfer+cashSum  \\\n",
       "203  2019    47  0.008573    0.258953           0.0               0.0   \n",
       "204  2019    48  0.009900    0.266529           0.0               0.0   \n",
       "205  2019    49  0.000000    0.000000           0.0               0.0   \n",
       "\n",
       "     card+cashSum  paypalSum  ollSum  rlaSum  rllSum  brexit  thomasCook  \n",
       "203           0.0        0.0     0.0     0.0     0.0     0.0         0.0  \n",
       "204           0.0        0.0     0.0     0.0     0.0     0.0         0.0  \n",
       "205           0.0        0.0     0.0     0.0     0.0     0.0         0.0  "
      ]
     },
     "execution_count": 115,
     "metadata": {},
     "output_type": "execute_result"
    }
   ],
   "source": [
    "X.tail(3)"
   ]
  },
  {
   "cell_type": "code",
   "execution_count": 107,
   "metadata": {},
   "outputs": [],
   "source": [
    "#last 22 lines are weeks 28-49, 2019\n",
    "X_test = [X[-22:],X[-21:],X[-20:],X[-19:],X[-18:],\n",
    "          X[-17:],X[-16:],X[-15:],X[-14:]]\n",
    "y_test = [y[-22:],y[-21:],y[-20:],y[-19:],y[-18:],\n",
    "          y[-17:],y[-16:],y[-15:],y[-14:]]\n",
    "\n",
    "# Here we separate the training dataset to be cut 8 weeks before \n",
    "X_train = [X[-30:],X[-29:],X[-28:],X[-27:],X[-26:],\n",
    "          X[-25:],X[-24:],X[-23:],X[-22:]]\n",
    "y_train = [y[-30:],y[-29:],y[-28:],y[-27:],y[-26:],\n",
    "          y[-25:],y[-24:],y[-23:],y[-22:]]"
   ]
  },
  {
   "cell_type": "code",
   "execution_count": 108,
   "metadata": {},
   "outputs": [],
   "source": [
    "# Removing outliers (identified before) from the training set\n",
    "for j in range(9):\n",
    "    for i, row in outlier_year_and_week.iterrows(): \n",
    "        indexNames = X_train[j][(X_train[j]['year'] == row[\"year\"]) & (X_train[j]['week'] == row[\"week\"])].index\n",
    "        X_train[j].drop(indexNames, inplace=True)\n",
    "        y_train[j].drop(indexNames, inplace=True)"
   ]
  },
  {
   "cell_type": "code",
   "execution_count": 109,
   "metadata": {},
   "outputs": [],
   "source": [
    "# Normalize all independent variables and create scaler based on train set. X_train = scaled training set\n",
    "X_train_ = []\n",
    "X_test_ = []\n",
    "\n",
    "for i in range(9):\n",
    "    X_train_array = X_train[i].values # returns a numpy array\n",
    "    X_test_array = X_test[i].values\n",
    "\n",
    "    min_max_scaler_x = MinMaxScaler()\n",
    "\n",
    "    X_train_scaler = min_max_scaler_x.fit(X_train_array)\n",
    "\n",
    "    X_train_scaled = X_train_scaler.transform(X_train_array)\n",
    "    X_test_scaled = X_train_scaler.transform(X_test_array)\n",
    "\n",
    "    X_train_.insert(i, pd.DataFrame(X_train_scaled, columns=X.columns))\n",
    "    X_test_.insert(i,pd.DataFrame(X_test_scaled, columns=X.columns))"
   ]
  },
  {
   "cell_type": "code",
   "execution_count": 110,
   "metadata": {},
   "outputs": [],
   "source": [
    "# Normalize the dependent variable\n",
    "y_train_ = []\n",
    "y_test_ = []\n",
    "\n",
    "for i in range(9):\n",
    "    y_train_array = y_train[i].values # returns a numpy array\n",
    "    y_test_array = y_test[i].values\n",
    "\n",
    "    min_max_scaler_y = MinMaxScaler()\n",
    "\n",
    "    y_train_scaler = min_max_scaler_y.fit(y_train_array.reshape(-1, 1))\n",
    "\n",
    "    y_train_scaled = y_train_scaler.transform(y_train_array.reshape(-1, 1))\n",
    "    y_test_scaled = y_train_scaler.transform(y_test_array.reshape(-1, 1))\n",
    "\n",
    "    y_train_.insert(i,pd.Series([float(i) for i in y_train_scaled]))\n",
    "    y_test_.insert(i,pd.Series([float(i) for i in y_test_scaled]))"
   ]
  },
  {
   "cell_type": "code",
   "execution_count": 111,
   "metadata": {},
   "outputs": [],
   "source": [
    "clf = GridSearchCV(model, parameter_space)"
   ]
  },
  {
   "cell_type": "code",
   "execution_count": 112,
   "metadata": {
    "scrolled": true
   },
   "outputs": [
    {
     "data": {
      "text/plain": [
       "GridSearchCV(cv=None, error_score=nan,\n",
       "             estimator=MLPRegressor(activation='relu', alpha=0.0001,\n",
       "                                    batch_size='auto', beta_1=0.9, beta_2=0.999,\n",
       "                                    early_stopping=False, epsilon=1e-08,\n",
       "                                    hidden_layer_sizes=(100,),\n",
       "                                    learning_rate='constant',\n",
       "                                    learning_rate_init=0.001, max_fun=15000,\n",
       "                                    max_iter=200, momentum=0.9,\n",
       "                                    n_iter_no_change=10,\n",
       "                                    nesterovs_momentum=True, power_t=0.5,\n",
       "                                    random_sta...\n",
       "             iid='deprecated', n_jobs=None,\n",
       "             param_grid={'activation': ['relu'],\n",
       "                         'alpha': [0.0001, 0.0002, 0.0005, 0.001],\n",
       "                         'hidden_layer_sizes': [(150, 160, 150),\n",
       "                                                (150, 150, 150),\n",
       "                                                (160, 160, 160)],\n",
       "                         'learning_rate': ['adaptive'],\n",
       "                         'learning_rate_init': [0.05, 0.08, 0.1, 0.12, 0.15],\n",
       "                         'random_state': [150], 'solver': ['sgd']},\n",
       "             pre_dispatch='2*n_jobs', refit=True, return_train_score=False,\n",
       "             scoring=None, verbose=0)"
      ]
     },
     "execution_count": 112,
     "metadata": {},
     "output_type": "execute_result"
    }
   ],
   "source": [
    "clf.fit(X_train_[0], y_train_[0])"
   ]
  },
  {
   "cell_type": "code",
   "execution_count": 113,
   "metadata": {},
   "outputs": [
    {
     "data": {
      "text/plain": [
       "{'activation': 'relu',\n",
       " 'alpha': 0.0001,\n",
       " 'hidden_layer_sizes': (150, 150, 150),\n",
       " 'learning_rate': 'adaptive',\n",
       " 'learning_rate_init': 0.12,\n",
       " 'random_state': 150,\n",
       " 'solver': 'sgd'}"
      ]
     },
     "execution_count": 113,
     "metadata": {},
     "output_type": "execute_result"
    }
   ],
   "source": [
    "clf.best_params_"
   ]
  },
  {
   "cell_type": "code",
   "execution_count": 114,
   "metadata": {},
   "outputs": [],
   "source": [
    "model_best = MLPRegressor(activation = 'relu',\n",
    "                          alpha = 0.0005,\n",
    "                          hidden_layer_sizes = (150, 150, 150),\n",
    "                          learning_rate = 'adaptive',\n",
    "                          learning_rate_init = 0.05,\n",
    "                          random_state = 150,\n",
    "                          solver = 'sgd')"
   ]
  },
  {
   "cell_type": "markdown",
   "metadata": {},
   "source": [
    "For simplicity, we are only fitting the model to the first training period and applying it to all training samples, despite it can assume new parameters and be fitted again for each prediction batch."
   ]
  },
  {
   "cell_type": "code",
   "execution_count": 116,
   "metadata": {
    "scrolled": true
   },
   "outputs": [
    {
     "data": {
      "text/plain": [
       "MLPRegressor(activation='relu', alpha=0.0005, batch_size='auto', beta_1=0.9,\n",
       "             beta_2=0.999, early_stopping=False, epsilon=1e-08,\n",
       "             hidden_layer_sizes=(150, 150, 150), learning_rate='adaptive',\n",
       "             learning_rate_init=0.05, max_fun=15000, max_iter=200, momentum=0.9,\n",
       "             n_iter_no_change=10, nesterovs_momentum=True, power_t=0.5,\n",
       "             random_state=150, shuffle=True, solver='sgd', tol=0.0001,\n",
       "             validation_fraction=0.1, verbose=False, warm_start=False)"
      ]
     },
     "execution_count": 116,
     "metadata": {},
     "output_type": "execute_result"
    }
   ],
   "source": [
    "model_best.fit(X_train_[0], y_train_[0])"
   ]
  },
  {
   "cell_type": "code",
   "execution_count": 117,
   "metadata": {},
   "outputs": [],
   "source": [
    "# predict y for X_train and X_test\n",
    "y_pred_train = model_best.predict(X_train_[0]) \n",
    "y_pred_test = model_best.predict(X_test_[0]) "
   ]
  },
  {
   "cell_type": "code",
   "execution_count": 118,
   "metadata": {
    "scrolled": true
   },
   "outputs": [
    {
     "data": {
      "text/html": [
       "<div>\n",
       "<style scoped>\n",
       "    .dataframe tbody tr th:only-of-type {\n",
       "        vertical-align: middle;\n",
       "    }\n",
       "\n",
       "    .dataframe tbody tr th {\n",
       "        vertical-align: top;\n",
       "    }\n",
       "\n",
       "    .dataframe thead th {\n",
       "        text-align: right;\n",
       "    }\n",
       "</style>\n",
       "<table border=\"1\" class=\"dataframe\">\n",
       "  <thead>\n",
       "    <tr style=\"text-align: right;\">\n",
       "      <th></th>\n",
       "      <th>Measure</th>\n",
       "      <th>Train</th>\n",
       "      <th>Test</th>\n",
       "    </tr>\n",
       "  </thead>\n",
       "  <tbody>\n",
       "    <tr>\n",
       "      <th>0</th>\n",
       "      <td>MAE</td>\n",
       "      <td>0.049440</td>\n",
       "      <td>0.061007</td>\n",
       "    </tr>\n",
       "    <tr>\n",
       "      <th>1</th>\n",
       "      <td>RMSE</td>\n",
       "      <td>0.066604</td>\n",
       "      <td>0.076500</td>\n",
       "    </tr>\n",
       "    <tr>\n",
       "      <th>2</th>\n",
       "      <td>R^2</td>\n",
       "      <td>0.959749</td>\n",
       "      <td>0.945295</td>\n",
       "    </tr>\n",
       "    <tr>\n",
       "      <th>3</th>\n",
       "      <td>MAPE (%)</td>\n",
       "      <td>inf</td>\n",
       "      <td>inf</td>\n",
       "    </tr>\n",
       "    <tr>\n",
       "      <th>4</th>\n",
       "      <td>MAX Error</td>\n",
       "      <td>0.160589</td>\n",
       "      <td>0.160589</td>\n",
       "    </tr>\n",
       "  </tbody>\n",
       "</table>\n",
       "</div>"
      ],
      "text/plain": [
       "     Measure     Train      Test\n",
       "0        MAE  0.049440  0.061007\n",
       "1       RMSE  0.066604  0.076500\n",
       "2        R^2  0.959749  0.945295\n",
       "3   MAPE (%)       inf       inf\n",
       "4  MAX Error  0.160589  0.160589"
      ]
     },
     "execution_count": 118,
     "metadata": {},
     "output_type": "execute_result"
    }
   ],
   "source": [
    "# Show performance results\n",
    "resultsDF = performanceMetricsDF(metrics, y_train_[0], y_pred_train, y_test_[0], y_pred_test)\n",
    "resultsDF"
   ]
  },
  {
   "cell_type": "code",
   "execution_count": 119,
   "metadata": {},
   "outputs": [
    {
     "name": "stdout",
     "output_type": "stream",
     "text": [
      "Predicting week 28 and later with data until week 20 \n",
      "\n",
      "Mean absolute %Diff for the 4 predicted weeks:  1.17  % \n",
      "\n",
      "             0    year  week  Predictions  Difference     %Diff\n",
      "0  2775.125421  2019.0  28.0  2685.984593   89.140829  3.212137\n",
      "1  2799.349966  2019.0  29.0  2801.682955   -2.332988 -0.083340\n",
      "2  2735.397168  2019.0  30.0  2745.275436   -9.878268 -0.361127\n",
      "3  2663.692515  2019.0  31.0  2691.095539  -27.403024 -1.028761 \n",
      "\n",
      "Predicting week 29 and later with data until week 21 \n",
      "\n",
      "Mean absolute %Diff for the 4 predicted weeks:  1.64  % \n",
      "\n",
      "             0    year  week  Predictions  Difference     %Diff\n",
      "0  2799.349966  2019.0  29.0  2795.969553    3.380413  0.120757\n",
      "1  2735.397168  2019.0  30.0  2744.559774   -9.162606 -0.334964\n",
      "2  2663.692515  2019.0  31.0  2703.853534  -40.161019 -1.507720\n",
      "3  2628.809171  2019.0  32.0  2749.226938 -120.417768 -4.580696 \n",
      "\n",
      "Predicting week 30 and later with data until week 22 \n",
      "\n",
      "Mean absolute %Diff for the 4 predicted weeks:  4.61  % \n",
      "\n",
      "             0    year  week  Predictions  Difference      %Diff\n",
      "0  2735.397168  2019.0  30.0  2736.777304   -1.380136  -0.050455\n",
      "1  2663.692515  2019.0  31.0  2705.706021  -42.013506  -1.577266\n",
      "2  2628.809171  2019.0  32.0  2736.614769 -107.805598  -4.100929\n",
      "3  2306.138233  2019.0  33.0  2599.087557 -292.949323 -12.703025 \n",
      "\n",
      "Predicting week 31 and later with data until week 23 \n",
      "\n",
      "Mean absolute %Diff for the 4 predicted weeks:  5.34  % \n",
      "\n",
      "        0    year  week  Predictions  Difference      %Diff\n",
      "0  2748.0  2019.0  31.0  2800.418467  -52.418467  -1.907513\n",
      "1  2712.0  2019.0  32.0  2818.119919 -106.119919  -3.912976\n",
      "2  2379.0  2019.0  33.0  2664.063106 -285.063106 -11.982476\n",
      "3  2396.0  2019.0  34.0  2310.401999   85.598001   3.572538 \n",
      "\n",
      "Predicting week 32 and later with data until week 24 \n",
      "\n",
      "Mean absolute %Diff for the 4 predicted weeks:  5.88  % \n",
      "\n",
      "        0    year  week  Predictions  Difference      %Diff\n",
      "0  2712.0  2019.0  32.0  2772.245795  -60.245795  -2.221453\n",
      "1  2379.0  2019.0  33.0  2665.266674 -286.266674 -12.033067\n",
      "2  2396.0  2019.0  34.0  2326.703315   69.296685   2.892182\n",
      "3  2601.0  2019.0  35.0  2434.827438  166.172562   6.388795 \n",
      "\n",
      "Predicting week 33 and later with data until week 25 \n",
      "\n",
      "Mean absolute %Diff for the 4 predicted weeks:  8.03  % \n",
      "\n",
      "        0    year  week  Predictions  Difference      %Diff\n",
      "0  2379.0  2019.0  33.0  2674.302992 -295.302992 -12.412904\n",
      "1  2396.0  2019.0  34.0  2343.782680   52.217320   2.179354\n",
      "2  2601.0  2019.0  35.0  2453.550212  147.449788   5.668965\n",
      "3  2904.0  2019.0  36.0  2559.768440  344.231560  11.853704 \n",
      "\n",
      "Predicting week 34 and later with data until week 26 \n",
      "\n",
      "Mean absolute %Diff for the 4 predicted weeks:  10.78  % \n",
      "\n",
      "        0    year  week  Predictions  Difference      %Diff\n",
      "0  2396.0  2019.0  34.0  2348.788823   47.211177   1.970416\n",
      "1  2601.0  2019.0  35.0  2448.537263  152.462737   5.861697\n",
      "2  2904.0  2019.0  36.0  2566.575451  337.424549  11.619303\n",
      "3  1277.0  2019.0  37.0  1579.087811 -302.087811 -23.656054 \n",
      "\n",
      "Predicting week 35 and later with data until week 27 \n",
      "\n",
      "Mean absolute %Diff for the 4 predicted weeks:  10.26  % \n",
      "\n",
      "        0    year  week  Predictions  Difference      %Diff\n",
      "0  2601.0  2019.0  35.0  2579.826835   21.173165   0.814039\n",
      "1  2904.0  2019.0  36.0  2731.045932  172.954068   5.955719\n",
      "2  1277.0  2019.0  37.0  1571.577645 -294.577645 -23.067944\n",
      "3  1243.0  2019.0  38.0  1382.289194 -139.289194 -11.205889 \n",
      "\n",
      "Predicting week 36 and later with data until week 28 \n",
      "\n",
      "Mean absolute %Diff for the 4 predicted weeks:  13.74  % \n",
      "\n",
      "        0    year  week  Predictions  Difference      %Diff\n",
      "0  2904.0  2019.0  36.0  2719.453060  184.546940   6.354922\n",
      "1  1277.0  2019.0  37.0  1558.557235 -281.557235 -22.048335\n",
      "2  1243.0  2019.0  38.0  1373.275211 -130.275211 -10.480709\n",
      "3  1538.0  2019.0  39.0  1290.742112  247.257888  16.076586 \n",
      "\n"
     ]
    }
   ],
   "source": [
    "batches_diff_8weeks = pd.DataFrame()\n",
    "\n",
    "for i in range (9):\n",
    "    model_best.fit(X_train_[i], y_train_[i])\n",
    "    \n",
    "    # predict y for X_train and X_test\n",
    "    y_pred_train = model_best.predict(X_train_[i]) \n",
    "    y_pred_test = model_best.predict(X_test_[i])\n",
    "    \n",
    "    # Show performance results\n",
    "    resultsDF = performanceMetricsDF(metrics, y_train_[i], y_pred_train, y_test_[i], y_pred_test)\n",
    "    resultsDF\n",
    "    \n",
    "    y_test2 = y_test_[i].values\n",
    "    y_test2 = y_train_scaler.inverse_transform(y_test2.reshape(-1, 1))\n",
    "\n",
    "    temp = pd.Series([float(i) for i in y_test2]).to_frame()\n",
    "    temp['year'] = pd.Series([float(i) for i in X_test[i].year]).to_frame()\n",
    "    temp['week'] = pd.Series([float(i) for i in X_test[i].week]).to_frame()\n",
    "    temp['Predictions'] = y_train_scaler.inverse_transform(y_pred_test.reshape(-1, 1))\n",
    "    temp['Difference'] = [float(i) for i in y_test2] - temp.Predictions\n",
    "    temp['%Diff'] = ([float(i) for i in y_test2] - temp.Predictions)*100/[float(i) for i in y_test2]\n",
    "        \n",
    "    batches_diff_8weeks[X_test[i]['week'].iloc[0]] = temp['%Diff'][:4]\n",
    "    print('Predicting week', X_test[i]['week'].iloc[0],'and later with data until week', X_train[i]['week'].iloc[0], '\\n')\n",
    "    print('Mean absolute %Diff for the 4 predicted weeks: ', round(np.mean(abs(temp[:4]['%Diff'])),2), ' %', '\\n')\n",
    "    print(temp[:4], '\\n')"
   ]
  },
  {
   "cell_type": "code",
   "execution_count": 120,
   "metadata": {},
   "outputs": [
    {
     "data": {
      "text/html": [
       "<div>\n",
       "<style scoped>\n",
       "    .dataframe tbody tr th:only-of-type {\n",
       "        vertical-align: middle;\n",
       "    }\n",
       "\n",
       "    .dataframe tbody tr th {\n",
       "        vertical-align: top;\n",
       "    }\n",
       "\n",
       "    .dataframe thead th {\n",
       "        text-align: right;\n",
       "    }\n",
       "</style>\n",
       "<table border=\"1\" class=\"dataframe\">\n",
       "  <thead>\n",
       "    <tr style=\"text-align: right;\">\n",
       "      <th></th>\n",
       "      <th>28</th>\n",
       "      <th>29</th>\n",
       "      <th>30</th>\n",
       "      <th>31</th>\n",
       "      <th>32</th>\n",
       "      <th>33</th>\n",
       "      <th>34</th>\n",
       "      <th>35</th>\n",
       "      <th>36</th>\n",
       "    </tr>\n",
       "  </thead>\n",
       "  <tbody>\n",
       "    <tr>\n",
       "      <th>0</th>\n",
       "      <td>3.212137</td>\n",
       "      <td>0.120757</td>\n",
       "      <td>-0.050455</td>\n",
       "      <td>-1.907513</td>\n",
       "      <td>-2.221453</td>\n",
       "      <td>-12.412904</td>\n",
       "      <td>1.970416</td>\n",
       "      <td>0.814039</td>\n",
       "      <td>6.354922</td>\n",
       "    </tr>\n",
       "    <tr>\n",
       "      <th>1</th>\n",
       "      <td>-0.083340</td>\n",
       "      <td>-0.334964</td>\n",
       "      <td>-1.577266</td>\n",
       "      <td>-3.912976</td>\n",
       "      <td>-12.033067</td>\n",
       "      <td>2.179354</td>\n",
       "      <td>5.861697</td>\n",
       "      <td>5.955719</td>\n",
       "      <td>-22.048335</td>\n",
       "    </tr>\n",
       "    <tr>\n",
       "      <th>2</th>\n",
       "      <td>-0.361127</td>\n",
       "      <td>-1.507720</td>\n",
       "      <td>-4.100929</td>\n",
       "      <td>-11.982476</td>\n",
       "      <td>2.892182</td>\n",
       "      <td>5.668965</td>\n",
       "      <td>11.619303</td>\n",
       "      <td>-23.067944</td>\n",
       "      <td>-10.480709</td>\n",
       "    </tr>\n",
       "    <tr>\n",
       "      <th>3</th>\n",
       "      <td>-1.028761</td>\n",
       "      <td>-4.580696</td>\n",
       "      <td>-12.703025</td>\n",
       "      <td>3.572538</td>\n",
       "      <td>6.388795</td>\n",
       "      <td>11.853704</td>\n",
       "      <td>-23.656054</td>\n",
       "      <td>-11.205889</td>\n",
       "      <td>16.076586</td>\n",
       "    </tr>\n",
       "  </tbody>\n",
       "</table>\n",
       "</div>"
      ],
      "text/plain": [
       "         28        29         30         31         32         33         34  \\\n",
       "0  3.212137  0.120757  -0.050455  -1.907513  -2.221453 -12.412904   1.970416   \n",
       "1 -0.083340 -0.334964  -1.577266  -3.912976 -12.033067   2.179354   5.861697   \n",
       "2 -0.361127 -1.507720  -4.100929 -11.982476   2.892182   5.668965  11.619303   \n",
       "3 -1.028761 -4.580696 -12.703025   3.572538   6.388795  11.853704 -23.656054   \n",
       "\n",
       "          35         36  \n",
       "0   0.814039   6.354922  \n",
       "1   5.955719 -22.048335  \n",
       "2 -23.067944 -10.480709  \n",
       "3 -11.205889  16.076586  "
      ]
     },
     "execution_count": 120,
     "metadata": {},
     "output_type": "execute_result"
    }
   ],
   "source": [
    "batches_diff_8weeks"
   ]
  },
  {
   "cell_type": "code",
   "execution_count": 121,
   "metadata": {},
   "outputs": [
    {
     "data": {
      "image/png": "[encoded data removed]",
      "text/plain": [
       "<Figure size 720x360 with 1 Axes>"
      ]
     },
     "metadata": {
      "needs_background": "light"
     },
     "output_type": "display_data"
    }
   ],
   "source": [
    "x = batches_diff_8weeks.columns\n",
    "y = batches_diff_8weeks.apply(abs).apply(np.mean,axis=0)\n",
    "\n",
    "plt.figure(figsize=(10,5))\n",
    "plt.plot(x, y, 'k', linewidth=2, linestyle='dashdot', color='#3F7F4C', label = '% average error')\n",
    "#plt.plot(x, real_values, 'k', linewidth=2, color='#1B2ACC', label = 'Real values')\n",
    "plt.fill_between(x, 0, 10,\n",
    "    alpha=0.5, edgecolor='#1B2ACC', facecolor='#089FFF',\n",
    "    linewidth=2, antialiased=True, label = '10% range')\n",
    "\n",
    "plt.xlim(xmin=28,xmax=36)\n",
    "plt.ylim(ymin=0,ymax=17.5)\n",
    "plt.title(\"Error when predicting 8 weeks before\")\n",
    "plt.xlabel(\"Week number (2019)\")\n",
    "plt.ylabel(\"% Error\")\n",
    "plt.legend(loc=\"upper left\")\n",
    "\n",
    "plt.show()"
   ]
  },
  {
   "cell_type": "markdown",
   "metadata": {},
   "source": [
    "We can see that even when we predict further into the future, this model is still viable.\n",
    "The big deviation in week 36 is caused by the bankruptcy of the Thomas Cook company, which is a very dificult event to predict just based on the provided dataset."
   ]
  },
  {
   "cell_type": "markdown",
   "metadata": {},
   "source": [
    "## Concluding comments"
   ]
  },
  {
   "cell_type": "markdown",
   "metadata": {},
   "source": [
    "<div class=\"alert alert-block alert-info\">\n",
    "\n",
    "Overall, this model is expected to answer the needs of the client with an mean absolute error of 7% for the the first four week batch (clearly under the target of 10% requested).\n",
    "\n",
    "Some data quality issues were discovered and therefore should be addressed when implementing this model.\n",
    "\n",
    "Concerning deployment and maintenence of this project, here are our recommendations:\n",
    "* Re-run model every four weeks (minimum) and automate it;\n",
    "* Connect model directly to company database (right now model runs on limited historical data);\n",
    "\n",
    "Some improvements could still be made, especially when taken into consideration the effects of events similar to the Thomas Cook bankruptcy that skewed our results as seen above.\n",
    "\n",
    "The company can also consider the following improvments for better predictions and \n",
    "* Adding Google Maps API to better measure trips distance and duration is expected to improve model;\n",
    "* Consider offering joint trips in situations where clients have similar trips;\n",
    "* Consider running the model 4 weeks before target also, since we have seen that this will dramatically increase accuracy;\n",
    " \n",
    "</div>"
   ]
  }
 ],
 "metadata": {
  "kernelspec": {
   "display_name": "Python 3",
   "language": "python",
   "name": "python3"
  },
  "language_info": {
   "codemirror_mode": {
    "name": "ipython",
    "version": 3
   },
   "file_extension": ".py",
   "mimetype": "text/x-python",
   "name": "python",
   "nbconvert_exporter": "python",
   "pygments_lexer": "ipython3",
   "version": "3.7.3"
  }
 },
 "nbformat": 4,
 "nbformat_minor": 2
}
